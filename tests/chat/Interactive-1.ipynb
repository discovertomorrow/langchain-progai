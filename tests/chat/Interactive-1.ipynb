{
 "cells": [
  {
   "cell_type": "markdown",
   "metadata": {},
   "source": [
    "Connected to Python 3.11.7"
   ]
  },
  {
   "cell_type": "code",
   "execution_count": 1,
   "id": "c0f3fd1a-6202-46a2-be15-ce39a21bd464",
   "metadata": {},
   "outputs": [],
   "source": [
    "from typing import Any, AsyncIterator, Dict, Iterator, List, Optional"
   ]
  },
  {
   "cell_type": "code",
   "execution_count": 2,
   "id": "4985080c-d58b-4ec1-b715-938c9bc6ffb9",
   "metadata": {},
   "outputs": [],
   "source": [
    "import json\n",
    "import os\n",
    "import re\n",
    "import time\n",
    "\n",
    "import requests\n",
    "import aiohttp\n",
    "\n",
    "from langchain_core.pydantic_v1 import SecretStr, validator\n",
    "from langchain_core.utils import convert_to_secret_str, get_from_env\n",
    "from langchain_core.callbacks import AsyncCallbackManagerForLLMRun, CallbackManagerForLLMRun\n",
    "from langchain_core.language_models import BaseLLM, BaseLanguageModel\n",
    "from langchain_core.outputs import GenerationChunk, LLMResult\n",
    "\n",
    "from typing import Any, AsyncIterator, Dict, Iterator, List, Optional"
   ]
  },
  {
   "cell_type": "code",
   "execution_count": 3,
   "id": "ca899388-9f23-42ec-a8c2-1c864e094bd0",
   "metadata": {},
   "outputs": [
    {
     "ename": "ImportError",
     "evalue": "attempted relative import with no known parent package",
     "output_type": "error",
     "traceback": [
      "\u001b[0;31m---------------------------------------------------------------------------\u001b[0m",
      "\u001b[0;31mImportError\u001b[0m                               Traceback (most recent call last)",
      "File \u001b[1;32m/workspaces/langchain-progai/langchain_progai/completion/__init__.py:1\u001b[0m\n\u001b[0;32m----> 1\u001b[0m \u001b[39mfrom\u001b[39;00m \u001b[39m.\u001b[39;00m\u001b[39mllamacpp\u001b[39;00m \u001b[39mimport\u001b[39;00m LlamaCppServer\n",
      "\u001b[0;31mImportError\u001b[0m: attempted relative import with no known parent package"
     ]
    }
   ],
   "source": [
    "from .llamacpp import LlamaCppServer"
   ]
  },
  {
   "cell_type": "code",
   "execution_count": 4,
   "id": "31d95ef5-c83d-4f70-bb12-37cf5a789d3c",
   "metadata": {},
   "outputs": [],
   "source": [
    "from langchain_core.messages import BaseMessage\n",
    "from langchain_core.language_models import BaseChatModel\n",
    "from langchain_core.runnables import RunnableLambda\n",
    "\n",
    "from abc import abstractmethod\n",
    "from typing import List\n",
    "\n",
    "\n",
    "class ProgaiChatModel(BaseChatModel):\n",
    "    @abstractmethod\n",
    "    def _prompt_from_template(self, messages: List[BaseMessage]) -> str:\n",
    "        \"Prompt to string\"\n",
    "\n",
    "    def _prompt_debugger_lambda(self, input):\n",
    "        print(self._prompt_from_template(input.messages))\n",
    "        return input\n",
    "\n",
    "    def get_prompt_debugger_runnable(self) -> RunnableLambda:\n",
    "        return RunnableLambda(self._prompt_debugger_lambda)"
   ]
  },
  {
   "cell_type": "code",
   "execution_count": 5,
   "metadata": {},
   "outputs": [
    {
     "ename": "TypeError",
     "evalue": "Can't instantiate abstract class ProgaiChatModel with abstract methods _generate, _llm_type, _prompt_from_template",
     "output_type": "error",
     "traceback": [
      "\u001b[0;31m---------------------------------------------------------------------------\u001b[0m",
      "\u001b[0;31mTypeError\u001b[0m                                 Traceback (most recent call last)",
      "Cell \u001b[0;32mIn[5], line 1\u001b[0m\n\u001b[0;32m----> 1\u001b[0m model \u001b[39m=\u001b[39m ProgaiChatModel()\n",
      "\u001b[0;31mTypeError\u001b[0m: Can't instantiate abstract class ProgaiChatModel with abstract methods _generate, _llm_type, _prompt_from_template"
     ]
    }
   ],
   "source": [
    "model = ProgaiChatModel()"
   ]
  },
  {
   "cell_type": "code",
   "execution_count": 6,
   "metadata": {},
   "outputs": [],
   "source": [
    "extra_stop = [\"bla\"]"
   ]
  },
  {
   "cell_type": "code",
   "execution_count": 7,
   "metadata": {},
   "outputs": [],
   "source": [
    "test = [\"blö\", *extra_stop]"
   ]
  },
  {
   "cell_type": "code",
   "execution_count": 8,
   "metadata": {},
   "outputs": [
    {
     "data": {
      "text/plain": [
       "['blö', 'bla']"
      ]
     },
     "execution_count": 8,
     "metadata": {},
     "output_type": "execute_result"
    }
   ],
   "source": [
    "test"
   ]
  },
  {
   "cell_type": "code",
   "execution_count": 9,
   "metadata": {},
   "outputs": [
    {
     "data": {
      "text/plain": [
       "['blö', 'bla']"
      ]
     },
     "execution_count": 9,
     "metadata": {},
     "output_type": "execute_result"
    }
   ],
   "source": [
    "[\"blö\", *extra_stop]"
   ]
  },
  {
   "cell_type": "code",
   "execution_count": 10,
   "metadata": {},
   "outputs": [
    {
     "ename": "TypeError",
     "evalue": "Value after * must be an iterable, not NoneType",
     "output_type": "error",
     "traceback": [
      "\u001b[0;31m---------------------------------------------------------------------------\u001b[0m",
      "\u001b[0;31mTypeError\u001b[0m                                 Traceback (most recent call last)",
      "Cell \u001b[0;32mIn[10], line 2\u001b[0m\n\u001b[1;32m      1\u001b[0m extra_stop \u001b[39m=\u001b[39m \u001b[39mNone\u001b[39;00m\n\u001b[0;32m----> 2\u001b[0m [\u001b[39m\"\u001b[39m\u001b[39mblö\u001b[39m\u001b[39m\"\u001b[39m, \u001b[39m*\u001b[39mextra_stop]\n",
      "\u001b[0;31mTypeError\u001b[0m: Value after * must be an iterable, not NoneType"
     ]
    }
   ],
   "source": [
    "extra_stop = None\n",
    "[\"blö\", *extra_stop]"
   ]
  },
  {
   "cell_type": "code",
   "execution_count": 11,
   "metadata": {},
   "outputs": [
    {
     "data": {
      "text/plain": [
       "[]"
      ]
     },
     "execution_count": 11,
     "metadata": {},
     "output_type": "execute_result"
    }
   ],
   "source": [
    "extra_stop = None\n",
    "extra_stop or []"
   ]
  },
  {
   "cell_type": "code",
   "execution_count": 12,
   "metadata": {},
   "outputs": [
    {
     "data": {
      "text/plain": [
       "'bla'"
      ]
     },
     "execution_count": 12,
     "metadata": {},
     "output_type": "execute_result"
    }
   ],
   "source": [
    "extra_stop = \"bla\"\n",
    "extra_stop or []"
   ]
  },
  {
   "cell_type": "code",
   "execution_count": 13,
   "metadata": {},
   "outputs": [
    {
     "data": {
      "text/plain": [
       "['blö', 'b', 'l', 'a']"
      ]
     },
     "execution_count": 13,
     "metadata": {},
     "output_type": "execute_result"
    }
   ],
   "source": [
    "extra_stop = \"bla\"\n",
    "[\"blö\", *(extra_stop or [])]"
   ]
  },
  {
   "cell_type": "code",
   "execution_count": 14,
   "metadata": {},
   "outputs": [
    {
     "data": {
      "text/plain": [
       "['blö', 'bla']"
      ]
     },
     "execution_count": 14,
     "metadata": {},
     "output_type": "execute_result"
    }
   ],
   "source": [
    "extra_stop = [\"bla\"]\n",
    "[\"blö\", *(extra_stop or [])]"
   ]
  },
  {
   "cell_type": "code",
   "execution_count": 15,
   "metadata": {},
   "outputs": [
    {
     "data": {
      "text/plain": [
       "['blö']"
      ]
     },
     "execution_count": 15,
     "metadata": {},
     "output_type": "execute_result"
    }
   ],
   "source": [
    "extra_stop = None\n",
    "[\"blö\", *(extra_stop or [])]"
   ]
  },
  {
   "cell_type": "code",
   "execution_count": 16,
   "id": "b0322c93-6eee-4467-8cbb-34fce0fa99fe",
   "metadata": {},
   "outputs": [],
   "source": [
    "import yaml"
   ]
  },
  {
   "cell_type": "code",
   "execution_count": 17,
   "id": "723ec555-7736-4989-b713-22c629f739f9",
   "metadata": {},
   "outputs": [],
   "source": [
    "def load_config(path: str = \"config.yaml\"):\n",
    "    \"\"\"Utility function to load a langchain_progai configuration with model endpoints.\"\"\"\n",
    "    with open(path, 'r') as file:\n",
    "        config = yaml.safe_load(file)\n",
    "    return config"
   ]
  },
  {
   "cell_type": "code",
   "execution_count": 18,
   "metadata": {},
   "outputs": [
    {
     "ename": "FileNotFoundError",
     "evalue": "[Errno 2] No such file or directory: 'config.yaml'",
     "output_type": "error",
     "traceback": [
      "\u001b[0;31m---------------------------------------------------------------------------\u001b[0m",
      "\u001b[0;31mFileNotFoundError\u001b[0m                         Traceback (most recent call last)",
      "Cell \u001b[0;32mIn[18], line 1\u001b[0m\n\u001b[0;32m----> 1\u001b[0m load_config()\n",
      "File \u001b[1;32m/workspaces/langchain-progai/langchain_progai/config.py:3\u001b[0m\n\u001b[1;32m      1\u001b[0m \u001b[39mdef\u001b[39;00m \u001b[39mload_config\u001b[39m(path: \u001b[39mstr\u001b[39m \u001b[39m=\u001b[39m \u001b[39m\"\u001b[39m\u001b[39mconfig.yaml\u001b[39m\u001b[39m\"\u001b[39m):\n\u001b[1;32m      2\u001b[0m \u001b[39m    \u001b[39m\u001b[39m\"\"\"Utility function to load a langchain_progai configuration with model endpoints.\"\"\"\u001b[39;00m\n\u001b[0;32m----> 3\u001b[0m     \u001b[39mwith\u001b[39;00m \u001b[39mopen\u001b[39;49m(path, \u001b[39m'\u001b[39;49m\u001b[39mr\u001b[39;49m\u001b[39m'\u001b[39;49m) \u001b[39mas\u001b[39;00m file:\n\u001b[1;32m      4\u001b[0m         config \u001b[39m=\u001b[39m yaml\u001b[39m.\u001b[39msafe_load(file)\n\u001b[1;32m      5\u001b[0m     \u001b[39mreturn\u001b[39;00m config\n",
      "File \u001b[0;32m/usr/local/lib/python3.11/site-packages/IPython/core/interactiveshell.py:324\u001b[0m, in \u001b[0;36m_modified_open\u001b[0;34m(file, *args, **kwargs)\u001b[0m\n\u001b[1;32m    317\u001b[0m \u001b[39mif\u001b[39;00m file \u001b[39min\u001b[39;00m {\u001b[39m0\u001b[39m, \u001b[39m1\u001b[39m, \u001b[39m2\u001b[39m}:\n\u001b[1;32m    318\u001b[0m     \u001b[39mraise\u001b[39;00m \u001b[39mValueError\u001b[39;00m(\n\u001b[1;32m    319\u001b[0m         \u001b[39mf\u001b[39m\u001b[39m\"\u001b[39m\u001b[39mIPython won\u001b[39m\u001b[39m'\u001b[39m\u001b[39mt let you open fd=\u001b[39m\u001b[39m{\u001b[39;00mfile\u001b[39m}\u001b[39;00m\u001b[39m by default \u001b[39m\u001b[39m\"\u001b[39m\n\u001b[1;32m    320\u001b[0m         \u001b[39m\"\u001b[39m\u001b[39mas it is likely to crash IPython. If you know what you are doing, \u001b[39m\u001b[39m\"\u001b[39m\n\u001b[1;32m    321\u001b[0m         \u001b[39m\"\u001b[39m\u001b[39myou can use builtins\u001b[39m\u001b[39m'\u001b[39m\u001b[39m open.\u001b[39m\u001b[39m\"\u001b[39m\n\u001b[1;32m    322\u001b[0m     )\n\u001b[0;32m--> 324\u001b[0m \u001b[39mreturn\u001b[39;00m io_open(file, \u001b[39m*\u001b[39;49margs, \u001b[39m*\u001b[39;49m\u001b[39m*\u001b[39;49mkwargs)\n",
      "\u001b[0;31mFileNotFoundError\u001b[0m: [Errno 2] No such file or directory: 'config.yaml'"
     ]
    }
   ],
   "source": [
    "load_config()"
   ]
  },
  {
   "cell_type": "code",
   "execution_count": 19,
   "metadata": {},
   "outputs": [
    {
     "ename": "ScannerError",
     "evalue": "mapping values are not allowed here\n  in \"../config.py\", line 4, column 21",
     "output_type": "error",
     "traceback": [
      "\u001b[0;31m---------------------------------------------------------------------------\u001b[0m",
      "\u001b[0;31mScannerError\u001b[0m                              Traceback (most recent call last)",
      "Cell \u001b[0;32mIn[19], line 1\u001b[0m\n\u001b[0;32m----> 1\u001b[0m load_config(\u001b[39m\"\u001b[39;49m\u001b[39m../config.py\u001b[39;49m\u001b[39m\"\u001b[39;49m)\n",
      "File \u001b[1;32m/workspaces/langchain-progai/langchain_progai/config.py:4\u001b[0m\n\u001b[1;32m      2\u001b[0m \u001b[39m\u001b[39m\u001b[39m\"\"\"Utility function to load a langchain_progai configuration with model endpoints.\"\"\"\u001b[39;00m\n\u001b[1;32m      3\u001b[0m \u001b[39mwith\u001b[39;00m \u001b[39mopen\u001b[39m(path, \u001b[39m'\u001b[39m\u001b[39mr\u001b[39m\u001b[39m'\u001b[39m) \u001b[39mas\u001b[39;00m file:\n\u001b[0;32m----> 4\u001b[0m     config \u001b[39m=\u001b[39m yaml\u001b[39m.\u001b[39;49msafe_load(file)\n\u001b[1;32m      5\u001b[0m \u001b[39mreturn\u001b[39;00m config\n",
      "File \u001b[0;32m/usr/local/lib/python3.11/site-packages/yaml/__init__.py:125\u001b[0m, in \u001b[0;36msafe_load\u001b[0;34m(stream)\u001b[0m\n\u001b[1;32m    117\u001b[0m \u001b[39mdef\u001b[39;00m \u001b[39msafe_load\u001b[39m(stream):\n\u001b[1;32m    118\u001b[0m \u001b[39m    \u001b[39m\u001b[39m\"\"\"\u001b[39;00m\n\u001b[1;32m    119\u001b[0m \u001b[39m    Parse the first YAML document in a stream\u001b[39;00m\n\u001b[1;32m    120\u001b[0m \u001b[39m    and produce the corresponding Python object.\u001b[39;00m\n\u001b[0;32m   (...)\u001b[0m\n\u001b[1;32m    123\u001b[0m \u001b[39m    to be safe for untrusted input.\u001b[39;00m\n\u001b[1;32m    124\u001b[0m \u001b[39m    \"\"\"\u001b[39;00m\n\u001b[0;32m--> 125\u001b[0m     \u001b[39mreturn\u001b[39;00m load(stream, SafeLoader)\n",
      "File \u001b[0;32m/usr/local/lib/python3.11/site-packages/yaml/__init__.py:81\u001b[0m, in \u001b[0;36mload\u001b[0;34m(stream, Loader)\u001b[0m\n\u001b[1;32m     79\u001b[0m loader \u001b[39m=\u001b[39m Loader(stream)\n\u001b[1;32m     80\u001b[0m \u001b[39mtry\u001b[39;00m:\n\u001b[0;32m---> 81\u001b[0m     \u001b[39mreturn\u001b[39;00m loader\u001b[39m.\u001b[39;49mget_single_data()\n\u001b[1;32m     82\u001b[0m \u001b[39mfinally\u001b[39;00m:\n\u001b[1;32m     83\u001b[0m     loader\u001b[39m.\u001b[39mdispose()\n",
      "File \u001b[0;32m/usr/local/lib/python3.11/site-packages/yaml/constructor.py:49\u001b[0m, in \u001b[0;36mBaseConstructor.get_single_data\u001b[0;34m(self)\u001b[0m\n\u001b[1;32m     47\u001b[0m \u001b[39mdef\u001b[39;00m \u001b[39mget_single_data\u001b[39m(\u001b[39mself\u001b[39m):\n\u001b[1;32m     48\u001b[0m     \u001b[39m# Ensure that the stream contains a single document and construct it.\u001b[39;00m\n\u001b[0;32m---> 49\u001b[0m     node \u001b[39m=\u001b[39m \u001b[39mself\u001b[39;49m\u001b[39m.\u001b[39;49mget_single_node()\n\u001b[1;32m     50\u001b[0m     \u001b[39mif\u001b[39;00m node \u001b[39mis\u001b[39;00m \u001b[39mnot\u001b[39;00m \u001b[39mNone\u001b[39;00m:\n\u001b[1;32m     51\u001b[0m         \u001b[39mreturn\u001b[39;00m \u001b[39mself\u001b[39m\u001b[39m.\u001b[39mconstruct_document(node)\n",
      "File \u001b[0;32m/usr/local/lib/python3.11/site-packages/yaml/composer.py:36\u001b[0m, in \u001b[0;36mComposer.get_single_node\u001b[0;34m(self)\u001b[0m\n\u001b[1;32m     34\u001b[0m document \u001b[39m=\u001b[39m \u001b[39mNone\u001b[39;00m\n\u001b[1;32m     35\u001b[0m \u001b[39mif\u001b[39;00m \u001b[39mnot\u001b[39;00m \u001b[39mself\u001b[39m\u001b[39m.\u001b[39mcheck_event(StreamEndEvent):\n\u001b[0;32m---> 36\u001b[0m     document \u001b[39m=\u001b[39m \u001b[39mself\u001b[39;49m\u001b[39m.\u001b[39;49mcompose_document()\n\u001b[1;32m     38\u001b[0m \u001b[39m# Ensure that the stream contains no more documents.\u001b[39;00m\n\u001b[1;32m     39\u001b[0m \u001b[39mif\u001b[39;00m \u001b[39mnot\u001b[39;00m \u001b[39mself\u001b[39m\u001b[39m.\u001b[39mcheck_event(StreamEndEvent):\n",
      "File \u001b[0;32m/usr/local/lib/python3.11/site-packages/yaml/composer.py:58\u001b[0m, in \u001b[0;36mComposer.compose_document\u001b[0;34m(self)\u001b[0m\n\u001b[1;32m     55\u001b[0m node \u001b[39m=\u001b[39m \u001b[39mself\u001b[39m\u001b[39m.\u001b[39mcompose_node(\u001b[39mNone\u001b[39;00m, \u001b[39mNone\u001b[39;00m)\n\u001b[1;32m     57\u001b[0m \u001b[39m# Drop the DOCUMENT-END event.\u001b[39;00m\n\u001b[0;32m---> 58\u001b[0m \u001b[39mself\u001b[39;49m\u001b[39m.\u001b[39;49mget_event()\n\u001b[1;32m     60\u001b[0m \u001b[39mself\u001b[39m\u001b[39m.\u001b[39manchors \u001b[39m=\u001b[39m {}\n\u001b[1;32m     61\u001b[0m \u001b[39mreturn\u001b[39;00m node\n",
      "File \u001b[0;32m/usr/local/lib/python3.11/site-packages/yaml/parser.py:118\u001b[0m, in \u001b[0;36mParser.get_event\u001b[0;34m(self)\u001b[0m\n\u001b[1;32m    116\u001b[0m \u001b[39mif\u001b[39;00m \u001b[39mself\u001b[39m\u001b[39m.\u001b[39mcurrent_event \u001b[39mis\u001b[39;00m \u001b[39mNone\u001b[39;00m:\n\u001b[1;32m    117\u001b[0m     \u001b[39mif\u001b[39;00m \u001b[39mself\u001b[39m\u001b[39m.\u001b[39mstate:\n\u001b[0;32m--> 118\u001b[0m         \u001b[39mself\u001b[39m\u001b[39m.\u001b[39mcurrent_event \u001b[39m=\u001b[39m \u001b[39mself\u001b[39;49m\u001b[39m.\u001b[39;49mstate()\n\u001b[1;32m    119\u001b[0m value \u001b[39m=\u001b[39m \u001b[39mself\u001b[39m\u001b[39m.\u001b[39mcurrent_event\n\u001b[1;32m    120\u001b[0m \u001b[39mself\u001b[39m\u001b[39m.\u001b[39mcurrent_event \u001b[39m=\u001b[39m \u001b[39mNone\u001b[39;00m\n",
      "File \u001b[0;32m/usr/local/lib/python3.11/site-packages/yaml/parser.py:193\u001b[0m, in \u001b[0;36mParser.parse_document_end\u001b[0;34m(self)\u001b[0m\n\u001b[1;32m    190\u001b[0m \u001b[39mdef\u001b[39;00m \u001b[39mparse_document_end\u001b[39m(\u001b[39mself\u001b[39m):\n\u001b[1;32m    191\u001b[0m \n\u001b[1;32m    192\u001b[0m     \u001b[39m# Parse the document end.\u001b[39;00m\n\u001b[0;32m--> 193\u001b[0m     token \u001b[39m=\u001b[39m \u001b[39mself\u001b[39;49m\u001b[39m.\u001b[39;49mpeek_token()\n\u001b[1;32m    194\u001b[0m     start_mark \u001b[39m=\u001b[39m end_mark \u001b[39m=\u001b[39m token\u001b[39m.\u001b[39mstart_mark\n\u001b[1;32m    195\u001b[0m     explicit \u001b[39m=\u001b[39m \u001b[39mFalse\u001b[39;00m\n",
      "File \u001b[0;32m/usr/local/lib/python3.11/site-packages/yaml/scanner.py:129\u001b[0m, in \u001b[0;36mScanner.peek_token\u001b[0;34m(self)\u001b[0m\n\u001b[1;32m    125\u001b[0m \u001b[39mdef\u001b[39;00m \u001b[39mpeek_token\u001b[39m(\u001b[39mself\u001b[39m):\n\u001b[1;32m    126\u001b[0m     \u001b[39m# Return the next token, but do not delete if from the queue.\u001b[39;00m\n\u001b[1;32m    127\u001b[0m     \u001b[39m# Return None if no more tokens.\u001b[39;00m\n\u001b[1;32m    128\u001b[0m     \u001b[39mwhile\u001b[39;00m \u001b[39mself\u001b[39m\u001b[39m.\u001b[39mneed_more_tokens():\n\u001b[0;32m--> 129\u001b[0m         \u001b[39mself\u001b[39;49m\u001b[39m.\u001b[39;49mfetch_more_tokens()\n\u001b[1;32m    130\u001b[0m     \u001b[39mif\u001b[39;00m \u001b[39mself\u001b[39m\u001b[39m.\u001b[39mtokens:\n\u001b[1;32m    131\u001b[0m         \u001b[39mreturn\u001b[39;00m \u001b[39mself\u001b[39m\u001b[39m.\u001b[39mtokens[\u001b[39m0\u001b[39m]\n",
      "File \u001b[0;32m/usr/local/lib/python3.11/site-packages/yaml/scanner.py:223\u001b[0m, in \u001b[0;36mScanner.fetch_more_tokens\u001b[0;34m(self)\u001b[0m\n\u001b[1;32m    221\u001b[0m \u001b[39m# Is it the value indicator?\u001b[39;00m\n\u001b[1;32m    222\u001b[0m \u001b[39mif\u001b[39;00m ch \u001b[39m==\u001b[39m \u001b[39m'\u001b[39m\u001b[39m:\u001b[39m\u001b[39m'\u001b[39m \u001b[39mand\u001b[39;00m \u001b[39mself\u001b[39m\u001b[39m.\u001b[39mcheck_value():\n\u001b[0;32m--> 223\u001b[0m     \u001b[39mreturn\u001b[39;00m \u001b[39mself\u001b[39;49m\u001b[39m.\u001b[39;49mfetch_value()\n\u001b[1;32m    225\u001b[0m \u001b[39m# Is it an alias?\u001b[39;00m\n\u001b[1;32m    226\u001b[0m \u001b[39mif\u001b[39;00m ch \u001b[39m==\u001b[39m \u001b[39m'\u001b[39m\u001b[39m*\u001b[39m\u001b[39m'\u001b[39m:\n",
      "File \u001b[0;32m/usr/local/lib/python3.11/site-packages/yaml/scanner.py:577\u001b[0m, in \u001b[0;36mScanner.fetch_value\u001b[0;34m(self)\u001b[0m\n\u001b[1;32m    572\u001b[0m \u001b[39mif\u001b[39;00m \u001b[39mnot\u001b[39;00m \u001b[39mself\u001b[39m\u001b[39m.\u001b[39mflow_level:\n\u001b[1;32m    573\u001b[0m \n\u001b[1;32m    574\u001b[0m     \u001b[39m# We are allowed to start a complex value if and only if\u001b[39;00m\n\u001b[1;32m    575\u001b[0m     \u001b[39m# we can start a simple key.\u001b[39;00m\n\u001b[1;32m    576\u001b[0m     \u001b[39mif\u001b[39;00m \u001b[39mnot\u001b[39;00m \u001b[39mself\u001b[39m\u001b[39m.\u001b[39mallow_simple_key:\n\u001b[0;32m--> 577\u001b[0m         \u001b[39mraise\u001b[39;00m ScannerError(\u001b[39mNone\u001b[39;00m, \u001b[39mNone\u001b[39;00m,\n\u001b[1;32m    578\u001b[0m                 \u001b[39m\"\u001b[39m\u001b[39mmapping values are not allowed here\u001b[39m\u001b[39m\"\u001b[39m,\n\u001b[1;32m    579\u001b[0m                 \u001b[39mself\u001b[39m\u001b[39m.\u001b[39mget_mark())\n\u001b[1;32m    581\u001b[0m \u001b[39m# If this value starts a new block mapping, we need to add\u001b[39;00m\n\u001b[1;32m    582\u001b[0m \u001b[39m# BLOCK-MAPPING-START.  It will be detected as an error later by\u001b[39;00m\n\u001b[1;32m    583\u001b[0m \u001b[39m# the parser.\u001b[39;00m\n\u001b[1;32m    584\u001b[0m \u001b[39mif\u001b[39;00m \u001b[39mnot\u001b[39;00m \u001b[39mself\u001b[39m\u001b[39m.\u001b[39mflow_level:\n",
      "\u001b[0;31mScannerError\u001b[0m: mapping values are not allowed here\n  in \"../config.py\", line 4, column 21"
     ]
    }
   ],
   "source": [
    "load_config(\"../config.py\")"
   ]
  },
  {
   "cell_type": "code",
   "execution_count": 20,
   "metadata": {},
   "outputs": [
    {
     "ename": "ScannerError",
     "evalue": "mapping values are not allowed here\n  in \"../config.py\", line 4, column 21",
     "output_type": "error",
     "traceback": [
      "\u001b[0;31m---------------------------------------------------------------------------\u001b[0m",
      "\u001b[0;31mScannerError\u001b[0m                              Traceback (most recent call last)",
      "Cell \u001b[0;32mIn[20], line 1\u001b[0m\n\u001b[0;32m----> 1\u001b[0m load_config(\u001b[39m\"\u001b[39;49m\u001b[39m../config.py\u001b[39;49m\u001b[39m\"\u001b[39;49m)\n",
      "File \u001b[1;32m/workspaces/langchain-progai/langchain_progai/config.py:4\u001b[0m\n\u001b[1;32m      2\u001b[0m \u001b[39m\u001b[39m\u001b[39m\"\"\"Utility function to load a langchain_progai configuration with model endpoints.\"\"\"\u001b[39;00m\n\u001b[1;32m      3\u001b[0m \u001b[39mwith\u001b[39;00m \u001b[39mopen\u001b[39m(path, \u001b[39m'\u001b[39m\u001b[39mr\u001b[39m\u001b[39m'\u001b[39m) \u001b[39mas\u001b[39;00m file:\n\u001b[0;32m----> 4\u001b[0m     config \u001b[39m=\u001b[39m yaml\u001b[39m.\u001b[39;49msafe_load(file)\n\u001b[1;32m      5\u001b[0m \u001b[39mreturn\u001b[39;00m config\n",
      "File \u001b[0;32m/usr/local/lib/python3.11/site-packages/yaml/__init__.py:125\u001b[0m, in \u001b[0;36msafe_load\u001b[0;34m(stream)\u001b[0m\n\u001b[1;32m    117\u001b[0m \u001b[39mdef\u001b[39;00m \u001b[39msafe_load\u001b[39m(stream):\n\u001b[1;32m    118\u001b[0m \u001b[39m    \u001b[39m\u001b[39m\"\"\"\u001b[39;00m\n\u001b[1;32m    119\u001b[0m \u001b[39m    Parse the first YAML document in a stream\u001b[39;00m\n\u001b[1;32m    120\u001b[0m \u001b[39m    and produce the corresponding Python object.\u001b[39;00m\n\u001b[0;32m   (...)\u001b[0m\n\u001b[1;32m    123\u001b[0m \u001b[39m    to be safe for untrusted input.\u001b[39;00m\n\u001b[1;32m    124\u001b[0m \u001b[39m    \"\"\"\u001b[39;00m\n\u001b[0;32m--> 125\u001b[0m     \u001b[39mreturn\u001b[39;00m load(stream, SafeLoader)\n",
      "File \u001b[0;32m/usr/local/lib/python3.11/site-packages/yaml/__init__.py:81\u001b[0m, in \u001b[0;36mload\u001b[0;34m(stream, Loader)\u001b[0m\n\u001b[1;32m     79\u001b[0m loader \u001b[39m=\u001b[39m Loader(stream)\n\u001b[1;32m     80\u001b[0m \u001b[39mtry\u001b[39;00m:\n\u001b[0;32m---> 81\u001b[0m     \u001b[39mreturn\u001b[39;00m loader\u001b[39m.\u001b[39;49mget_single_data()\n\u001b[1;32m     82\u001b[0m \u001b[39mfinally\u001b[39;00m:\n\u001b[1;32m     83\u001b[0m     loader\u001b[39m.\u001b[39mdispose()\n",
      "File \u001b[0;32m/usr/local/lib/python3.11/site-packages/yaml/constructor.py:49\u001b[0m, in \u001b[0;36mBaseConstructor.get_single_data\u001b[0;34m(self)\u001b[0m\n\u001b[1;32m     47\u001b[0m \u001b[39mdef\u001b[39;00m \u001b[39mget_single_data\u001b[39m(\u001b[39mself\u001b[39m):\n\u001b[1;32m     48\u001b[0m     \u001b[39m# Ensure that the stream contains a single document and construct it.\u001b[39;00m\n\u001b[0;32m---> 49\u001b[0m     node \u001b[39m=\u001b[39m \u001b[39mself\u001b[39;49m\u001b[39m.\u001b[39;49mget_single_node()\n\u001b[1;32m     50\u001b[0m     \u001b[39mif\u001b[39;00m node \u001b[39mis\u001b[39;00m \u001b[39mnot\u001b[39;00m \u001b[39mNone\u001b[39;00m:\n\u001b[1;32m     51\u001b[0m         \u001b[39mreturn\u001b[39;00m \u001b[39mself\u001b[39m\u001b[39m.\u001b[39mconstruct_document(node)\n",
      "File \u001b[0;32m/usr/local/lib/python3.11/site-packages/yaml/composer.py:36\u001b[0m, in \u001b[0;36mComposer.get_single_node\u001b[0;34m(self)\u001b[0m\n\u001b[1;32m     34\u001b[0m document \u001b[39m=\u001b[39m \u001b[39mNone\u001b[39;00m\n\u001b[1;32m     35\u001b[0m \u001b[39mif\u001b[39;00m \u001b[39mnot\u001b[39;00m \u001b[39mself\u001b[39m\u001b[39m.\u001b[39mcheck_event(StreamEndEvent):\n\u001b[0;32m---> 36\u001b[0m     document \u001b[39m=\u001b[39m \u001b[39mself\u001b[39;49m\u001b[39m.\u001b[39;49mcompose_document()\n\u001b[1;32m     38\u001b[0m \u001b[39m# Ensure that the stream contains no more documents.\u001b[39;00m\n\u001b[1;32m     39\u001b[0m \u001b[39mif\u001b[39;00m \u001b[39mnot\u001b[39;00m \u001b[39mself\u001b[39m\u001b[39m.\u001b[39mcheck_event(StreamEndEvent):\n",
      "File \u001b[0;32m/usr/local/lib/python3.11/site-packages/yaml/composer.py:58\u001b[0m, in \u001b[0;36mComposer.compose_document\u001b[0;34m(self)\u001b[0m\n\u001b[1;32m     55\u001b[0m node \u001b[39m=\u001b[39m \u001b[39mself\u001b[39m\u001b[39m.\u001b[39mcompose_node(\u001b[39mNone\u001b[39;00m, \u001b[39mNone\u001b[39;00m)\n\u001b[1;32m     57\u001b[0m \u001b[39m# Drop the DOCUMENT-END event.\u001b[39;00m\n\u001b[0;32m---> 58\u001b[0m \u001b[39mself\u001b[39;49m\u001b[39m.\u001b[39;49mget_event()\n\u001b[1;32m     60\u001b[0m \u001b[39mself\u001b[39m\u001b[39m.\u001b[39manchors \u001b[39m=\u001b[39m {}\n\u001b[1;32m     61\u001b[0m \u001b[39mreturn\u001b[39;00m node\n",
      "File \u001b[0;32m/usr/local/lib/python3.11/site-packages/yaml/parser.py:118\u001b[0m, in \u001b[0;36mParser.get_event\u001b[0;34m(self)\u001b[0m\n\u001b[1;32m    116\u001b[0m \u001b[39mif\u001b[39;00m \u001b[39mself\u001b[39m\u001b[39m.\u001b[39mcurrent_event \u001b[39mis\u001b[39;00m \u001b[39mNone\u001b[39;00m:\n\u001b[1;32m    117\u001b[0m     \u001b[39mif\u001b[39;00m \u001b[39mself\u001b[39m\u001b[39m.\u001b[39mstate:\n\u001b[0;32m--> 118\u001b[0m         \u001b[39mself\u001b[39m\u001b[39m.\u001b[39mcurrent_event \u001b[39m=\u001b[39m \u001b[39mself\u001b[39;49m\u001b[39m.\u001b[39;49mstate()\n\u001b[1;32m    119\u001b[0m value \u001b[39m=\u001b[39m \u001b[39mself\u001b[39m\u001b[39m.\u001b[39mcurrent_event\n\u001b[1;32m    120\u001b[0m \u001b[39mself\u001b[39m\u001b[39m.\u001b[39mcurrent_event \u001b[39m=\u001b[39m \u001b[39mNone\u001b[39;00m\n",
      "File \u001b[0;32m/usr/local/lib/python3.11/site-packages/yaml/parser.py:193\u001b[0m, in \u001b[0;36mParser.parse_document_end\u001b[0;34m(self)\u001b[0m\n\u001b[1;32m    190\u001b[0m \u001b[39mdef\u001b[39;00m \u001b[39mparse_document_end\u001b[39m(\u001b[39mself\u001b[39m):\n\u001b[1;32m    191\u001b[0m \n\u001b[1;32m    192\u001b[0m     \u001b[39m# Parse the document end.\u001b[39;00m\n\u001b[0;32m--> 193\u001b[0m     token \u001b[39m=\u001b[39m \u001b[39mself\u001b[39;49m\u001b[39m.\u001b[39;49mpeek_token()\n\u001b[1;32m    194\u001b[0m     start_mark \u001b[39m=\u001b[39m end_mark \u001b[39m=\u001b[39m token\u001b[39m.\u001b[39mstart_mark\n\u001b[1;32m    195\u001b[0m     explicit \u001b[39m=\u001b[39m \u001b[39mFalse\u001b[39;00m\n",
      "File \u001b[0;32m/usr/local/lib/python3.11/site-packages/yaml/scanner.py:129\u001b[0m, in \u001b[0;36mScanner.peek_token\u001b[0;34m(self)\u001b[0m\n\u001b[1;32m    125\u001b[0m \u001b[39mdef\u001b[39;00m \u001b[39mpeek_token\u001b[39m(\u001b[39mself\u001b[39m):\n\u001b[1;32m    126\u001b[0m     \u001b[39m# Return the next token, but do not delete if from the queue.\u001b[39;00m\n\u001b[1;32m    127\u001b[0m     \u001b[39m# Return None if no more tokens.\u001b[39;00m\n\u001b[1;32m    128\u001b[0m     \u001b[39mwhile\u001b[39;00m \u001b[39mself\u001b[39m\u001b[39m.\u001b[39mneed_more_tokens():\n\u001b[0;32m--> 129\u001b[0m         \u001b[39mself\u001b[39;49m\u001b[39m.\u001b[39;49mfetch_more_tokens()\n\u001b[1;32m    130\u001b[0m     \u001b[39mif\u001b[39;00m \u001b[39mself\u001b[39m\u001b[39m.\u001b[39mtokens:\n\u001b[1;32m    131\u001b[0m         \u001b[39mreturn\u001b[39;00m \u001b[39mself\u001b[39m\u001b[39m.\u001b[39mtokens[\u001b[39m0\u001b[39m]\n",
      "File \u001b[0;32m/usr/local/lib/python3.11/site-packages/yaml/scanner.py:223\u001b[0m, in \u001b[0;36mScanner.fetch_more_tokens\u001b[0;34m(self)\u001b[0m\n\u001b[1;32m    221\u001b[0m \u001b[39m# Is it the value indicator?\u001b[39;00m\n\u001b[1;32m    222\u001b[0m \u001b[39mif\u001b[39;00m ch \u001b[39m==\u001b[39m \u001b[39m'\u001b[39m\u001b[39m:\u001b[39m\u001b[39m'\u001b[39m \u001b[39mand\u001b[39;00m \u001b[39mself\u001b[39m\u001b[39m.\u001b[39mcheck_value():\n\u001b[0;32m--> 223\u001b[0m     \u001b[39mreturn\u001b[39;00m \u001b[39mself\u001b[39;49m\u001b[39m.\u001b[39;49mfetch_value()\n\u001b[1;32m    225\u001b[0m \u001b[39m# Is it an alias?\u001b[39;00m\n\u001b[1;32m    226\u001b[0m \u001b[39mif\u001b[39;00m ch \u001b[39m==\u001b[39m \u001b[39m'\u001b[39m\u001b[39m*\u001b[39m\u001b[39m'\u001b[39m:\n",
      "File \u001b[0;32m/usr/local/lib/python3.11/site-packages/yaml/scanner.py:577\u001b[0m, in \u001b[0;36mScanner.fetch_value\u001b[0;34m(self)\u001b[0m\n\u001b[1;32m    572\u001b[0m \u001b[39mif\u001b[39;00m \u001b[39mnot\u001b[39;00m \u001b[39mself\u001b[39m\u001b[39m.\u001b[39mflow_level:\n\u001b[1;32m    573\u001b[0m \n\u001b[1;32m    574\u001b[0m     \u001b[39m# We are allowed to start a complex value if and only if\u001b[39;00m\n\u001b[1;32m    575\u001b[0m     \u001b[39m# we can start a simple key.\u001b[39;00m\n\u001b[1;32m    576\u001b[0m     \u001b[39mif\u001b[39;00m \u001b[39mnot\u001b[39;00m \u001b[39mself\u001b[39m\u001b[39m.\u001b[39mallow_simple_key:\n\u001b[0;32m--> 577\u001b[0m         \u001b[39mraise\u001b[39;00m ScannerError(\u001b[39mNone\u001b[39;00m, \u001b[39mNone\u001b[39;00m,\n\u001b[1;32m    578\u001b[0m                 \u001b[39m\"\u001b[39m\u001b[39mmapping values are not allowed here\u001b[39m\u001b[39m\"\u001b[39m,\n\u001b[1;32m    579\u001b[0m                 \u001b[39mself\u001b[39m\u001b[39m.\u001b[39mget_mark())\n\u001b[1;32m    581\u001b[0m \u001b[39m# If this value starts a new block mapping, we need to add\u001b[39;00m\n\u001b[1;32m    582\u001b[0m \u001b[39m# BLOCK-MAPPING-START.  It will be detected as an error later by\u001b[39;00m\n\u001b[1;32m    583\u001b[0m \u001b[39m# the parser.\u001b[39;00m\n\u001b[1;32m    584\u001b[0m \u001b[39mif\u001b[39;00m \u001b[39mnot\u001b[39;00m \u001b[39mself\u001b[39m\u001b[39m.\u001b[39mflow_level:\n",
      "\u001b[0;31mScannerError\u001b[0m: mapping values are not allowed here\n  in \"../config.py\", line 4, column 21"
     ]
    }
   ],
   "source": [
    "load_config(\"../config.py\")"
   ]
  },
  {
   "cell_type": "code",
   "execution_count": 21,
   "metadata": {},
   "outputs": [
    {
     "ename": "ScannerError",
     "evalue": "mapping values are not allowed here\n  in \"../config.py\", line 4, column 21",
     "output_type": "error",
     "traceback": [
      "\u001b[0;31m---------------------------------------------------------------------------\u001b[0m",
      "\u001b[0;31mScannerError\u001b[0m                              Traceback (most recent call last)",
      "Cell \u001b[0;32mIn[21], line 1\u001b[0m\n\u001b[0;32m----> 1\u001b[0m load_config(\u001b[39m\"\u001b[39;49m\u001b[39m../config.py\u001b[39;49m\u001b[39m\"\u001b[39;49m)\n",
      "File \u001b[1;32m/workspaces/langchain-progai/langchain_progai/config.py:4\u001b[0m\n\u001b[1;32m      2\u001b[0m \u001b[39m\u001b[39m\u001b[39m\"\"\"Utility function to load a langchain_progai configuration with model endpoints.\"\"\"\u001b[39;00m\n\u001b[1;32m      3\u001b[0m \u001b[39mwith\u001b[39;00m \u001b[39mopen\u001b[39m(path, \u001b[39m'\u001b[39m\u001b[39mr\u001b[39m\u001b[39m'\u001b[39m) \u001b[39mas\u001b[39;00m file:\n\u001b[0;32m----> 4\u001b[0m     config \u001b[39m=\u001b[39m yaml\u001b[39m.\u001b[39;49msafe_load(file)\n\u001b[1;32m      5\u001b[0m \u001b[39mreturn\u001b[39;00m config\n",
      "File \u001b[0;32m/usr/local/lib/python3.11/site-packages/yaml/__init__.py:125\u001b[0m, in \u001b[0;36msafe_load\u001b[0;34m(stream)\u001b[0m\n\u001b[1;32m    117\u001b[0m \u001b[39mdef\u001b[39;00m \u001b[39msafe_load\u001b[39m(stream):\n\u001b[1;32m    118\u001b[0m \u001b[39m    \u001b[39m\u001b[39m\"\"\"\u001b[39;00m\n\u001b[1;32m    119\u001b[0m \u001b[39m    Parse the first YAML document in a stream\u001b[39;00m\n\u001b[1;32m    120\u001b[0m \u001b[39m    and produce the corresponding Python object.\u001b[39;00m\n\u001b[0;32m   (...)\u001b[0m\n\u001b[1;32m    123\u001b[0m \u001b[39m    to be safe for untrusted input.\u001b[39;00m\n\u001b[1;32m    124\u001b[0m \u001b[39m    \"\"\"\u001b[39;00m\n\u001b[0;32m--> 125\u001b[0m     \u001b[39mreturn\u001b[39;00m load(stream, SafeLoader)\n",
      "File \u001b[0;32m/usr/local/lib/python3.11/site-packages/yaml/__init__.py:81\u001b[0m, in \u001b[0;36mload\u001b[0;34m(stream, Loader)\u001b[0m\n\u001b[1;32m     79\u001b[0m loader \u001b[39m=\u001b[39m Loader(stream)\n\u001b[1;32m     80\u001b[0m \u001b[39mtry\u001b[39;00m:\n\u001b[0;32m---> 81\u001b[0m     \u001b[39mreturn\u001b[39;00m loader\u001b[39m.\u001b[39;49mget_single_data()\n\u001b[1;32m     82\u001b[0m \u001b[39mfinally\u001b[39;00m:\n\u001b[1;32m     83\u001b[0m     loader\u001b[39m.\u001b[39mdispose()\n",
      "File \u001b[0;32m/usr/local/lib/python3.11/site-packages/yaml/constructor.py:49\u001b[0m, in \u001b[0;36mBaseConstructor.get_single_data\u001b[0;34m(self)\u001b[0m\n\u001b[1;32m     47\u001b[0m \u001b[39mdef\u001b[39;00m \u001b[39mget_single_data\u001b[39m(\u001b[39mself\u001b[39m):\n\u001b[1;32m     48\u001b[0m     \u001b[39m# Ensure that the stream contains a single document and construct it.\u001b[39;00m\n\u001b[0;32m---> 49\u001b[0m     node \u001b[39m=\u001b[39m \u001b[39mself\u001b[39;49m\u001b[39m.\u001b[39;49mget_single_node()\n\u001b[1;32m     50\u001b[0m     \u001b[39mif\u001b[39;00m node \u001b[39mis\u001b[39;00m \u001b[39mnot\u001b[39;00m \u001b[39mNone\u001b[39;00m:\n\u001b[1;32m     51\u001b[0m         \u001b[39mreturn\u001b[39;00m \u001b[39mself\u001b[39m\u001b[39m.\u001b[39mconstruct_document(node)\n",
      "File \u001b[0;32m/usr/local/lib/python3.11/site-packages/yaml/composer.py:36\u001b[0m, in \u001b[0;36mComposer.get_single_node\u001b[0;34m(self)\u001b[0m\n\u001b[1;32m     34\u001b[0m document \u001b[39m=\u001b[39m \u001b[39mNone\u001b[39;00m\n\u001b[1;32m     35\u001b[0m \u001b[39mif\u001b[39;00m \u001b[39mnot\u001b[39;00m \u001b[39mself\u001b[39m\u001b[39m.\u001b[39mcheck_event(StreamEndEvent):\n\u001b[0;32m---> 36\u001b[0m     document \u001b[39m=\u001b[39m \u001b[39mself\u001b[39;49m\u001b[39m.\u001b[39;49mcompose_document()\n\u001b[1;32m     38\u001b[0m \u001b[39m# Ensure that the stream contains no more documents.\u001b[39;00m\n\u001b[1;32m     39\u001b[0m \u001b[39mif\u001b[39;00m \u001b[39mnot\u001b[39;00m \u001b[39mself\u001b[39m\u001b[39m.\u001b[39mcheck_event(StreamEndEvent):\n",
      "File \u001b[0;32m/usr/local/lib/python3.11/site-packages/yaml/composer.py:58\u001b[0m, in \u001b[0;36mComposer.compose_document\u001b[0;34m(self)\u001b[0m\n\u001b[1;32m     55\u001b[0m node \u001b[39m=\u001b[39m \u001b[39mself\u001b[39m\u001b[39m.\u001b[39mcompose_node(\u001b[39mNone\u001b[39;00m, \u001b[39mNone\u001b[39;00m)\n\u001b[1;32m     57\u001b[0m \u001b[39m# Drop the DOCUMENT-END event.\u001b[39;00m\n\u001b[0;32m---> 58\u001b[0m \u001b[39mself\u001b[39;49m\u001b[39m.\u001b[39;49mget_event()\n\u001b[1;32m     60\u001b[0m \u001b[39mself\u001b[39m\u001b[39m.\u001b[39manchors \u001b[39m=\u001b[39m {}\n\u001b[1;32m     61\u001b[0m \u001b[39mreturn\u001b[39;00m node\n",
      "File \u001b[0;32m/usr/local/lib/python3.11/site-packages/yaml/parser.py:118\u001b[0m, in \u001b[0;36mParser.get_event\u001b[0;34m(self)\u001b[0m\n\u001b[1;32m    116\u001b[0m \u001b[39mif\u001b[39;00m \u001b[39mself\u001b[39m\u001b[39m.\u001b[39mcurrent_event \u001b[39mis\u001b[39;00m \u001b[39mNone\u001b[39;00m:\n\u001b[1;32m    117\u001b[0m     \u001b[39mif\u001b[39;00m \u001b[39mself\u001b[39m\u001b[39m.\u001b[39mstate:\n\u001b[0;32m--> 118\u001b[0m         \u001b[39mself\u001b[39m\u001b[39m.\u001b[39mcurrent_event \u001b[39m=\u001b[39m \u001b[39mself\u001b[39;49m\u001b[39m.\u001b[39;49mstate()\n\u001b[1;32m    119\u001b[0m value \u001b[39m=\u001b[39m \u001b[39mself\u001b[39m\u001b[39m.\u001b[39mcurrent_event\n\u001b[1;32m    120\u001b[0m \u001b[39mself\u001b[39m\u001b[39m.\u001b[39mcurrent_event \u001b[39m=\u001b[39m \u001b[39mNone\u001b[39;00m\n",
      "File \u001b[0;32m/usr/local/lib/python3.11/site-packages/yaml/parser.py:193\u001b[0m, in \u001b[0;36mParser.parse_document_end\u001b[0;34m(self)\u001b[0m\n\u001b[1;32m    190\u001b[0m \u001b[39mdef\u001b[39;00m \u001b[39mparse_document_end\u001b[39m(\u001b[39mself\u001b[39m):\n\u001b[1;32m    191\u001b[0m \n\u001b[1;32m    192\u001b[0m     \u001b[39m# Parse the document end.\u001b[39;00m\n\u001b[0;32m--> 193\u001b[0m     token \u001b[39m=\u001b[39m \u001b[39mself\u001b[39;49m\u001b[39m.\u001b[39;49mpeek_token()\n\u001b[1;32m    194\u001b[0m     start_mark \u001b[39m=\u001b[39m end_mark \u001b[39m=\u001b[39m token\u001b[39m.\u001b[39mstart_mark\n\u001b[1;32m    195\u001b[0m     explicit \u001b[39m=\u001b[39m \u001b[39mFalse\u001b[39;00m\n",
      "File \u001b[0;32m/usr/local/lib/python3.11/site-packages/yaml/scanner.py:129\u001b[0m, in \u001b[0;36mScanner.peek_token\u001b[0;34m(self)\u001b[0m\n\u001b[1;32m    125\u001b[0m \u001b[39mdef\u001b[39;00m \u001b[39mpeek_token\u001b[39m(\u001b[39mself\u001b[39m):\n\u001b[1;32m    126\u001b[0m     \u001b[39m# Return the next token, but do not delete if from the queue.\u001b[39;00m\n\u001b[1;32m    127\u001b[0m     \u001b[39m# Return None if no more tokens.\u001b[39;00m\n\u001b[1;32m    128\u001b[0m     \u001b[39mwhile\u001b[39;00m \u001b[39mself\u001b[39m\u001b[39m.\u001b[39mneed_more_tokens():\n\u001b[0;32m--> 129\u001b[0m         \u001b[39mself\u001b[39;49m\u001b[39m.\u001b[39;49mfetch_more_tokens()\n\u001b[1;32m    130\u001b[0m     \u001b[39mif\u001b[39;00m \u001b[39mself\u001b[39m\u001b[39m.\u001b[39mtokens:\n\u001b[1;32m    131\u001b[0m         \u001b[39mreturn\u001b[39;00m \u001b[39mself\u001b[39m\u001b[39m.\u001b[39mtokens[\u001b[39m0\u001b[39m]\n",
      "File \u001b[0;32m/usr/local/lib/python3.11/site-packages/yaml/scanner.py:223\u001b[0m, in \u001b[0;36mScanner.fetch_more_tokens\u001b[0;34m(self)\u001b[0m\n\u001b[1;32m    221\u001b[0m \u001b[39m# Is it the value indicator?\u001b[39;00m\n\u001b[1;32m    222\u001b[0m \u001b[39mif\u001b[39;00m ch \u001b[39m==\u001b[39m \u001b[39m'\u001b[39m\u001b[39m:\u001b[39m\u001b[39m'\u001b[39m \u001b[39mand\u001b[39;00m \u001b[39mself\u001b[39m\u001b[39m.\u001b[39mcheck_value():\n\u001b[0;32m--> 223\u001b[0m     \u001b[39mreturn\u001b[39;00m \u001b[39mself\u001b[39;49m\u001b[39m.\u001b[39;49mfetch_value()\n\u001b[1;32m    225\u001b[0m \u001b[39m# Is it an alias?\u001b[39;00m\n\u001b[1;32m    226\u001b[0m \u001b[39mif\u001b[39;00m ch \u001b[39m==\u001b[39m \u001b[39m'\u001b[39m\u001b[39m*\u001b[39m\u001b[39m'\u001b[39m:\n",
      "File \u001b[0;32m/usr/local/lib/python3.11/site-packages/yaml/scanner.py:577\u001b[0m, in \u001b[0;36mScanner.fetch_value\u001b[0;34m(self)\u001b[0m\n\u001b[1;32m    572\u001b[0m \u001b[39mif\u001b[39;00m \u001b[39mnot\u001b[39;00m \u001b[39mself\u001b[39m\u001b[39m.\u001b[39mflow_level:\n\u001b[1;32m    573\u001b[0m \n\u001b[1;32m    574\u001b[0m     \u001b[39m# We are allowed to start a complex value if and only if\u001b[39;00m\n\u001b[1;32m    575\u001b[0m     \u001b[39m# we can start a simple key.\u001b[39;00m\n\u001b[1;32m    576\u001b[0m     \u001b[39mif\u001b[39;00m \u001b[39mnot\u001b[39;00m \u001b[39mself\u001b[39m\u001b[39m.\u001b[39mallow_simple_key:\n\u001b[0;32m--> 577\u001b[0m         \u001b[39mraise\u001b[39;00m ScannerError(\u001b[39mNone\u001b[39;00m, \u001b[39mNone\u001b[39;00m,\n\u001b[1;32m    578\u001b[0m                 \u001b[39m\"\u001b[39m\u001b[39mmapping values are not allowed here\u001b[39m\u001b[39m\"\u001b[39m,\n\u001b[1;32m    579\u001b[0m                 \u001b[39mself\u001b[39m\u001b[39m.\u001b[39mget_mark())\n\u001b[1;32m    581\u001b[0m \u001b[39m# If this value starts a new block mapping, we need to add\u001b[39;00m\n\u001b[1;32m    582\u001b[0m \u001b[39m# BLOCK-MAPPING-START.  It will be detected as an error later by\u001b[39;00m\n\u001b[1;32m    583\u001b[0m \u001b[39m# the parser.\u001b[39;00m\n\u001b[1;32m    584\u001b[0m \u001b[39mif\u001b[39;00m \u001b[39mnot\u001b[39;00m \u001b[39mself\u001b[39m\u001b[39m.\u001b[39mflow_level:\n",
      "\u001b[0;31mScannerError\u001b[0m: mapping values are not allowed here\n  in \"../config.py\", line 4, column 21"
     ]
    }
   ],
   "source": [
    "load_config(\"../config.py\")"
   ]
  },
  {
   "cell_type": "code",
   "execution_count": 22,
   "metadata": {},
   "outputs": [
    {
     "ename": "ScannerError",
     "evalue": "mapping values are not allowed here\n  in \"../config.py\", line 4, column 21",
     "output_type": "error",
     "traceback": [
      "\u001b[0;31m---------------------------------------------------------------------------\u001b[0m",
      "\u001b[0;31mScannerError\u001b[0m                              Traceback (most recent call last)",
      "Cell \u001b[0;32mIn[22], line 1\u001b[0m\n\u001b[0;32m----> 1\u001b[0m load_config(\u001b[39m\"\u001b[39;49m\u001b[39m../config.py\u001b[39;49m\u001b[39m\"\u001b[39;49m)\n",
      "File \u001b[1;32m/workspaces/langchain-progai/langchain_progai/config.py:4\u001b[0m\n\u001b[1;32m      2\u001b[0m \u001b[39m\u001b[39m\u001b[39m\"\"\"Utility function to load a langchain_progai configuration with model endpoints.\"\"\"\u001b[39;00m\n\u001b[1;32m      3\u001b[0m \u001b[39mwith\u001b[39;00m \u001b[39mopen\u001b[39m(path, \u001b[39m'\u001b[39m\u001b[39mr\u001b[39m\u001b[39m'\u001b[39m) \u001b[39mas\u001b[39;00m file:\n\u001b[0;32m----> 4\u001b[0m     config \u001b[39m=\u001b[39m yaml\u001b[39m.\u001b[39;49msafe_load(file)\n\u001b[1;32m      5\u001b[0m \u001b[39mreturn\u001b[39;00m config\n",
      "File \u001b[0;32m/usr/local/lib/python3.11/site-packages/yaml/__init__.py:125\u001b[0m, in \u001b[0;36msafe_load\u001b[0;34m(stream)\u001b[0m\n\u001b[1;32m    117\u001b[0m \u001b[39mdef\u001b[39;00m \u001b[39msafe_load\u001b[39m(stream):\n\u001b[1;32m    118\u001b[0m \u001b[39m    \u001b[39m\u001b[39m\"\"\"\u001b[39;00m\n\u001b[1;32m    119\u001b[0m \u001b[39m    Parse the first YAML document in a stream\u001b[39;00m\n\u001b[1;32m    120\u001b[0m \u001b[39m    and produce the corresponding Python object.\u001b[39;00m\n\u001b[0;32m   (...)\u001b[0m\n\u001b[1;32m    123\u001b[0m \u001b[39m    to be safe for untrusted input.\u001b[39;00m\n\u001b[1;32m    124\u001b[0m \u001b[39m    \"\"\"\u001b[39;00m\n\u001b[0;32m--> 125\u001b[0m     \u001b[39mreturn\u001b[39;00m load(stream, SafeLoader)\n",
      "File \u001b[0;32m/usr/local/lib/python3.11/site-packages/yaml/__init__.py:81\u001b[0m, in \u001b[0;36mload\u001b[0;34m(stream, Loader)\u001b[0m\n\u001b[1;32m     79\u001b[0m loader \u001b[39m=\u001b[39m Loader(stream)\n\u001b[1;32m     80\u001b[0m \u001b[39mtry\u001b[39;00m:\n\u001b[0;32m---> 81\u001b[0m     \u001b[39mreturn\u001b[39;00m loader\u001b[39m.\u001b[39;49mget_single_data()\n\u001b[1;32m     82\u001b[0m \u001b[39mfinally\u001b[39;00m:\n\u001b[1;32m     83\u001b[0m     loader\u001b[39m.\u001b[39mdispose()\n",
      "File \u001b[0;32m/usr/local/lib/python3.11/site-packages/yaml/constructor.py:49\u001b[0m, in \u001b[0;36mBaseConstructor.get_single_data\u001b[0;34m(self)\u001b[0m\n\u001b[1;32m     47\u001b[0m \u001b[39mdef\u001b[39;00m \u001b[39mget_single_data\u001b[39m(\u001b[39mself\u001b[39m):\n\u001b[1;32m     48\u001b[0m     \u001b[39m# Ensure that the stream contains a single document and construct it.\u001b[39;00m\n\u001b[0;32m---> 49\u001b[0m     node \u001b[39m=\u001b[39m \u001b[39mself\u001b[39;49m\u001b[39m.\u001b[39;49mget_single_node()\n\u001b[1;32m     50\u001b[0m     \u001b[39mif\u001b[39;00m node \u001b[39mis\u001b[39;00m \u001b[39mnot\u001b[39;00m \u001b[39mNone\u001b[39;00m:\n\u001b[1;32m     51\u001b[0m         \u001b[39mreturn\u001b[39;00m \u001b[39mself\u001b[39m\u001b[39m.\u001b[39mconstruct_document(node)\n",
      "File \u001b[0;32m/usr/local/lib/python3.11/site-packages/yaml/composer.py:36\u001b[0m, in \u001b[0;36mComposer.get_single_node\u001b[0;34m(self)\u001b[0m\n\u001b[1;32m     34\u001b[0m document \u001b[39m=\u001b[39m \u001b[39mNone\u001b[39;00m\n\u001b[1;32m     35\u001b[0m \u001b[39mif\u001b[39;00m \u001b[39mnot\u001b[39;00m \u001b[39mself\u001b[39m\u001b[39m.\u001b[39mcheck_event(StreamEndEvent):\n\u001b[0;32m---> 36\u001b[0m     document \u001b[39m=\u001b[39m \u001b[39mself\u001b[39;49m\u001b[39m.\u001b[39;49mcompose_document()\n\u001b[1;32m     38\u001b[0m \u001b[39m# Ensure that the stream contains no more documents.\u001b[39;00m\n\u001b[1;32m     39\u001b[0m \u001b[39mif\u001b[39;00m \u001b[39mnot\u001b[39;00m \u001b[39mself\u001b[39m\u001b[39m.\u001b[39mcheck_event(StreamEndEvent):\n",
      "File \u001b[0;32m/usr/local/lib/python3.11/site-packages/yaml/composer.py:58\u001b[0m, in \u001b[0;36mComposer.compose_document\u001b[0;34m(self)\u001b[0m\n\u001b[1;32m     55\u001b[0m node \u001b[39m=\u001b[39m \u001b[39mself\u001b[39m\u001b[39m.\u001b[39mcompose_node(\u001b[39mNone\u001b[39;00m, \u001b[39mNone\u001b[39;00m)\n\u001b[1;32m     57\u001b[0m \u001b[39m# Drop the DOCUMENT-END event.\u001b[39;00m\n\u001b[0;32m---> 58\u001b[0m \u001b[39mself\u001b[39;49m\u001b[39m.\u001b[39;49mget_event()\n\u001b[1;32m     60\u001b[0m \u001b[39mself\u001b[39m\u001b[39m.\u001b[39manchors \u001b[39m=\u001b[39m {}\n\u001b[1;32m     61\u001b[0m \u001b[39mreturn\u001b[39;00m node\n",
      "File \u001b[0;32m/usr/local/lib/python3.11/site-packages/yaml/parser.py:118\u001b[0m, in \u001b[0;36mParser.get_event\u001b[0;34m(self)\u001b[0m\n\u001b[1;32m    116\u001b[0m \u001b[39mif\u001b[39;00m \u001b[39mself\u001b[39m\u001b[39m.\u001b[39mcurrent_event \u001b[39mis\u001b[39;00m \u001b[39mNone\u001b[39;00m:\n\u001b[1;32m    117\u001b[0m     \u001b[39mif\u001b[39;00m \u001b[39mself\u001b[39m\u001b[39m.\u001b[39mstate:\n\u001b[0;32m--> 118\u001b[0m         \u001b[39mself\u001b[39m\u001b[39m.\u001b[39mcurrent_event \u001b[39m=\u001b[39m \u001b[39mself\u001b[39;49m\u001b[39m.\u001b[39;49mstate()\n\u001b[1;32m    119\u001b[0m value \u001b[39m=\u001b[39m \u001b[39mself\u001b[39m\u001b[39m.\u001b[39mcurrent_event\n\u001b[1;32m    120\u001b[0m \u001b[39mself\u001b[39m\u001b[39m.\u001b[39mcurrent_event \u001b[39m=\u001b[39m \u001b[39mNone\u001b[39;00m\n",
      "File \u001b[0;32m/usr/local/lib/python3.11/site-packages/yaml/parser.py:193\u001b[0m, in \u001b[0;36mParser.parse_document_end\u001b[0;34m(self)\u001b[0m\n\u001b[1;32m    190\u001b[0m \u001b[39mdef\u001b[39;00m \u001b[39mparse_document_end\u001b[39m(\u001b[39mself\u001b[39m):\n\u001b[1;32m    191\u001b[0m \n\u001b[1;32m    192\u001b[0m     \u001b[39m# Parse the document end.\u001b[39;00m\n\u001b[0;32m--> 193\u001b[0m     token \u001b[39m=\u001b[39m \u001b[39mself\u001b[39;49m\u001b[39m.\u001b[39;49mpeek_token()\n\u001b[1;32m    194\u001b[0m     start_mark \u001b[39m=\u001b[39m end_mark \u001b[39m=\u001b[39m token\u001b[39m.\u001b[39mstart_mark\n\u001b[1;32m    195\u001b[0m     explicit \u001b[39m=\u001b[39m \u001b[39mFalse\u001b[39;00m\n",
      "File \u001b[0;32m/usr/local/lib/python3.11/site-packages/yaml/scanner.py:129\u001b[0m, in \u001b[0;36mScanner.peek_token\u001b[0;34m(self)\u001b[0m\n\u001b[1;32m    125\u001b[0m \u001b[39mdef\u001b[39;00m \u001b[39mpeek_token\u001b[39m(\u001b[39mself\u001b[39m):\n\u001b[1;32m    126\u001b[0m     \u001b[39m# Return the next token, but do not delete if from the queue.\u001b[39;00m\n\u001b[1;32m    127\u001b[0m     \u001b[39m# Return None if no more tokens.\u001b[39;00m\n\u001b[1;32m    128\u001b[0m     \u001b[39mwhile\u001b[39;00m \u001b[39mself\u001b[39m\u001b[39m.\u001b[39mneed_more_tokens():\n\u001b[0;32m--> 129\u001b[0m         \u001b[39mself\u001b[39;49m\u001b[39m.\u001b[39;49mfetch_more_tokens()\n\u001b[1;32m    130\u001b[0m     \u001b[39mif\u001b[39;00m \u001b[39mself\u001b[39m\u001b[39m.\u001b[39mtokens:\n\u001b[1;32m    131\u001b[0m         \u001b[39mreturn\u001b[39;00m \u001b[39mself\u001b[39m\u001b[39m.\u001b[39mtokens[\u001b[39m0\u001b[39m]\n",
      "File \u001b[0;32m/usr/local/lib/python3.11/site-packages/yaml/scanner.py:223\u001b[0m, in \u001b[0;36mScanner.fetch_more_tokens\u001b[0;34m(self)\u001b[0m\n\u001b[1;32m    221\u001b[0m \u001b[39m# Is it the value indicator?\u001b[39;00m\n\u001b[1;32m    222\u001b[0m \u001b[39mif\u001b[39;00m ch \u001b[39m==\u001b[39m \u001b[39m'\u001b[39m\u001b[39m:\u001b[39m\u001b[39m'\u001b[39m \u001b[39mand\u001b[39;00m \u001b[39mself\u001b[39m\u001b[39m.\u001b[39mcheck_value():\n\u001b[0;32m--> 223\u001b[0m     \u001b[39mreturn\u001b[39;00m \u001b[39mself\u001b[39;49m\u001b[39m.\u001b[39;49mfetch_value()\n\u001b[1;32m    225\u001b[0m \u001b[39m# Is it an alias?\u001b[39;00m\n\u001b[1;32m    226\u001b[0m \u001b[39mif\u001b[39;00m ch \u001b[39m==\u001b[39m \u001b[39m'\u001b[39m\u001b[39m*\u001b[39m\u001b[39m'\u001b[39m:\n",
      "File \u001b[0;32m/usr/local/lib/python3.11/site-packages/yaml/scanner.py:577\u001b[0m, in \u001b[0;36mScanner.fetch_value\u001b[0;34m(self)\u001b[0m\n\u001b[1;32m    572\u001b[0m \u001b[39mif\u001b[39;00m \u001b[39mnot\u001b[39;00m \u001b[39mself\u001b[39m\u001b[39m.\u001b[39mflow_level:\n\u001b[1;32m    573\u001b[0m \n\u001b[1;32m    574\u001b[0m     \u001b[39m# We are allowed to start a complex value if and only if\u001b[39;00m\n\u001b[1;32m    575\u001b[0m     \u001b[39m# we can start a simple key.\u001b[39;00m\n\u001b[1;32m    576\u001b[0m     \u001b[39mif\u001b[39;00m \u001b[39mnot\u001b[39;00m \u001b[39mself\u001b[39m\u001b[39m.\u001b[39mallow_simple_key:\n\u001b[0;32m--> 577\u001b[0m         \u001b[39mraise\u001b[39;00m ScannerError(\u001b[39mNone\u001b[39;00m, \u001b[39mNone\u001b[39;00m,\n\u001b[1;32m    578\u001b[0m                 \u001b[39m\"\u001b[39m\u001b[39mmapping values are not allowed here\u001b[39m\u001b[39m\"\u001b[39m,\n\u001b[1;32m    579\u001b[0m                 \u001b[39mself\u001b[39m\u001b[39m.\u001b[39mget_mark())\n\u001b[1;32m    581\u001b[0m \u001b[39m# If this value starts a new block mapping, we need to add\u001b[39;00m\n\u001b[1;32m    582\u001b[0m \u001b[39m# BLOCK-MAPPING-START.  It will be detected as an error later by\u001b[39;00m\n\u001b[1;32m    583\u001b[0m \u001b[39m# the parser.\u001b[39;00m\n\u001b[1;32m    584\u001b[0m \u001b[39mif\u001b[39;00m \u001b[39mnot\u001b[39;00m \u001b[39mself\u001b[39m\u001b[39m.\u001b[39mflow_level:\n",
      "\u001b[0;31mScannerError\u001b[0m: mapping values are not allowed here\n  in \"../config.py\", line 4, column 21"
     ]
    }
   ],
   "source": [
    "load_config(\"../config.py\")"
   ]
  },
  {
   "cell_type": "code",
   "execution_count": 23,
   "metadata": {},
   "outputs": [
    {
     "ename": "ScannerError",
     "evalue": "mapping values are not allowed here\n  in \"../config.py\", line 4, column 21",
     "output_type": "error",
     "traceback": [
      "\u001b[0;31m---------------------------------------------------------------------------\u001b[0m",
      "\u001b[0;31mScannerError\u001b[0m                              Traceback (most recent call last)",
      "Cell \u001b[0;32mIn[23], line 1\u001b[0m\n\u001b[0;32m----> 1\u001b[0m load_config(\u001b[39m\"\u001b[39;49m\u001b[39m../config.py\u001b[39;49m\u001b[39m\"\u001b[39;49m)\n",
      "File \u001b[1;32m/workspaces/langchain-progai/langchain_progai/config.py:4\u001b[0m\n\u001b[1;32m      2\u001b[0m \u001b[39m\u001b[39m\u001b[39m\"\"\"Utility function to load a langchain_progai configuration with model endpoints.\"\"\"\u001b[39;00m\n\u001b[1;32m      3\u001b[0m \u001b[39mwith\u001b[39;00m \u001b[39mopen\u001b[39m(path, \u001b[39m'\u001b[39m\u001b[39mr\u001b[39m\u001b[39m'\u001b[39m) \u001b[39mas\u001b[39;00m file:\n\u001b[0;32m----> 4\u001b[0m     config \u001b[39m=\u001b[39m yaml\u001b[39m.\u001b[39;49msafe_load(file)\n\u001b[1;32m      5\u001b[0m \u001b[39mreturn\u001b[39;00m config\n",
      "File \u001b[0;32m/usr/local/lib/python3.11/site-packages/yaml/__init__.py:125\u001b[0m, in \u001b[0;36msafe_load\u001b[0;34m(stream)\u001b[0m\n\u001b[1;32m    117\u001b[0m \u001b[39mdef\u001b[39;00m \u001b[39msafe_load\u001b[39m(stream):\n\u001b[1;32m    118\u001b[0m \u001b[39m    \u001b[39m\u001b[39m\"\"\"\u001b[39;00m\n\u001b[1;32m    119\u001b[0m \u001b[39m    Parse the first YAML document in a stream\u001b[39;00m\n\u001b[1;32m    120\u001b[0m \u001b[39m    and produce the corresponding Python object.\u001b[39;00m\n\u001b[0;32m   (...)\u001b[0m\n\u001b[1;32m    123\u001b[0m \u001b[39m    to be safe for untrusted input.\u001b[39;00m\n\u001b[1;32m    124\u001b[0m \u001b[39m    \"\"\"\u001b[39;00m\n\u001b[0;32m--> 125\u001b[0m     \u001b[39mreturn\u001b[39;00m load(stream, SafeLoader)\n",
      "File \u001b[0;32m/usr/local/lib/python3.11/site-packages/yaml/__init__.py:81\u001b[0m, in \u001b[0;36mload\u001b[0;34m(stream, Loader)\u001b[0m\n\u001b[1;32m     79\u001b[0m loader \u001b[39m=\u001b[39m Loader(stream)\n\u001b[1;32m     80\u001b[0m \u001b[39mtry\u001b[39;00m:\n\u001b[0;32m---> 81\u001b[0m     \u001b[39mreturn\u001b[39;00m loader\u001b[39m.\u001b[39;49mget_single_data()\n\u001b[1;32m     82\u001b[0m \u001b[39mfinally\u001b[39;00m:\n\u001b[1;32m     83\u001b[0m     loader\u001b[39m.\u001b[39mdispose()\n",
      "File \u001b[0;32m/usr/local/lib/python3.11/site-packages/yaml/constructor.py:49\u001b[0m, in \u001b[0;36mBaseConstructor.get_single_data\u001b[0;34m(self)\u001b[0m\n\u001b[1;32m     47\u001b[0m \u001b[39mdef\u001b[39;00m \u001b[39mget_single_data\u001b[39m(\u001b[39mself\u001b[39m):\n\u001b[1;32m     48\u001b[0m     \u001b[39m# Ensure that the stream contains a single document and construct it.\u001b[39;00m\n\u001b[0;32m---> 49\u001b[0m     node \u001b[39m=\u001b[39m \u001b[39mself\u001b[39;49m\u001b[39m.\u001b[39;49mget_single_node()\n\u001b[1;32m     50\u001b[0m     \u001b[39mif\u001b[39;00m node \u001b[39mis\u001b[39;00m \u001b[39mnot\u001b[39;00m \u001b[39mNone\u001b[39;00m:\n\u001b[1;32m     51\u001b[0m         \u001b[39mreturn\u001b[39;00m \u001b[39mself\u001b[39m\u001b[39m.\u001b[39mconstruct_document(node)\n",
      "File \u001b[0;32m/usr/local/lib/python3.11/site-packages/yaml/composer.py:36\u001b[0m, in \u001b[0;36mComposer.get_single_node\u001b[0;34m(self)\u001b[0m\n\u001b[1;32m     34\u001b[0m document \u001b[39m=\u001b[39m \u001b[39mNone\u001b[39;00m\n\u001b[1;32m     35\u001b[0m \u001b[39mif\u001b[39;00m \u001b[39mnot\u001b[39;00m \u001b[39mself\u001b[39m\u001b[39m.\u001b[39mcheck_event(StreamEndEvent):\n\u001b[0;32m---> 36\u001b[0m     document \u001b[39m=\u001b[39m \u001b[39mself\u001b[39;49m\u001b[39m.\u001b[39;49mcompose_document()\n\u001b[1;32m     38\u001b[0m \u001b[39m# Ensure that the stream contains no more documents.\u001b[39;00m\n\u001b[1;32m     39\u001b[0m \u001b[39mif\u001b[39;00m \u001b[39mnot\u001b[39;00m \u001b[39mself\u001b[39m\u001b[39m.\u001b[39mcheck_event(StreamEndEvent):\n",
      "File \u001b[0;32m/usr/local/lib/python3.11/site-packages/yaml/composer.py:58\u001b[0m, in \u001b[0;36mComposer.compose_document\u001b[0;34m(self)\u001b[0m\n\u001b[1;32m     55\u001b[0m node \u001b[39m=\u001b[39m \u001b[39mself\u001b[39m\u001b[39m.\u001b[39mcompose_node(\u001b[39mNone\u001b[39;00m, \u001b[39mNone\u001b[39;00m)\n\u001b[1;32m     57\u001b[0m \u001b[39m# Drop the DOCUMENT-END event.\u001b[39;00m\n\u001b[0;32m---> 58\u001b[0m \u001b[39mself\u001b[39;49m\u001b[39m.\u001b[39;49mget_event()\n\u001b[1;32m     60\u001b[0m \u001b[39mself\u001b[39m\u001b[39m.\u001b[39manchors \u001b[39m=\u001b[39m {}\n\u001b[1;32m     61\u001b[0m \u001b[39mreturn\u001b[39;00m node\n",
      "File \u001b[0;32m/usr/local/lib/python3.11/site-packages/yaml/parser.py:118\u001b[0m, in \u001b[0;36mParser.get_event\u001b[0;34m(self)\u001b[0m\n\u001b[1;32m    116\u001b[0m \u001b[39mif\u001b[39;00m \u001b[39mself\u001b[39m\u001b[39m.\u001b[39mcurrent_event \u001b[39mis\u001b[39;00m \u001b[39mNone\u001b[39;00m:\n\u001b[1;32m    117\u001b[0m     \u001b[39mif\u001b[39;00m \u001b[39mself\u001b[39m\u001b[39m.\u001b[39mstate:\n\u001b[0;32m--> 118\u001b[0m         \u001b[39mself\u001b[39m\u001b[39m.\u001b[39mcurrent_event \u001b[39m=\u001b[39m \u001b[39mself\u001b[39;49m\u001b[39m.\u001b[39;49mstate()\n\u001b[1;32m    119\u001b[0m value \u001b[39m=\u001b[39m \u001b[39mself\u001b[39m\u001b[39m.\u001b[39mcurrent_event\n\u001b[1;32m    120\u001b[0m \u001b[39mself\u001b[39m\u001b[39m.\u001b[39mcurrent_event \u001b[39m=\u001b[39m \u001b[39mNone\u001b[39;00m\n",
      "File \u001b[0;32m/usr/local/lib/python3.11/site-packages/yaml/parser.py:193\u001b[0m, in \u001b[0;36mParser.parse_document_end\u001b[0;34m(self)\u001b[0m\n\u001b[1;32m    190\u001b[0m \u001b[39mdef\u001b[39;00m \u001b[39mparse_document_end\u001b[39m(\u001b[39mself\u001b[39m):\n\u001b[1;32m    191\u001b[0m \n\u001b[1;32m    192\u001b[0m     \u001b[39m# Parse the document end.\u001b[39;00m\n\u001b[0;32m--> 193\u001b[0m     token \u001b[39m=\u001b[39m \u001b[39mself\u001b[39;49m\u001b[39m.\u001b[39;49mpeek_token()\n\u001b[1;32m    194\u001b[0m     start_mark \u001b[39m=\u001b[39m end_mark \u001b[39m=\u001b[39m token\u001b[39m.\u001b[39mstart_mark\n\u001b[1;32m    195\u001b[0m     explicit \u001b[39m=\u001b[39m \u001b[39mFalse\u001b[39;00m\n",
      "File \u001b[0;32m/usr/local/lib/python3.11/site-packages/yaml/scanner.py:129\u001b[0m, in \u001b[0;36mScanner.peek_token\u001b[0;34m(self)\u001b[0m\n\u001b[1;32m    125\u001b[0m \u001b[39mdef\u001b[39;00m \u001b[39mpeek_token\u001b[39m(\u001b[39mself\u001b[39m):\n\u001b[1;32m    126\u001b[0m     \u001b[39m# Return the next token, but do not delete if from the queue.\u001b[39;00m\n\u001b[1;32m    127\u001b[0m     \u001b[39m# Return None if no more tokens.\u001b[39;00m\n\u001b[1;32m    128\u001b[0m     \u001b[39mwhile\u001b[39;00m \u001b[39mself\u001b[39m\u001b[39m.\u001b[39mneed_more_tokens():\n\u001b[0;32m--> 129\u001b[0m         \u001b[39mself\u001b[39;49m\u001b[39m.\u001b[39;49mfetch_more_tokens()\n\u001b[1;32m    130\u001b[0m     \u001b[39mif\u001b[39;00m \u001b[39mself\u001b[39m\u001b[39m.\u001b[39mtokens:\n\u001b[1;32m    131\u001b[0m         \u001b[39mreturn\u001b[39;00m \u001b[39mself\u001b[39m\u001b[39m.\u001b[39mtokens[\u001b[39m0\u001b[39m]\n",
      "File \u001b[0;32m/usr/local/lib/python3.11/site-packages/yaml/scanner.py:223\u001b[0m, in \u001b[0;36mScanner.fetch_more_tokens\u001b[0;34m(self)\u001b[0m\n\u001b[1;32m    221\u001b[0m \u001b[39m# Is it the value indicator?\u001b[39;00m\n\u001b[1;32m    222\u001b[0m \u001b[39mif\u001b[39;00m ch \u001b[39m==\u001b[39m \u001b[39m'\u001b[39m\u001b[39m:\u001b[39m\u001b[39m'\u001b[39m \u001b[39mand\u001b[39;00m \u001b[39mself\u001b[39m\u001b[39m.\u001b[39mcheck_value():\n\u001b[0;32m--> 223\u001b[0m     \u001b[39mreturn\u001b[39;00m \u001b[39mself\u001b[39;49m\u001b[39m.\u001b[39;49mfetch_value()\n\u001b[1;32m    225\u001b[0m \u001b[39m# Is it an alias?\u001b[39;00m\n\u001b[1;32m    226\u001b[0m \u001b[39mif\u001b[39;00m ch \u001b[39m==\u001b[39m \u001b[39m'\u001b[39m\u001b[39m*\u001b[39m\u001b[39m'\u001b[39m:\n",
      "File \u001b[0;32m/usr/local/lib/python3.11/site-packages/yaml/scanner.py:577\u001b[0m, in \u001b[0;36mScanner.fetch_value\u001b[0;34m(self)\u001b[0m\n\u001b[1;32m    572\u001b[0m \u001b[39mif\u001b[39;00m \u001b[39mnot\u001b[39;00m \u001b[39mself\u001b[39m\u001b[39m.\u001b[39mflow_level:\n\u001b[1;32m    573\u001b[0m \n\u001b[1;32m    574\u001b[0m     \u001b[39m# We are allowed to start a complex value if and only if\u001b[39;00m\n\u001b[1;32m    575\u001b[0m     \u001b[39m# we can start a simple key.\u001b[39;00m\n\u001b[1;32m    576\u001b[0m     \u001b[39mif\u001b[39;00m \u001b[39mnot\u001b[39;00m \u001b[39mself\u001b[39m\u001b[39m.\u001b[39mallow_simple_key:\n\u001b[0;32m--> 577\u001b[0m         \u001b[39mraise\u001b[39;00m ScannerError(\u001b[39mNone\u001b[39;00m, \u001b[39mNone\u001b[39;00m,\n\u001b[1;32m    578\u001b[0m                 \u001b[39m\"\u001b[39m\u001b[39mmapping values are not allowed here\u001b[39m\u001b[39m\"\u001b[39m,\n\u001b[1;32m    579\u001b[0m                 \u001b[39mself\u001b[39m\u001b[39m.\u001b[39mget_mark())\n\u001b[1;32m    581\u001b[0m \u001b[39m# If this value starts a new block mapping, we need to add\u001b[39;00m\n\u001b[1;32m    582\u001b[0m \u001b[39m# BLOCK-MAPPING-START.  It will be detected as an error later by\u001b[39;00m\n\u001b[1;32m    583\u001b[0m \u001b[39m# the parser.\u001b[39;00m\n\u001b[1;32m    584\u001b[0m \u001b[39mif\u001b[39;00m \u001b[39mnot\u001b[39;00m \u001b[39mself\u001b[39m\u001b[39m.\u001b[39mflow_level:\n",
      "\u001b[0;31mScannerError\u001b[0m: mapping values are not allowed here\n  in \"../config.py\", line 4, column 21"
     ]
    }
   ],
   "source": [
    "load_config(\"../config.py\")"
   ]
  },
  {
   "cell_type": "code",
   "execution_count": 24,
   "metadata": {},
   "outputs": [
    {
     "ename": "ScannerError",
     "evalue": "mapping values are not allowed here\n  in \"../config.py\", line 4, column 21",
     "output_type": "error",
     "traceback": [
      "\u001b[0;31m---------------------------------------------------------------------------\u001b[0m",
      "\u001b[0;31mScannerError\u001b[0m                              Traceback (most recent call last)",
      "Cell \u001b[0;32mIn[24], line 1\u001b[0m\n\u001b[0;32m----> 1\u001b[0m load_config(\u001b[39m\"\u001b[39;49m\u001b[39m../config.py\u001b[39;49m\u001b[39m\"\u001b[39;49m)\n",
      "File \u001b[1;32m/workspaces/langchain-progai/langchain_progai/config.py:4\u001b[0m\n\u001b[1;32m      2\u001b[0m \u001b[39m\u001b[39m\u001b[39m\"\"\"Utility function to load a langchain_progai configuration with model endpoints.\"\"\"\u001b[39;00m\n\u001b[1;32m      3\u001b[0m \u001b[39mwith\u001b[39;00m \u001b[39mopen\u001b[39m(path, \u001b[39m'\u001b[39m\u001b[39mr\u001b[39m\u001b[39m'\u001b[39m) \u001b[39mas\u001b[39;00m file:\n\u001b[0;32m----> 4\u001b[0m     config \u001b[39m=\u001b[39m yaml\u001b[39m.\u001b[39;49msafe_load(file)\n\u001b[1;32m      5\u001b[0m \u001b[39mreturn\u001b[39;00m config\n",
      "File \u001b[0;32m/usr/local/lib/python3.11/site-packages/yaml/__init__.py:125\u001b[0m, in \u001b[0;36msafe_load\u001b[0;34m(stream)\u001b[0m\n\u001b[1;32m    117\u001b[0m \u001b[39mdef\u001b[39;00m \u001b[39msafe_load\u001b[39m(stream):\n\u001b[1;32m    118\u001b[0m \u001b[39m    \u001b[39m\u001b[39m\"\"\"\u001b[39;00m\n\u001b[1;32m    119\u001b[0m \u001b[39m    Parse the first YAML document in a stream\u001b[39;00m\n\u001b[1;32m    120\u001b[0m \u001b[39m    and produce the corresponding Python object.\u001b[39;00m\n\u001b[0;32m   (...)\u001b[0m\n\u001b[1;32m    123\u001b[0m \u001b[39m    to be safe for untrusted input.\u001b[39;00m\n\u001b[1;32m    124\u001b[0m \u001b[39m    \"\"\"\u001b[39;00m\n\u001b[0;32m--> 125\u001b[0m     \u001b[39mreturn\u001b[39;00m load(stream, SafeLoader)\n",
      "File \u001b[0;32m/usr/local/lib/python3.11/site-packages/yaml/__init__.py:81\u001b[0m, in \u001b[0;36mload\u001b[0;34m(stream, Loader)\u001b[0m\n\u001b[1;32m     79\u001b[0m loader \u001b[39m=\u001b[39m Loader(stream)\n\u001b[1;32m     80\u001b[0m \u001b[39mtry\u001b[39;00m:\n\u001b[0;32m---> 81\u001b[0m     \u001b[39mreturn\u001b[39;00m loader\u001b[39m.\u001b[39;49mget_single_data()\n\u001b[1;32m     82\u001b[0m \u001b[39mfinally\u001b[39;00m:\n\u001b[1;32m     83\u001b[0m     loader\u001b[39m.\u001b[39mdispose()\n",
      "File \u001b[0;32m/usr/local/lib/python3.11/site-packages/yaml/constructor.py:49\u001b[0m, in \u001b[0;36mBaseConstructor.get_single_data\u001b[0;34m(self)\u001b[0m\n\u001b[1;32m     47\u001b[0m \u001b[39mdef\u001b[39;00m \u001b[39mget_single_data\u001b[39m(\u001b[39mself\u001b[39m):\n\u001b[1;32m     48\u001b[0m     \u001b[39m# Ensure that the stream contains a single document and construct it.\u001b[39;00m\n\u001b[0;32m---> 49\u001b[0m     node \u001b[39m=\u001b[39m \u001b[39mself\u001b[39;49m\u001b[39m.\u001b[39;49mget_single_node()\n\u001b[1;32m     50\u001b[0m     \u001b[39mif\u001b[39;00m node \u001b[39mis\u001b[39;00m \u001b[39mnot\u001b[39;00m \u001b[39mNone\u001b[39;00m:\n\u001b[1;32m     51\u001b[0m         \u001b[39mreturn\u001b[39;00m \u001b[39mself\u001b[39m\u001b[39m.\u001b[39mconstruct_document(node)\n",
      "File \u001b[0;32m/usr/local/lib/python3.11/site-packages/yaml/composer.py:36\u001b[0m, in \u001b[0;36mComposer.get_single_node\u001b[0;34m(self)\u001b[0m\n\u001b[1;32m     34\u001b[0m document \u001b[39m=\u001b[39m \u001b[39mNone\u001b[39;00m\n\u001b[1;32m     35\u001b[0m \u001b[39mif\u001b[39;00m \u001b[39mnot\u001b[39;00m \u001b[39mself\u001b[39m\u001b[39m.\u001b[39mcheck_event(StreamEndEvent):\n\u001b[0;32m---> 36\u001b[0m     document \u001b[39m=\u001b[39m \u001b[39mself\u001b[39;49m\u001b[39m.\u001b[39;49mcompose_document()\n\u001b[1;32m     38\u001b[0m \u001b[39m# Ensure that the stream contains no more documents.\u001b[39;00m\n\u001b[1;32m     39\u001b[0m \u001b[39mif\u001b[39;00m \u001b[39mnot\u001b[39;00m \u001b[39mself\u001b[39m\u001b[39m.\u001b[39mcheck_event(StreamEndEvent):\n",
      "File \u001b[0;32m/usr/local/lib/python3.11/site-packages/yaml/composer.py:58\u001b[0m, in \u001b[0;36mComposer.compose_document\u001b[0;34m(self)\u001b[0m\n\u001b[1;32m     55\u001b[0m node \u001b[39m=\u001b[39m \u001b[39mself\u001b[39m\u001b[39m.\u001b[39mcompose_node(\u001b[39mNone\u001b[39;00m, \u001b[39mNone\u001b[39;00m)\n\u001b[1;32m     57\u001b[0m \u001b[39m# Drop the DOCUMENT-END event.\u001b[39;00m\n\u001b[0;32m---> 58\u001b[0m \u001b[39mself\u001b[39;49m\u001b[39m.\u001b[39;49mget_event()\n\u001b[1;32m     60\u001b[0m \u001b[39mself\u001b[39m\u001b[39m.\u001b[39manchors \u001b[39m=\u001b[39m {}\n\u001b[1;32m     61\u001b[0m \u001b[39mreturn\u001b[39;00m node\n",
      "File \u001b[0;32m/usr/local/lib/python3.11/site-packages/yaml/parser.py:118\u001b[0m, in \u001b[0;36mParser.get_event\u001b[0;34m(self)\u001b[0m\n\u001b[1;32m    116\u001b[0m \u001b[39mif\u001b[39;00m \u001b[39mself\u001b[39m\u001b[39m.\u001b[39mcurrent_event \u001b[39mis\u001b[39;00m \u001b[39mNone\u001b[39;00m:\n\u001b[1;32m    117\u001b[0m     \u001b[39mif\u001b[39;00m \u001b[39mself\u001b[39m\u001b[39m.\u001b[39mstate:\n\u001b[0;32m--> 118\u001b[0m         \u001b[39mself\u001b[39m\u001b[39m.\u001b[39mcurrent_event \u001b[39m=\u001b[39m \u001b[39mself\u001b[39;49m\u001b[39m.\u001b[39;49mstate()\n\u001b[1;32m    119\u001b[0m value \u001b[39m=\u001b[39m \u001b[39mself\u001b[39m\u001b[39m.\u001b[39mcurrent_event\n\u001b[1;32m    120\u001b[0m \u001b[39mself\u001b[39m\u001b[39m.\u001b[39mcurrent_event \u001b[39m=\u001b[39m \u001b[39mNone\u001b[39;00m\n",
      "File \u001b[0;32m/usr/local/lib/python3.11/site-packages/yaml/parser.py:193\u001b[0m, in \u001b[0;36mParser.parse_document_end\u001b[0;34m(self)\u001b[0m\n\u001b[1;32m    190\u001b[0m \u001b[39mdef\u001b[39;00m \u001b[39mparse_document_end\u001b[39m(\u001b[39mself\u001b[39m):\n\u001b[1;32m    191\u001b[0m \n\u001b[1;32m    192\u001b[0m     \u001b[39m# Parse the document end.\u001b[39;00m\n\u001b[0;32m--> 193\u001b[0m     token \u001b[39m=\u001b[39m \u001b[39mself\u001b[39;49m\u001b[39m.\u001b[39;49mpeek_token()\n\u001b[1;32m    194\u001b[0m     start_mark \u001b[39m=\u001b[39m end_mark \u001b[39m=\u001b[39m token\u001b[39m.\u001b[39mstart_mark\n\u001b[1;32m    195\u001b[0m     explicit \u001b[39m=\u001b[39m \u001b[39mFalse\u001b[39;00m\n",
      "File \u001b[0;32m/usr/local/lib/python3.11/site-packages/yaml/scanner.py:129\u001b[0m, in \u001b[0;36mScanner.peek_token\u001b[0;34m(self)\u001b[0m\n\u001b[1;32m    125\u001b[0m \u001b[39mdef\u001b[39;00m \u001b[39mpeek_token\u001b[39m(\u001b[39mself\u001b[39m):\n\u001b[1;32m    126\u001b[0m     \u001b[39m# Return the next token, but do not delete if from the queue.\u001b[39;00m\n\u001b[1;32m    127\u001b[0m     \u001b[39m# Return None if no more tokens.\u001b[39;00m\n\u001b[1;32m    128\u001b[0m     \u001b[39mwhile\u001b[39;00m \u001b[39mself\u001b[39m\u001b[39m.\u001b[39mneed_more_tokens():\n\u001b[0;32m--> 129\u001b[0m         \u001b[39mself\u001b[39;49m\u001b[39m.\u001b[39;49mfetch_more_tokens()\n\u001b[1;32m    130\u001b[0m     \u001b[39mif\u001b[39;00m \u001b[39mself\u001b[39m\u001b[39m.\u001b[39mtokens:\n\u001b[1;32m    131\u001b[0m         \u001b[39mreturn\u001b[39;00m \u001b[39mself\u001b[39m\u001b[39m.\u001b[39mtokens[\u001b[39m0\u001b[39m]\n",
      "File \u001b[0;32m/usr/local/lib/python3.11/site-packages/yaml/scanner.py:223\u001b[0m, in \u001b[0;36mScanner.fetch_more_tokens\u001b[0;34m(self)\u001b[0m\n\u001b[1;32m    221\u001b[0m \u001b[39m# Is it the value indicator?\u001b[39;00m\n\u001b[1;32m    222\u001b[0m \u001b[39mif\u001b[39;00m ch \u001b[39m==\u001b[39m \u001b[39m'\u001b[39m\u001b[39m:\u001b[39m\u001b[39m'\u001b[39m \u001b[39mand\u001b[39;00m \u001b[39mself\u001b[39m\u001b[39m.\u001b[39mcheck_value():\n\u001b[0;32m--> 223\u001b[0m     \u001b[39mreturn\u001b[39;00m \u001b[39mself\u001b[39;49m\u001b[39m.\u001b[39;49mfetch_value()\n\u001b[1;32m    225\u001b[0m \u001b[39m# Is it an alias?\u001b[39;00m\n\u001b[1;32m    226\u001b[0m \u001b[39mif\u001b[39;00m ch \u001b[39m==\u001b[39m \u001b[39m'\u001b[39m\u001b[39m*\u001b[39m\u001b[39m'\u001b[39m:\n",
      "File \u001b[0;32m/usr/local/lib/python3.11/site-packages/yaml/scanner.py:577\u001b[0m, in \u001b[0;36mScanner.fetch_value\u001b[0;34m(self)\u001b[0m\n\u001b[1;32m    572\u001b[0m \u001b[39mif\u001b[39;00m \u001b[39mnot\u001b[39;00m \u001b[39mself\u001b[39m\u001b[39m.\u001b[39mflow_level:\n\u001b[1;32m    573\u001b[0m \n\u001b[1;32m    574\u001b[0m     \u001b[39m# We are allowed to start a complex value if and only if\u001b[39;00m\n\u001b[1;32m    575\u001b[0m     \u001b[39m# we can start a simple key.\u001b[39;00m\n\u001b[1;32m    576\u001b[0m     \u001b[39mif\u001b[39;00m \u001b[39mnot\u001b[39;00m \u001b[39mself\u001b[39m\u001b[39m.\u001b[39mallow_simple_key:\n\u001b[0;32m--> 577\u001b[0m         \u001b[39mraise\u001b[39;00m ScannerError(\u001b[39mNone\u001b[39;00m, \u001b[39mNone\u001b[39;00m,\n\u001b[1;32m    578\u001b[0m                 \u001b[39m\"\u001b[39m\u001b[39mmapping values are not allowed here\u001b[39m\u001b[39m\"\u001b[39m,\n\u001b[1;32m    579\u001b[0m                 \u001b[39mself\u001b[39m\u001b[39m.\u001b[39mget_mark())\n\u001b[1;32m    581\u001b[0m \u001b[39m# If this value starts a new block mapping, we need to add\u001b[39;00m\n\u001b[1;32m    582\u001b[0m \u001b[39m# BLOCK-MAPPING-START.  It will be detected as an error later by\u001b[39;00m\n\u001b[1;32m    583\u001b[0m \u001b[39m# the parser.\u001b[39;00m\n\u001b[1;32m    584\u001b[0m \u001b[39mif\u001b[39;00m \u001b[39mnot\u001b[39;00m \u001b[39mself\u001b[39m\u001b[39m.\u001b[39mflow_level:\n",
      "\u001b[0;31mScannerError\u001b[0m: mapping values are not allowed here\n  in \"../config.py\", line 4, column 21"
     ]
    }
   ],
   "source": [
    "load_config(\"../config.py\")"
   ]
  },
  {
   "cell_type": "code",
   "execution_count": 25,
   "metadata": {},
   "outputs": [
    {
     "ename": "ScannerError",
     "evalue": "mapping values are not allowed here\n  in \"../config.py\", line 4, column 21",
     "output_type": "error",
     "traceback": [
      "\u001b[0;31m---------------------------------------------------------------------------\u001b[0m",
      "\u001b[0;31mScannerError\u001b[0m                              Traceback (most recent call last)",
      "Cell \u001b[0;32mIn[25], line 1\u001b[0m\n\u001b[0;32m----> 1\u001b[0m load_config(\u001b[39m\"\u001b[39;49m\u001b[39m../config.py\u001b[39;49m\u001b[39m\"\u001b[39;49m)\n",
      "File \u001b[1;32m/workspaces/langchain-progai/langchain_progai/config.py:4\u001b[0m\n\u001b[1;32m      2\u001b[0m \u001b[39m\u001b[39m\u001b[39m\"\"\"Utility function to load a langchain_progai configuration with model endpoints.\"\"\"\u001b[39;00m\n\u001b[1;32m      3\u001b[0m \u001b[39mwith\u001b[39;00m \u001b[39mopen\u001b[39m(path, \u001b[39m'\u001b[39m\u001b[39mr\u001b[39m\u001b[39m'\u001b[39m) \u001b[39mas\u001b[39;00m file:\n\u001b[0;32m----> 4\u001b[0m     config \u001b[39m=\u001b[39m yaml\u001b[39m.\u001b[39;49msafe_load(file)\n\u001b[1;32m      5\u001b[0m \u001b[39mreturn\u001b[39;00m config\n",
      "File \u001b[0;32m/usr/local/lib/python3.11/site-packages/yaml/__init__.py:125\u001b[0m, in \u001b[0;36msafe_load\u001b[0;34m(stream)\u001b[0m\n\u001b[1;32m    117\u001b[0m \u001b[39mdef\u001b[39;00m \u001b[39msafe_load\u001b[39m(stream):\n\u001b[1;32m    118\u001b[0m \u001b[39m    \u001b[39m\u001b[39m\"\"\"\u001b[39;00m\n\u001b[1;32m    119\u001b[0m \u001b[39m    Parse the first YAML document in a stream\u001b[39;00m\n\u001b[1;32m    120\u001b[0m \u001b[39m    and produce the corresponding Python object.\u001b[39;00m\n\u001b[0;32m   (...)\u001b[0m\n\u001b[1;32m    123\u001b[0m \u001b[39m    to be safe for untrusted input.\u001b[39;00m\n\u001b[1;32m    124\u001b[0m \u001b[39m    \"\"\"\u001b[39;00m\n\u001b[0;32m--> 125\u001b[0m     \u001b[39mreturn\u001b[39;00m load(stream, SafeLoader)\n",
      "File \u001b[0;32m/usr/local/lib/python3.11/site-packages/yaml/__init__.py:81\u001b[0m, in \u001b[0;36mload\u001b[0;34m(stream, Loader)\u001b[0m\n\u001b[1;32m     79\u001b[0m loader \u001b[39m=\u001b[39m Loader(stream)\n\u001b[1;32m     80\u001b[0m \u001b[39mtry\u001b[39;00m:\n\u001b[0;32m---> 81\u001b[0m     \u001b[39mreturn\u001b[39;00m loader\u001b[39m.\u001b[39;49mget_single_data()\n\u001b[1;32m     82\u001b[0m \u001b[39mfinally\u001b[39;00m:\n\u001b[1;32m     83\u001b[0m     loader\u001b[39m.\u001b[39mdispose()\n",
      "File \u001b[0;32m/usr/local/lib/python3.11/site-packages/yaml/constructor.py:49\u001b[0m, in \u001b[0;36mBaseConstructor.get_single_data\u001b[0;34m(self)\u001b[0m\n\u001b[1;32m     47\u001b[0m \u001b[39mdef\u001b[39;00m \u001b[39mget_single_data\u001b[39m(\u001b[39mself\u001b[39m):\n\u001b[1;32m     48\u001b[0m     \u001b[39m# Ensure that the stream contains a single document and construct it.\u001b[39;00m\n\u001b[0;32m---> 49\u001b[0m     node \u001b[39m=\u001b[39m \u001b[39mself\u001b[39;49m\u001b[39m.\u001b[39;49mget_single_node()\n\u001b[1;32m     50\u001b[0m     \u001b[39mif\u001b[39;00m node \u001b[39mis\u001b[39;00m \u001b[39mnot\u001b[39;00m \u001b[39mNone\u001b[39;00m:\n\u001b[1;32m     51\u001b[0m         \u001b[39mreturn\u001b[39;00m \u001b[39mself\u001b[39m\u001b[39m.\u001b[39mconstruct_document(node)\n",
      "File \u001b[0;32m/usr/local/lib/python3.11/site-packages/yaml/composer.py:36\u001b[0m, in \u001b[0;36mComposer.get_single_node\u001b[0;34m(self)\u001b[0m\n\u001b[1;32m     34\u001b[0m document \u001b[39m=\u001b[39m \u001b[39mNone\u001b[39;00m\n\u001b[1;32m     35\u001b[0m \u001b[39mif\u001b[39;00m \u001b[39mnot\u001b[39;00m \u001b[39mself\u001b[39m\u001b[39m.\u001b[39mcheck_event(StreamEndEvent):\n\u001b[0;32m---> 36\u001b[0m     document \u001b[39m=\u001b[39m \u001b[39mself\u001b[39;49m\u001b[39m.\u001b[39;49mcompose_document()\n\u001b[1;32m     38\u001b[0m \u001b[39m# Ensure that the stream contains no more documents.\u001b[39;00m\n\u001b[1;32m     39\u001b[0m \u001b[39mif\u001b[39;00m \u001b[39mnot\u001b[39;00m \u001b[39mself\u001b[39m\u001b[39m.\u001b[39mcheck_event(StreamEndEvent):\n",
      "File \u001b[0;32m/usr/local/lib/python3.11/site-packages/yaml/composer.py:58\u001b[0m, in \u001b[0;36mComposer.compose_document\u001b[0;34m(self)\u001b[0m\n\u001b[1;32m     55\u001b[0m node \u001b[39m=\u001b[39m \u001b[39mself\u001b[39m\u001b[39m.\u001b[39mcompose_node(\u001b[39mNone\u001b[39;00m, \u001b[39mNone\u001b[39;00m)\n\u001b[1;32m     57\u001b[0m \u001b[39m# Drop the DOCUMENT-END event.\u001b[39;00m\n\u001b[0;32m---> 58\u001b[0m \u001b[39mself\u001b[39;49m\u001b[39m.\u001b[39;49mget_event()\n\u001b[1;32m     60\u001b[0m \u001b[39mself\u001b[39m\u001b[39m.\u001b[39manchors \u001b[39m=\u001b[39m {}\n\u001b[1;32m     61\u001b[0m \u001b[39mreturn\u001b[39;00m node\n",
      "File \u001b[0;32m/usr/local/lib/python3.11/site-packages/yaml/parser.py:118\u001b[0m, in \u001b[0;36mParser.get_event\u001b[0;34m(self)\u001b[0m\n\u001b[1;32m    116\u001b[0m \u001b[39mif\u001b[39;00m \u001b[39mself\u001b[39m\u001b[39m.\u001b[39mcurrent_event \u001b[39mis\u001b[39;00m \u001b[39mNone\u001b[39;00m:\n\u001b[1;32m    117\u001b[0m     \u001b[39mif\u001b[39;00m \u001b[39mself\u001b[39m\u001b[39m.\u001b[39mstate:\n\u001b[0;32m--> 118\u001b[0m         \u001b[39mself\u001b[39m\u001b[39m.\u001b[39mcurrent_event \u001b[39m=\u001b[39m \u001b[39mself\u001b[39;49m\u001b[39m.\u001b[39;49mstate()\n\u001b[1;32m    119\u001b[0m value \u001b[39m=\u001b[39m \u001b[39mself\u001b[39m\u001b[39m.\u001b[39mcurrent_event\n\u001b[1;32m    120\u001b[0m \u001b[39mself\u001b[39m\u001b[39m.\u001b[39mcurrent_event \u001b[39m=\u001b[39m \u001b[39mNone\u001b[39;00m\n",
      "File \u001b[0;32m/usr/local/lib/python3.11/site-packages/yaml/parser.py:193\u001b[0m, in \u001b[0;36mParser.parse_document_end\u001b[0;34m(self)\u001b[0m\n\u001b[1;32m    190\u001b[0m \u001b[39mdef\u001b[39;00m \u001b[39mparse_document_end\u001b[39m(\u001b[39mself\u001b[39m):\n\u001b[1;32m    191\u001b[0m \n\u001b[1;32m    192\u001b[0m     \u001b[39m# Parse the document end.\u001b[39;00m\n\u001b[0;32m--> 193\u001b[0m     token \u001b[39m=\u001b[39m \u001b[39mself\u001b[39;49m\u001b[39m.\u001b[39;49mpeek_token()\n\u001b[1;32m    194\u001b[0m     start_mark \u001b[39m=\u001b[39m end_mark \u001b[39m=\u001b[39m token\u001b[39m.\u001b[39mstart_mark\n\u001b[1;32m    195\u001b[0m     explicit \u001b[39m=\u001b[39m \u001b[39mFalse\u001b[39;00m\n",
      "File \u001b[0;32m/usr/local/lib/python3.11/site-packages/yaml/scanner.py:129\u001b[0m, in \u001b[0;36mScanner.peek_token\u001b[0;34m(self)\u001b[0m\n\u001b[1;32m    125\u001b[0m \u001b[39mdef\u001b[39;00m \u001b[39mpeek_token\u001b[39m(\u001b[39mself\u001b[39m):\n\u001b[1;32m    126\u001b[0m     \u001b[39m# Return the next token, but do not delete if from the queue.\u001b[39;00m\n\u001b[1;32m    127\u001b[0m     \u001b[39m# Return None if no more tokens.\u001b[39;00m\n\u001b[1;32m    128\u001b[0m     \u001b[39mwhile\u001b[39;00m \u001b[39mself\u001b[39m\u001b[39m.\u001b[39mneed_more_tokens():\n\u001b[0;32m--> 129\u001b[0m         \u001b[39mself\u001b[39;49m\u001b[39m.\u001b[39;49mfetch_more_tokens()\n\u001b[1;32m    130\u001b[0m     \u001b[39mif\u001b[39;00m \u001b[39mself\u001b[39m\u001b[39m.\u001b[39mtokens:\n\u001b[1;32m    131\u001b[0m         \u001b[39mreturn\u001b[39;00m \u001b[39mself\u001b[39m\u001b[39m.\u001b[39mtokens[\u001b[39m0\u001b[39m]\n",
      "File \u001b[0;32m/usr/local/lib/python3.11/site-packages/yaml/scanner.py:223\u001b[0m, in \u001b[0;36mScanner.fetch_more_tokens\u001b[0;34m(self)\u001b[0m\n\u001b[1;32m    221\u001b[0m \u001b[39m# Is it the value indicator?\u001b[39;00m\n\u001b[1;32m    222\u001b[0m \u001b[39mif\u001b[39;00m ch \u001b[39m==\u001b[39m \u001b[39m'\u001b[39m\u001b[39m:\u001b[39m\u001b[39m'\u001b[39m \u001b[39mand\u001b[39;00m \u001b[39mself\u001b[39m\u001b[39m.\u001b[39mcheck_value():\n\u001b[0;32m--> 223\u001b[0m     \u001b[39mreturn\u001b[39;00m \u001b[39mself\u001b[39;49m\u001b[39m.\u001b[39;49mfetch_value()\n\u001b[1;32m    225\u001b[0m \u001b[39m# Is it an alias?\u001b[39;00m\n\u001b[1;32m    226\u001b[0m \u001b[39mif\u001b[39;00m ch \u001b[39m==\u001b[39m \u001b[39m'\u001b[39m\u001b[39m*\u001b[39m\u001b[39m'\u001b[39m:\n",
      "File \u001b[0;32m/usr/local/lib/python3.11/site-packages/yaml/scanner.py:577\u001b[0m, in \u001b[0;36mScanner.fetch_value\u001b[0;34m(self)\u001b[0m\n\u001b[1;32m    572\u001b[0m \u001b[39mif\u001b[39;00m \u001b[39mnot\u001b[39;00m \u001b[39mself\u001b[39m\u001b[39m.\u001b[39mflow_level:\n\u001b[1;32m    573\u001b[0m \n\u001b[1;32m    574\u001b[0m     \u001b[39m# We are allowed to start a complex value if and only if\u001b[39;00m\n\u001b[1;32m    575\u001b[0m     \u001b[39m# we can start a simple key.\u001b[39;00m\n\u001b[1;32m    576\u001b[0m     \u001b[39mif\u001b[39;00m \u001b[39mnot\u001b[39;00m \u001b[39mself\u001b[39m\u001b[39m.\u001b[39mallow_simple_key:\n\u001b[0;32m--> 577\u001b[0m         \u001b[39mraise\u001b[39;00m ScannerError(\u001b[39mNone\u001b[39;00m, \u001b[39mNone\u001b[39;00m,\n\u001b[1;32m    578\u001b[0m                 \u001b[39m\"\u001b[39m\u001b[39mmapping values are not allowed here\u001b[39m\u001b[39m\"\u001b[39m,\n\u001b[1;32m    579\u001b[0m                 \u001b[39mself\u001b[39m\u001b[39m.\u001b[39mget_mark())\n\u001b[1;32m    581\u001b[0m \u001b[39m# If this value starts a new block mapping, we need to add\u001b[39;00m\n\u001b[1;32m    582\u001b[0m \u001b[39m# BLOCK-MAPPING-START.  It will be detected as an error later by\u001b[39;00m\n\u001b[1;32m    583\u001b[0m \u001b[39m# the parser.\u001b[39;00m\n\u001b[1;32m    584\u001b[0m \u001b[39mif\u001b[39;00m \u001b[39mnot\u001b[39;00m \u001b[39mself\u001b[39m\u001b[39m.\u001b[39mflow_level:\n",
      "\u001b[0;31mScannerError\u001b[0m: mapping values are not allowed here\n  in \"../config.py\", line 4, column 21"
     ]
    }
   ],
   "source": [
    "load_config(\"../config.py\")"
   ]
  },
  {
   "cell_type": "code",
   "execution_count": 26,
   "id": "297158e8-4ea3-4937-8ce8-d8f2f2a0ee70",
   "metadata": {},
   "outputs": [],
   "source": [
    "import yaml"
   ]
  },
  {
   "cell_type": "code",
   "execution_count": 27,
   "metadata": {},
   "outputs": [
    {
     "data": {
      "text/plain": [
       "'../config.yaml'"
      ]
     },
     "execution_count": 27,
     "metadata": {},
     "output_type": "execute_result"
    }
   ],
   "source": [
    "yaml.safe_load(\"../config.yaml\")"
   ]
  },
  {
   "cell_type": "code",
   "execution_count": 28,
   "metadata": {},
   "outputs": [
    {
     "data": {
      "text/plain": [
       "'../config.yaml'"
      ]
     },
     "execution_count": 28,
     "metadata": {},
     "output_type": "execute_result"
    }
   ],
   "source": [
    "yaml.safe_load(\"../config.yaml\")"
   ]
  },
  {
   "cell_type": "code",
   "execution_count": 29,
   "metadata": {},
   "outputs": [
    {
     "data": {
      "text/plain": [
       "'../../config.yaml'"
      ]
     },
     "execution_count": 29,
     "metadata": {},
     "output_type": "execute_result"
    }
   ],
   "source": [
    "yaml.safe_load(\"../../config.yaml\")"
   ]
  },
  {
   "cell_type": "code",
   "execution_count": 30,
   "metadata": {},
   "outputs": [
    {
     "data": {
      "text/plain": [
       "True"
      ]
     },
     "execution_count": 30,
     "metadata": {},
     "output_type": "execute_result"
    }
   ],
   "source": [
    "os.path.isfile(\"../../config.yaml\")"
   ]
  },
  {
   "cell_type": "code",
   "execution_count": 31,
   "metadata": {},
   "outputs": [
    {
     "data": {
      "text/plain": [
       "{'test': {'test1': 1}}"
      ]
     },
     "execution_count": 31,
     "metadata": {},
     "output_type": "execute_result"
    }
   ],
   "source": [
    "load_config(\"../../config.yaml\")"
   ]
  },
  {
   "cell_type": "code",
   "execution_count": 32,
   "metadata": {},
   "outputs": [
    {
     "data": {
      "text/plain": [
       "{'endpoints': {'dolphin': 'http://10.0.0.136:8091/completion',\n",
       "  'zephyr-7b-beta': 'https://progai.prognostica.de/zephyr-7b-beta/',\n",
       "  'mixtral': 'https://progai.prognostica.de/mixtral-instruct/',\n",
       "  'llama3': 'https://progai.prognostica.de/llama3/',\n",
       "  'embedding': 'https://localhost:8080/embed',\n",
       "  'reranker': 'https://progai.prognostica.de/bge-reranker-large'}}"
      ]
     },
     "execution_count": 32,
     "metadata": {},
     "output_type": "execute_result"
    }
   ],
   "source": [
    "load_config(\"../../config.yaml\")"
   ]
  },
  {
   "cell_type": "code",
   "execution_count": 33,
   "metadata": {},
   "outputs": [],
   "source": [
    "name=\"ba\""
   ]
  },
  {
   "cell_type": "code",
   "execution_count": 34,
   "metadata": {},
   "outputs": [
    {
     "data": {
      "text/plain": [
       "'ba'"
      ]
     },
     "execution_count": 34,
     "metadata": {},
     "output_type": "execute_result"
    }
   ],
   "source": [
    "name_to_env_pattern = None\n",
    "name_to_env_pattern(name) if name_to_env_pattern else name"
   ]
  },
  {
   "cell_type": "code",
   "execution_count": 35,
   "id": "d0b5e178-e62c-4521-abe6-f127aac5a290",
   "metadata": {},
   "outputs": [],
   "source": [
    "from importlib import resources"
   ]
  },
  {
   "cell_type": "code",
   "execution_count": 36,
   "id": "b665dece-8828-4824-b1e1-1dc1d7511301",
   "metadata": {},
   "outputs": [
    {
     "name": "stderr",
     "output_type": "stream",
     "text": [
      "<ipython-input-36-47f3acca35cd>:1: DeprecationWarning: open_text is deprecated. Use files() instead. Refer to https://importlib-resources.readthedocs.io/en/latest/using.html#migrating-from-legacy for migration advice.\n",
      "  resources.open_text(\"langchain_progai.config\", \"default_config.yaml\")\n"
     ]
    },
    {
     "data": {
      "text/plain": [
       "<_io.TextIOWrapper name='/workspaces/langchain-progai/langchain_progai/config/default_config.yaml' mode='r' encoding='utf-8'>"
      ]
     },
     "execution_count": 36,
     "metadata": {},
     "output_type": "execute_result"
    }
   ],
   "source": [
    "resources.open_text(\"langchain_progai.config\", \"default_config.yaml\")"
   ]
  },
  {
   "cell_type": "code",
   "execution_count": 37,
   "id": "db0c6f68-9951-472d-a0f2-66cfc96e5889",
   "metadata": {},
   "outputs": [],
   "source": [
    "import os\n",
    "import yaml\n",
    "from typing import Callable\n",
    "from importlib import resources\n",
    "\n",
    "\n",
    "def load_config(path: str | None = None) -> dict:\n",
    "    \"\"\"Utility function to load a langchain_progai configuration with model endpoints.\n",
    "\n",
    "    The function takes an hierarchical approach. Without specification, the projects default_config.yaml is loaded.\n",
    "    If an environment variable LANGCHAIN_PROGAI_CONFIG exists, this is preferred, but overwritten from an explicit\n",
    "    specification of path.\n",
    "\n",
    "    Parameters\n",
    "    ----------\n",
    "    path\n",
    "        Path of config.yaml to load.\n",
    "\n",
    "    Returns\n",
    "    -------\n",
    "    Dictonary of loaded yaml.\n",
    "    \"\"\"\n",
    "    path = path or os.getenv(\"LANGCHAIN_PROGAI_CONFIG\", resources.open_text(\"langchain_progai.config\", \"default_config.yaml\"))\n",
    "\n",
    "    with open(path, 'r') as file:\n",
    "        config = yaml.safe_load(file)\n",
    "    return config"
   ]
  },
  {
   "cell_type": "code",
   "execution_count": 38,
   "id": "026d807e-62a9-4cf7-b846-c9125f78ba42",
   "metadata": {},
   "outputs": [],
   "source": [
    "import os\n",
    "import yaml\n",
    "from typing import Callable\n",
    "from importlib import resources\n",
    "\n",
    "\n",
    "def load_config(path: str | None = None) -> dict:\n",
    "    \"\"\"Utility function to load a langchain_progai configuration with model endpoints.\n",
    "\n",
    "    The function takes an hierarchical approach. Without specification, the projects default_config.yaml is loaded.\n",
    "    If an environment variable LANGCHAIN_PROGAI_CONFIG exists, this is preferred, but overwritten from an explicit\n",
    "    specification of path.\n",
    "\n",
    "    Parameters\n",
    "    ----------\n",
    "    path\n",
    "        Path of config.yaml to load.\n",
    "\n",
    "    Returns\n",
    "    -------\n",
    "    Dictonary of loaded yaml.\n",
    "    \"\"\"\n",
    "    path = path or os.getenv(\n",
    "        \"LANGCHAIN_PROGAI_CONFIG\",\n",
    "        resources.open_text(\"langchain_progai.config\", \"default_config.yaml\")\n",
    "    )\n",
    "\n",
    "    with open(path, 'r') as file:\n",
    "        config = yaml.safe_load(file)\n",
    "    return config"
   ]
  },
  {
   "cell_type": "code",
   "execution_count": 39,
   "metadata": {},
   "outputs": [
    {
     "name": "stderr",
     "output_type": "stream",
     "text": [
      "<ipython-input-38-9d76af0fbf05>:25: DeprecationWarning: open_text is deprecated. Use files() instead. Refer to https://importlib-resources.readthedocs.io/en/latest/using.html#migrating-from-legacy for migration advice.\n",
      "  resources.open_text(\"langchain_progai.config\", \"default_config.yaml\")\n"
     ]
    },
    {
     "ename": "TypeError",
     "evalue": "expected str, bytes or os.PathLike object, not TextIOWrapper",
     "output_type": "error",
     "traceback": [
      "\u001b[0;31m---------------------------------------------------------------------------\u001b[0m",
      "\u001b[0;31mTypeError\u001b[0m                                 Traceback (most recent call last)",
      "Cell \u001b[0;32mIn[39], line 1\u001b[0m\n\u001b[0;32m----> 1\u001b[0m load_config()\n",
      "File \u001b[1;32m/workspaces/langchain-progai/langchain_progai/config/config.py:28\u001b[0m\n\u001b[1;32m      8\u001b[0m \u001b[39m\u001b[39m\u001b[39m\"\"\"Utility function to load a langchain_progai configuration with model endpoints.\u001b[39;00m\n\u001b[1;32m      9\u001b[0m \n\u001b[1;32m     10\u001b[0m \u001b[39mThe function takes an hierarchical approach. Without specification, the projects default_config.yaml is loaded.\u001b[39;00m\n\u001b[0;32m   (...)\u001b[0m\n\u001b[1;32m     21\u001b[0m \u001b[39mDictonary of loaded yaml.\u001b[39;00m\n\u001b[1;32m     22\u001b[0m \u001b[39m\"\"\"\u001b[39;00m\n\u001b[1;32m     23\u001b[0m path \u001b[39m=\u001b[39m path \u001b[39mor\u001b[39;00m os\u001b[39m.\u001b[39mgetenv(\n\u001b[1;32m     24\u001b[0m     \u001b[39m\"\u001b[39m\u001b[39mLANGCHAIN_PROGAI_CONFIG\u001b[39m\u001b[39m\"\u001b[39m,\n\u001b[1;32m     25\u001b[0m     resources\u001b[39m.\u001b[39mopen_text(\u001b[39m\"\u001b[39m\u001b[39mlangchain_progai.config\u001b[39m\u001b[39m\"\u001b[39m, \u001b[39m\"\u001b[39m\u001b[39mdefault_config.yaml\u001b[39m\u001b[39m\"\u001b[39m)\n\u001b[1;32m     26\u001b[0m )\n\u001b[0;32m---> 28\u001b[0m \u001b[39mwith\u001b[39;00m \u001b[39mopen\u001b[39;49m(path, \u001b[39m'\u001b[39;49m\u001b[39mr\u001b[39;49m\u001b[39m'\u001b[39;49m) \u001b[39mas\u001b[39;00m file:\n\u001b[1;32m     29\u001b[0m     config \u001b[39m=\u001b[39m yaml\u001b[39m.\u001b[39msafe_load(file)\n\u001b[1;32m     30\u001b[0m \u001b[39mreturn\u001b[39;00m config\n",
      "File \u001b[0;32m/usr/local/lib/python3.11/site-packages/IPython/core/interactiveshell.py:324\u001b[0m, in \u001b[0;36m_modified_open\u001b[0;34m(file, *args, **kwargs)\u001b[0m\n\u001b[1;32m    317\u001b[0m \u001b[39mif\u001b[39;00m file \u001b[39min\u001b[39;00m {\u001b[39m0\u001b[39m, \u001b[39m1\u001b[39m, \u001b[39m2\u001b[39m}:\n\u001b[1;32m    318\u001b[0m     \u001b[39mraise\u001b[39;00m \u001b[39mValueError\u001b[39;00m(\n\u001b[1;32m    319\u001b[0m         \u001b[39mf\u001b[39m\u001b[39m\"\u001b[39m\u001b[39mIPython won\u001b[39m\u001b[39m'\u001b[39m\u001b[39mt let you open fd=\u001b[39m\u001b[39m{\u001b[39;00mfile\u001b[39m}\u001b[39;00m\u001b[39m by default \u001b[39m\u001b[39m\"\u001b[39m\n\u001b[1;32m    320\u001b[0m         \u001b[39m\"\u001b[39m\u001b[39mas it is likely to crash IPython. If you know what you are doing, \u001b[39m\u001b[39m\"\u001b[39m\n\u001b[1;32m    321\u001b[0m         \u001b[39m\"\u001b[39m\u001b[39myou can use builtins\u001b[39m\u001b[39m'\u001b[39m\u001b[39m open.\u001b[39m\u001b[39m\"\u001b[39m\n\u001b[1;32m    322\u001b[0m     )\n\u001b[0;32m--> 324\u001b[0m \u001b[39mreturn\u001b[39;00m io_open(file, \u001b[39m*\u001b[39;49margs, \u001b[39m*\u001b[39;49m\u001b[39m*\u001b[39;49mkwargs)\n",
      "\u001b[0;31mTypeError\u001b[0m: expected str, bytes or os.PathLike object, not TextIOWrapper"
     ]
    }
   ],
   "source": [
    "load_config()"
   ]
  },
  {
   "cell_type": "code",
   "execution_count": 40,
   "id": "f6d6dad9-8b74-40fa-b14c-5f1ecde9e4e0",
   "metadata": {},
   "outputs": [
    {
     "ename": "NameError",
     "evalue": "name 'path' is not defined",
     "output_type": "error",
     "traceback": [
      "\u001b[0;31m---------------------------------------------------------------------------\u001b[0m",
      "\u001b[0;31mNameError\u001b[0m                                 Traceback (most recent call last)",
      "File \u001b[1;32m/workspaces/langchain-progai/langchain_progai/config/config.py:1\u001b[0m\n\u001b[0;32m----> 1\u001b[0m path \u001b[39m=\u001b[39m path \u001b[39mor\u001b[39;00m os\u001b[39m.\u001b[39mgetenv(\n\u001b[1;32m      2\u001b[0m     \u001b[39m\"\u001b[39m\u001b[39mLANGCHAIN_PROGAI_CONFIG\u001b[39m\u001b[39m\"\u001b[39m,\n\u001b[1;32m      3\u001b[0m     resources\u001b[39m.\u001b[39mopen_text(\u001b[39m\"\u001b[39m\u001b[39mlangchain_progai.config\u001b[39m\u001b[39m\"\u001b[39m, \u001b[39m\"\u001b[39m\u001b[39mdefault_config.yaml\u001b[39m\u001b[39m\"\u001b[39m)\n\u001b[1;32m      4\u001b[0m )\n",
      "\u001b[0;31mNameError\u001b[0m: name 'path' is not defined"
     ]
    }
   ],
   "source": [
    "path = path or os.getenv(\n",
    "    \"LANGCHAIN_PROGAI_CONFIG\",\n",
    "    resources.open_text(\"langchain_progai.config\", \"default_config.yaml\")\n",
    ")"
   ]
  },
  {
   "cell_type": "code",
   "execution_count": 41,
   "id": "76c45a3d-06af-4121-a18e-92408a4d55b5",
   "metadata": {},
   "outputs": [
    {
     "name": "stderr",
     "output_type": "stream",
     "text": [
      "<ipython-input-41-47f3acca35cd>:1: DeprecationWarning: open_text is deprecated. Use files() instead. Refer to https://importlib-resources.readthedocs.io/en/latest/using.html#migrating-from-legacy for migration advice.\n",
      "  resources.open_text(\"langchain_progai.config\", \"default_config.yaml\")\n"
     ]
    },
    {
     "data": {
      "text/plain": [
       "<_io.TextIOWrapper name='/workspaces/langchain-progai/langchain_progai/config/default_config.yaml' mode='r' encoding='utf-8'>"
      ]
     },
     "execution_count": 41,
     "metadata": {},
     "output_type": "execute_result"
    }
   ],
   "source": [
    "resources.open_text(\"langchain_progai.config\", \"default_config.yaml\")"
   ]
  },
  {
   "cell_type": "code",
   "execution_count": 42,
   "metadata": {},
   "outputs": [
    {
     "name": "stderr",
     "output_type": "stream",
     "text": [
      "<ipython-input-42-442b875fd3ed>:1: DeprecationWarning: open_text is deprecated. Use files() instead. Refer to https://importlib-resources.readthedocs.io/en/latest/using.html#migrating-from-legacy for migration advice.\n",
      "  str(resources.open_text(\"langchain_progai.config\", \"default_config.yaml\"))\n"
     ]
    },
    {
     "data": {
      "text/plain": [
       "\"<_io.TextIOWrapper name='/workspaces/langchain-progai/langchain_progai/config/default_config.yaml' mode='r' encoding='utf-8'>\""
      ]
     },
     "execution_count": 42,
     "metadata": {},
     "output_type": "execute_result"
    }
   ],
   "source": [
    "str(resources.open_text(\"langchain_progai.config\", \"default_config.yaml\"))"
   ]
  },
  {
   "cell_type": "code",
   "execution_count": 43,
   "metadata": {},
   "outputs": [
    {
     "name": "stderr",
     "output_type": "stream",
     "text": [
      "<ipython-input-43-668d18019f00>:1: DeprecationWarning: open_text is deprecated. Use files() instead. Refer to https://importlib-resources.readthedocs.io/en/latest/using.html#migrating-from-legacy for migration advice.\n",
      "  str(resources.open_text(\"langchain_progai.config\", \"default_config.yaml\").name)\n"
     ]
    },
    {
     "data": {
      "text/plain": [
       "'/workspaces/langchain-progai/langchain_progai/config/default_config.yaml'"
      ]
     },
     "execution_count": 43,
     "metadata": {},
     "output_type": "execute_result"
    }
   ],
   "source": [
    "str(resources.open_text(\"langchain_progai.config\", \"default_config.yaml\").name)"
   ]
  },
  {
   "cell_type": "code",
   "execution_count": 44,
   "metadata": {},
   "outputs": [
    {
     "name": "stderr",
     "output_type": "stream",
     "text": [
      "<ipython-input-44-1bb6e231f2fc>:1: DeprecationWarning: open_text is deprecated. Use files() instead. Refer to https://importlib-resources.readthedocs.io/en/latest/using.html#migrating-from-legacy for migration advice.\n",
      "  resources.open_text(\"langchain_progai.config\", \"default_config.yaml\").name\n"
     ]
    },
    {
     "data": {
      "text/plain": [
       "'/workspaces/langchain-progai/langchain_progai/config/default_config.yaml'"
      ]
     },
     "execution_count": 44,
     "metadata": {},
     "output_type": "execute_result"
    }
   ],
   "source": [
    "resources.open_text(\"langchain_progai.config\", \"default_config.yaml\").name"
   ]
  },
  {
   "cell_type": "code",
   "execution_count": 45,
   "metadata": {},
   "outputs": [
    {
     "name": "stderr",
     "output_type": "stream",
     "text": [
      "<ipython-input-45-1bb6e231f2fc>:1: DeprecationWarning: open_text is deprecated. Use files() instead. Refer to https://importlib-resources.readthedocs.io/en/latest/using.html#migrating-from-legacy for migration advice.\n",
      "  resources.open_text(\"langchain_progai.config\", \"default_config.yaml\").name\n"
     ]
    },
    {
     "data": {
      "text/plain": [
       "'/workspaces/langchain-progai/langchain_progai/config/default_config.yaml'"
      ]
     },
     "execution_count": 45,
     "metadata": {},
     "output_type": "execute_result"
    }
   ],
   "source": [
    "resources.open_text(\"langchain_progai.config\", \"default_config.yaml\").name"
   ]
  },
  {
   "cell_type": "code",
   "execution_count": 46,
   "metadata": {},
   "outputs": [
    {
     "ename": "TypeError",
     "evalue": "files() takes 1 positional argument but 2 were given",
     "output_type": "error",
     "traceback": [
      "\u001b[0;31m---------------------------------------------------------------------------\u001b[0m",
      "\u001b[0;31mTypeError\u001b[0m                                 Traceback (most recent call last)",
      "Cell \u001b[0;32mIn[46], line 1\u001b[0m\n\u001b[0;32m----> 1\u001b[0m resources\u001b[39m.\u001b[39;49mfiles(\u001b[39m\"\u001b[39;49m\u001b[39mlangchain_progai.config\u001b[39;49m\u001b[39m\"\u001b[39;49m, \u001b[39m\"\u001b[39;49m\u001b[39mdefault_config.yaml\u001b[39;49m\u001b[39m\"\u001b[39;49m)\u001b[39m.\u001b[39mname\n",
      "\u001b[0;31mTypeError\u001b[0m: files() takes 1 positional argument but 2 were given"
     ]
    }
   ],
   "source": [
    "resources.files(\"langchain_progai.config\", \"default_config.yaml\").name"
   ]
  },
  {
   "cell_type": "code",
   "execution_count": 47,
   "metadata": {},
   "outputs": [
    {
     "data": {
      "text/plain": [
       "PosixPath('/workspaces/langchain-progai/langchain_progai')"
      ]
     },
     "execution_count": 47,
     "metadata": {},
     "output_type": "execute_result"
    }
   ],
   "source": [
    "resources.files(\"langchain_progai\")\n",
    "\n",
    "# .config\"\n",
    "\n",
    "# , \"default_config.yaml\").name"
   ]
  },
  {
   "cell_type": "code",
   "execution_count": 48,
   "metadata": {},
   "outputs": [
    {
     "ename": "AttributeError",
     "evalue": "'PosixPath' object has no attribute 'config'",
     "output_type": "error",
     "traceback": [
      "\u001b[0;31m---------------------------------------------------------------------------\u001b[0m",
      "\u001b[0;31mAttributeError\u001b[0m                            Traceback (most recent call last)",
      "Cell \u001b[0;32mIn[48], line 1\u001b[0m\n\u001b[0;32m----> 1\u001b[0m resources\u001b[39m.\u001b[39;49mfiles(\u001b[39m\"\u001b[39;49m\u001b[39mlangchain_progai\u001b[39;49m\u001b[39m\"\u001b[39;49m)\u001b[39m.\u001b[39;49mconfig\n\u001b[1;32m      3\u001b[0m \u001b[39m# .config\"\u001b[39;00m\n\u001b[1;32m      4\u001b[0m \n\u001b[1;32m      5\u001b[0m \u001b[39m# , \"default_config.yaml\").name\u001b[39;00m\n",
      "\u001b[0;31mAttributeError\u001b[0m: 'PosixPath' object has no attribute 'config'"
     ]
    }
   ],
   "source": [
    "resources.files(\"langchain_progai\").config\n",
    "\n",
    "# .config\"\n",
    "\n",
    "# , \"default_config.yaml\").name"
   ]
  },
  {
   "cell_type": "code",
   "execution_count": 49,
   "metadata": {},
   "outputs": [
    {
     "data": {
      "text/plain": [
       "PosixPath('/workspaces/langchain-progai/langchain_progai')"
      ]
     },
     "execution_count": 49,
     "metadata": {},
     "output_type": "execute_result"
    }
   ],
   "source": [
    "resources.files(\"langchain_progai\")\n",
    "\n",
    "# .config\"\n",
    "\n",
    "# , \"default_config.yaml\").name"
   ]
  },
  {
   "cell_type": "code",
   "execution_count": 50,
   "metadata": {},
   "outputs": [
    {
     "data": {
      "text/plain": [
       "PosixPath('/workspaces/langchain-progai/langchain_progai')"
      ]
     },
     "execution_count": 50,
     "metadata": {},
     "output_type": "execute_result"
    }
   ],
   "source": [
    "resources.files(\"langchain_progai\")\n",
    "\n",
    "# .config\"\n",
    "\n",
    "# , \"default_config.yaml\").name"
   ]
  },
  {
   "cell_type": "code",
   "execution_count": 51,
   "metadata": {},
   "outputs": [
    {
     "ename": "NameError",
     "evalue": "name 'config' is not defined",
     "output_type": "error",
     "traceback": [
      "\u001b[0;31m---------------------------------------------------------------------------\u001b[0m",
      "\u001b[0;31mNameError\u001b[0m                                 Traceback (most recent call last)",
      "Cell \u001b[0;32mIn[51], line 1\u001b[0m\n\u001b[0;32m----> 1\u001b[0m resources\u001b[39m.\u001b[39mfiles(\u001b[39m\"\u001b[39m\u001b[39mlangchain_progai\u001b[39m\u001b[39m\"\u001b[39m)\u001b[39m/\u001b[39mconfig\n\u001b[1;32m      3\u001b[0m \u001b[39m# .config\"\u001b[39;00m\n\u001b[1;32m      4\u001b[0m \n\u001b[1;32m      5\u001b[0m \u001b[39m# , \"default_config.yaml\").name\u001b[39;00m\n",
      "\u001b[0;31mNameError\u001b[0m: name 'config' is not defined"
     ]
    }
   ],
   "source": [
    "resources.files(\"langchain_progai\")/config\n",
    "\n",
    "# .config\"\n",
    "\n",
    "# , \"default_config.yaml\").name"
   ]
  },
  {
   "cell_type": "code",
   "execution_count": 52,
   "metadata": {},
   "outputs": [
    {
     "data": {
      "text/plain": [
       "PosixPath('/workspaces/langchain-progai/langchain_progai/config')"
      ]
     },
     "execution_count": 52,
     "metadata": {},
     "output_type": "execute_result"
    }
   ],
   "source": [
    "resources.files(\"langchain_progai\")/\"config\"\n",
    "\n",
    "# .config\"\n",
    "\n",
    "# , \"default_config.yaml\").name"
   ]
  },
  {
   "cell_type": "code",
   "execution_count": 53,
   "metadata": {},
   "outputs": [
    {
     "data": {
      "text/plain": [
       "PosixPath('/workspaces/langchain-progai/langchain_progai/config/default_config.yaml')"
      ]
     },
     "execution_count": 53,
     "metadata": {},
     "output_type": "execute_result"
    }
   ],
   "source": [
    "resources.files(\"langchain_progai\")/\"config/default_config.yaml\"\n",
    "\n",
    "# .config\"\n",
    "\n",
    "# , \"default_config.yaml\").name"
   ]
  },
  {
   "cell_type": "code",
   "execution_count": 54,
   "id": "69508b14-377a-40a3-a162-41b9c866cf84",
   "metadata": {},
   "outputs": [
    {
     "ename": "NameError",
     "evalue": "name 'path' is not defined",
     "output_type": "error",
     "traceback": [
      "\u001b[0;31m---------------------------------------------------------------------------\u001b[0m",
      "\u001b[0;31mNameError\u001b[0m                                 Traceback (most recent call last)",
      "File \u001b[1;32m/workspaces/langchain-progai/langchain_progai/config/config.py:1\u001b[0m\n\u001b[0;32m----> 1\u001b[0m path \u001b[39m=\u001b[39m path \u001b[39mor\u001b[39;00m os\u001b[39m.\u001b[39mgetenv(\n\u001b[1;32m      2\u001b[0m     \u001b[39m\"\u001b[39m\u001b[39mLANGCHAIN_PROGAI_CONFIG\u001b[39m\u001b[39m\"\u001b[39m,\n\u001b[1;32m      3\u001b[0m     resources\u001b[39m.\u001b[39mfiles(\u001b[39m\"\u001b[39m\u001b[39mlangchain_progai\u001b[39m\u001b[39m\"\u001b[39m) \u001b[39m/\u001b[39m \u001b[39m\"\u001b[39m\u001b[39mconfig/default_config.yaml\u001b[39m\u001b[39m\"\u001b[39m\n\u001b[1;32m      4\u001b[0m )\n",
      "\u001b[0;31mNameError\u001b[0m: name 'path' is not defined"
     ]
    }
   ],
   "source": [
    "path = path or os.getenv(\n",
    "    \"LANGCHAIN_PROGAI_CONFIG\",\n",
    "    resources.files(\"langchain_progai\") / \"config/default_config.yaml\"\n",
    ")"
   ]
  },
  {
   "cell_type": "code",
   "execution_count": 55,
   "id": "72058325-0d70-456d-af25-9ffe23a217ba",
   "metadata": {},
   "outputs": [
    {
     "ename": "NameError",
     "evalue": "name 'path' is not defined",
     "output_type": "error",
     "traceback": [
      "\u001b[0;31m---------------------------------------------------------------------------\u001b[0m",
      "\u001b[0;31mNameError\u001b[0m                                 Traceback (most recent call last)",
      "File \u001b[1;32m/workspaces/langchain-progai/langchain_progai/config/config.py:1\u001b[0m\n\u001b[0;32m----> 1\u001b[0m path \u001b[39m=\u001b[39m path \u001b[39mor\u001b[39;00m os\u001b[39m.\u001b[39mgetenv(\n\u001b[1;32m      2\u001b[0m     \u001b[39m\"\u001b[39m\u001b[39mLANGCHAIN_PROGAI_CONFIG\u001b[39m\u001b[39m\"\u001b[39m,\n\u001b[1;32m      3\u001b[0m     resources\u001b[39m.\u001b[39mfiles(\u001b[39m\"\u001b[39m\u001b[39mlangchain_progai\u001b[39m\u001b[39m\"\u001b[39m) \u001b[39m/\u001b[39m \u001b[39m\"\u001b[39m\u001b[39mconfig/default_config.yaml\u001b[39m\u001b[39m\"\u001b[39m\n\u001b[1;32m      4\u001b[0m )\n",
      "\u001b[0;31mNameError\u001b[0m: name 'path' is not defined"
     ]
    }
   ],
   "source": [
    "path = path or os.getenv(\n",
    "    \"LANGCHAIN_PROGAI_CONFIG\",\n",
    "    resources.files(\"langchain_progai\") / \"config/default_config.yaml\"\n",
    ")"
   ]
  },
  {
   "cell_type": "code",
   "execution_count": 56,
   "id": "e6dca0c2-e5be-4fec-89d4-2b6418eac8ce",
   "metadata": {},
   "outputs": [],
   "source": [
    "def load_config(path: str | None = None) -> dict:\n",
    "    \"\"\"Utility function to load a langchain_progai configuration with model endpoints.\n",
    "\n",
    "    The function takes an hierarchical approach. Without specification, the projects default_config.yaml is loaded.\n",
    "    If an environment variable LANGCHAIN_PROGAI_CONFIG exists, this is preferred, but overwritten from an explicit\n",
    "    specification of path.\n",
    "\n",
    "    Parameters\n",
    "    ----------\n",
    "    path\n",
    "        Path of config.yaml to load.\n",
    "\n",
    "    Returns\n",
    "    -------\n",
    "    Dictonary of loaded yaml.\n",
    "    \"\"\"\n",
    "    path = path or os.getenv(\n",
    "        \"LANGCHAIN_PROGAI_CONFIG\",\n",
    "        resources.files(\"langchain_progai\") / \"config/default_config.yaml\"\n",
    "    )\n",
    "\n",
    "    with open(path, 'r') as file:\n",
    "        config = yaml.safe_load(file)\n",
    "\n",
    "    return config"
   ]
  },
  {
   "cell_type": "code",
   "execution_count": 57,
   "metadata": {},
   "outputs": [
    {
     "data": {
      "text/plain": [
       "{'endpoints': {'dolphin': 'http://10.0.0.136:8091/completion',\n",
       "  'zephyr7b': 'https://progai.prognostica.de/zephyr-7b-beta/',\n",
       "  'mixtral': 'https://progai.prognostica.de/mixtral-instruct/',\n",
       "  'llama3': 'https://progai.prognostica.de/llama3/',\n",
       "  'embedding': 'https://localhost:8080/embed',\n",
       "  'reranker': 'https://progai.prognostica.de/bge-reranker-large'}}"
      ]
     },
     "execution_count": 57,
     "metadata": {},
     "output_type": "execute_result"
    }
   ],
   "source": [
    "load_config()"
   ]
  },
  {
   "cell_type": "code",
   "execution_count": 58,
   "metadata": {},
   "outputs": [
    {
     "ename": "SyntaxError",
     "evalue": "invalid syntax (<ipython-input-58-5145165eedd0>, line 1)",
     "output_type": "error",
     "traceback": [
      "\u001b[0;36m  Cell \u001b[0;32mIn[58], line 1\u001b[0;36m\u001b[0m\n\u001b[0;31m    (lambda x: return None) or \"bla\"\u001b[0m\n\u001b[0m               ^\u001b[0m\n\u001b[0;31mSyntaxError\u001b[0m\u001b[0;31m:\u001b[0m invalid syntax\n"
     ]
    }
   ],
   "source": [
    "(lambda x: return None) or \"bla\""
   ]
  },
  {
   "cell_type": "code",
   "execution_count": 59,
   "metadata": {},
   "outputs": [
    {
     "data": {
      "text/plain": [
       "<function __main__.<lambda>(x)>"
      ]
     },
     "execution_count": 59,
     "metadata": {},
     "output_type": "execute_result"
    }
   ],
   "source": [
    "(lambda x: None) or \"bla\""
   ]
  },
  {
   "cell_type": "code",
   "execution_count": 60,
   "metadata": {},
   "outputs": [
    {
     "data": {
      "text/plain": [
       "'bla'"
      ]
     },
     "execution_count": 60,
     "metadata": {},
     "output_type": "execute_result"
    }
   ],
   "source": [
    "(lambda x: None)(\"1\") or \"bla\""
   ]
  },
  {
   "cell_type": "code",
   "execution_count": 61,
   "metadata": {},
   "outputs": [
    {
     "data": {
      "text/plain": [
       "'a'"
      ]
     },
     "execution_count": 61,
     "metadata": {},
     "output_type": "execute_result"
    }
   ],
   "source": [
    "(lambda x: \"a\")(\"1\") or \"bla\""
   ]
  },
  {
   "cell_type": "code",
   "execution_count": 62,
   "metadata": {},
   "outputs": [],
   "source": [
    "None or None"
   ]
  },
  {
   "cell_type": "code",
   "execution_count": 63,
   "metadata": {},
   "outputs": [
    {
     "ename": "TypeError",
     "evalue": "stat: path should be string, bytes, os.PathLike or integer, not NoneType",
     "output_type": "error",
     "traceback": [
      "\u001b[0;31m---------------------------------------------------------------------------\u001b[0m",
      "\u001b[0;31mTypeError\u001b[0m                                 Traceback (most recent call last)",
      "Cell \u001b[0;32mIn[63], line 1\u001b[0m\n\u001b[0;32m----> 1\u001b[0m os\u001b[39m.\u001b[39;49mpath\u001b[39m.\u001b[39;49misfile(\u001b[39mNone\u001b[39;49;00m)\n",
      "File \u001b[0;32m<frozen genericpath>:30\u001b[0m, in \u001b[0;36misfile\u001b[0;34m(path)\u001b[0m\n",
      "\u001b[0;31mTypeError\u001b[0m: stat: path should be string, bytes, os.PathLike or integer, not NoneType"
     ]
    }
   ],
   "source": [
    "os.path.isfile(None)"
   ]
  },
  {
   "cell_type": "code",
   "execution_count": 64,
   "metadata": {},
   "outputs": [
    {
     "data": {
      "text/plain": [
       "True"
      ]
     },
     "execution_count": 64,
     "metadata": {},
     "output_type": "execute_result"
    }
   ],
   "source": [
    "not None"
   ]
  },
  {
   "cell_type": "code",
   "execution_count": 65,
   "id": "155fe1a9-f694-47c3-9e7c-ba9d68971ce6",
   "metadata": {},
   "outputs": [],
   "source": [
    "import warnings"
   ]
  },
  {
   "cell_type": "code",
   "execution_count": 66,
   "id": "bf289fda-c543-42ce-929a-b2f3e795b5c3",
   "metadata": {},
   "outputs": [],
   "source": [
    "import warnings"
   ]
  },
  {
   "cell_type": "code",
   "execution_count": 67,
   "id": "14733288-eafe-40e9-80f9-ad874b0bdb5e",
   "metadata": {},
   "outputs": [],
   "source": [
    "import logging"
   ]
  },
  {
   "cell_type": "code",
   "execution_count": 68,
   "id": "0c6ea75c-a87f-47b2-b340-83cba5a64b3f",
   "metadata": {},
   "outputs": [],
   "source": [
    "logger = logging.getLogger(__name__)"
   ]
  },
  {
   "cell_type": "code",
   "execution_count": 69,
   "id": "ed4c23b0-6a13-477b-88ba-36e4a33d5c3f",
   "metadata": {},
   "outputs": [
    {
     "ename": "ImportError",
     "evalue": "cannot import name 'load_config' from 'langchain_progai.config' (unknown location)",
     "output_type": "error",
     "traceback": [
      "\u001b[0;31m---------------------------------------------------------------------------\u001b[0m",
      "\u001b[0;31mImportError\u001b[0m                               Traceback (most recent call last)",
      "File \u001b[1;32m/workspaces/langchain-progai/tests/config/test_config.py:1\u001b[0m\n\u001b[0;32m----> 1\u001b[0m \u001b[39mfrom\u001b[39;00m \u001b[39mlangchain_progai\u001b[39;00m\u001b[39m.\u001b[39;00m\u001b[39mconfig\u001b[39;00m \u001b[39mimport\u001b[39;00m load_config\n",
      "\u001b[0;31mImportError\u001b[0m: cannot import name 'load_config' from 'langchain_progai.config' (unknown location)"
     ]
    }
   ],
   "source": [
    "from langchain_progai.config import load_config"
   ]
  },
  {
   "cell_type": "code",
   "execution_count": 70,
   "id": "1ac7c74c-1fe1-42c1-9229-f22e7cc1cc71",
   "metadata": {},
   "outputs": [
    {
     "ename": "ImportError",
     "evalue": "cannot import name 'load_config' from 'langchain_progai.config' (unknown location)",
     "output_type": "error",
     "traceback": [
      "\u001b[0;31m---------------------------------------------------------------------------\u001b[0m",
      "\u001b[0;31mImportError\u001b[0m                               Traceback (most recent call last)",
      "File \u001b[1;32m/workspaces/langchain-progai/tests/config/test_config.py:1\u001b[0m\n\u001b[0;32m----> 1\u001b[0m \u001b[39mfrom\u001b[39;00m \u001b[39mlangchain_progai\u001b[39;00m\u001b[39m.\u001b[39;00m\u001b[39mconfig\u001b[39;00m \u001b[39mimport\u001b[39;00m load_config\n",
      "\u001b[0;31mImportError\u001b[0m: cannot import name 'load_config' from 'langchain_progai.config' (unknown location)"
     ]
    }
   ],
   "source": [
    "from langchain_progai.config import load_config"
   ]
  },
  {
   "cell_type": "markdown",
   "metadata": {},
   "source": [
    "Restarted Python 3.11.7"
   ]
  },
  {
   "cell_type": "code",
   "execution_count": 1,
   "id": "000dca43-4c7d-4f1d-ba7f-00fe0445d35e",
   "metadata": {},
   "outputs": [],
   "source": [
    "from langchain_progai.config import load_config"
   ]
  },
  {
   "cell_type": "markdown",
   "metadata": {},
   "source": [
    "Restarted Python 3.11.7"
   ]
  },
  {
   "cell_type": "code",
   "execution_count": 1,
   "id": "0c8c67bd-1a38-4e20-b8d5-da4a6cf29ff8",
   "metadata": {},
   "outputs": [],
   "source": [
    "import langchain_progai.config"
   ]
  },
  {
   "cell_type": "code",
   "execution_count": 2,
   "metadata": {},
   "outputs": [
    {
     "ename": "NameError",
     "evalue": "name 'config' is not defined",
     "output_type": "error",
     "traceback": [
      "\u001b[0;31m---------------------------------------------------------------------------\u001b[0m",
      "\u001b[0;31mNameError\u001b[0m                                 Traceback (most recent call last)",
      "Cell \u001b[0;32mIn[2], line 1\u001b[0m\n\u001b[0;32m----> 1\u001b[0m config\u001b[39m.\u001b[39mload_config\n",
      "\u001b[0;31mNameError\u001b[0m: name 'config' is not defined"
     ]
    }
   ],
   "source": [
    "config.load_config"
   ]
  },
  {
   "cell_type": "code",
   "execution_count": 3,
   "id": "5ff69b4f-928d-437e-b390-cfdc138ca181",
   "metadata": {},
   "outputs": [],
   "source": [
    "import langchain_progai.config as config"
   ]
  },
  {
   "cell_type": "code",
   "execution_count": 4,
   "metadata": {},
   "outputs": [
    {
     "data": {
      "text/plain": [
       "<function langchain_progai.config.config.load_config(path: str | None = None) -> dict>"
      ]
     },
     "execution_count": 4,
     "metadata": {},
     "output_type": "execute_result"
    }
   ],
   "source": [
    "config.load_config"
   ]
  },
  {
   "cell_type": "code",
   "execution_count": 5,
   "id": "d0a00d4a-c9a5-4414-9f57-0ed52977f8f6",
   "metadata": {},
   "outputs": [
    {
     "data": {
      "text/plain": [
       "{'endpoints': {'dolphin': 'http://10.0.0.136:8091/completion',\n",
       "  'zephyr7b': 'https://progai.prognostica.de/zephyr-7b-beta/',\n",
       "  'mixtral': 'https://progai.prognostica.de/mixtral-instruct/',\n",
       "  'llama3': 'https://progai.prognostica.de/llama3/',\n",
       "  'embedding': 'https://localhost:8080/embed',\n",
       "  'reranker': 'https://progai.prognostica.de/bge-reranker-large'}}"
      ]
     },
     "execution_count": 5,
     "metadata": {},
     "output_type": "execute_result"
    }
   ],
   "source": [
    "config.load_config(path=None)"
   ]
  },
  {
   "cell_type": "code",
   "execution_count": 6,
   "id": "ec710dc0-c561-4363-a526-c7520152c147",
   "metadata": {},
   "outputs": [],
   "source": [
    "conf = config.load_config(path=None)"
   ]
  },
  {
   "cell_type": "code",
   "execution_count": 7,
   "id": "5ea88f20-0532-4d3d-8082-c7150b6261f0",
   "metadata": {},
   "outputs": [
    {
     "data": {
      "text/plain": [
       "{'endpoints': {'dolphin': 'http://10.0.0.136:8091/completion',\n",
       "  'zephyr7b': 'https://progai.prognostica.de/zephyr-7b-beta/',\n",
       "  'mixtral': 'https://progai.prognostica.de/mixtral-instruct/',\n",
       "  'llama3': 'https://progai.prognostica.de/llama3/',\n",
       "  'embedding': 'https://localhost:8080/embed',\n",
       "  'reranker': 'https://progai.prognostica.de/bge-reranker-large'}}"
      ]
     },
     "execution_count": 7,
     "metadata": {},
     "output_type": "execute_result"
    }
   ],
   "source": [
    "conf"
   ]
  },
  {
   "cell_type": "code",
   "execution_count": 8,
   "id": "b2472c07-57cf-41b3-969d-5fe5f781efe5",
   "metadata": {},
   "outputs": [],
   "source": [
    "assert isinstance(conf, dict)"
   ]
  },
  {
   "cell_type": "code",
   "execution_count": 9,
   "id": "18e25d7d-20b4-41de-9e7f-50383180edfe",
   "metadata": {},
   "outputs": [],
   "source": [
    "assert \"endpoints\" in conf.keys()"
   ]
  },
  {
   "cell_type": "code",
   "execution_count": 10,
   "id": "e190c30c-6041-43ca-ab5b-8f50545d668c",
   "metadata": {},
   "outputs": [],
   "source": [
    "assert \"endpoints\" in conf"
   ]
  },
  {
   "cell_type": "code",
   "execution_count": 11,
   "id": "b4306697-e951-4c87-920a-d0d7fc114a0e",
   "metadata": {},
   "outputs": [],
   "source": [
    "assert len(conf[\"endpoints\"]) > 0"
   ]
  },
  {
   "cell_type": "code",
   "execution_count": 12,
   "id": "861c9677-1f4c-479f-906a-2dfb6ac722f9",
   "metadata": {},
   "outputs": [
    {
     "name": "stderr",
     "output_type": "stream",
     "text": [
      "No configuration file found at specified location NonExistingPath.yaml\n"
     ]
    }
   ],
   "source": [
    "conf = config.load_config(path=\"NonExistingPath.yaml\")"
   ]
  },
  {
   "cell_type": "code",
   "execution_count": 13,
   "id": "42f7ee1b-3108-4dc5-9c5d-cce0a465acd1",
   "metadata": {},
   "outputs": [
    {
     "name": "stderr",
     "output_type": "stream",
     "text": [
      "No configuration file found at specified location NonExistingPath.yaml\n"
     ]
    }
   ],
   "source": [
    "# Arrange & Act\n",
    "conf = config.load_config(path=\"NonExistingPath.yaml\")\n",
    "\n",
    "# Assert\n",
    "assert isinstance(conf, dict)\n",
    "assert \"endpoints\" in conf\n",
    "assert len(conf[\"endpoints\"]) > 0"
   ]
  },
  {
   "cell_type": "code",
   "execution_count": 14,
   "id": "9605f7bf-fa40-46a1-b2c2-c17ec35e51b6",
   "metadata": {},
   "outputs": [
    {
     "ename": "NameError",
     "evalue": "name 'resources' is not defined",
     "output_type": "error",
     "traceback": [
      "\u001b[0;31m---------------------------------------------------------------------------\u001b[0m",
      "\u001b[0;31mNameError\u001b[0m                                 Traceback (most recent call last)",
      "File \u001b[1;32m/workspaces/langchain-progai/tests/config/test_config.py:1\u001b[0m\n\u001b[0;32m----> 1\u001b[0m config_path \u001b[39m=\u001b[39m resources\u001b[39m.\u001b[39mfiles(\u001b[39m\"\u001b[39m\u001b[39mlangchain_progai\u001b[39m\u001b[39m\"\u001b[39m) \u001b[39m/\u001b[39m \u001b[39m\"\u001b[39m\u001b[39mconfig/default_config.yaml\u001b[39m\u001b[39m\"\u001b[39m\n",
      "\u001b[0;31mNameError\u001b[0m: name 'resources' is not defined"
     ]
    }
   ],
   "source": [
    "config_path = resources.files(\"langchain_progai\") / \"config/default_config.yaml\""
   ]
  },
  {
   "cell_type": "code",
   "execution_count": 15,
   "id": "be601271-f0aa-410a-8a8d-6c55ed903ec0",
   "metadata": {},
   "outputs": [],
   "source": [
    "from importlib import resources"
   ]
  },
  {
   "cell_type": "code",
   "execution_count": 16,
   "id": "68781de1-2863-48f8-a13e-4f506c19f58a",
   "metadata": {},
   "outputs": [],
   "source": [
    "config_path = resources.files(\"langchain_progai\") / \"config/default_config.yaml\""
   ]
  },
  {
   "cell_type": "code",
   "execution_count": 17,
   "id": "8cabd7bb-7069-425a-9400-fe2f73f3de51",
   "metadata": {},
   "outputs": [
    {
     "ename": "TypeError",
     "evalue": "str expected, not PosixPath",
     "output_type": "error",
     "traceback": [
      "\u001b[0;31m---------------------------------------------------------------------------\u001b[0m",
      "\u001b[0;31mTypeError\u001b[0m                                 Traceback (most recent call last)",
      "File \u001b[1;32m/workspaces/langchain-progai/tests/config/test_config.py:1\u001b[0m\n\u001b[0;32m----> 1\u001b[0m os\u001b[39m.\u001b[39;49menviron[\u001b[39m'\u001b[39;49m\u001b[39mLANGCHAIN_PROGAI_CONFIG\u001b[39;49m\u001b[39m'\u001b[39;49m] \u001b[39m=\u001b[39m resources\u001b[39m.\u001b[39mfiles(\u001b[39m\"\u001b[39m\u001b[39mlangchain_progai\u001b[39m\u001b[39m\"\u001b[39m) \u001b[39m/\u001b[39m \u001b[39m\"\u001b[39m\u001b[39mconfig/default_config.yaml\u001b[39m\u001b[39m\"\u001b[39m\n",
      "File \u001b[0;32m<frozen os>:684\u001b[0m, in \u001b[0;36m__setitem__\u001b[0;34m(self, key, value)\u001b[0m\n",
      "File \u001b[0;32m<frozen os>:758\u001b[0m, in \u001b[0;36mencode\u001b[0;34m(value)\u001b[0m\n",
      "\u001b[0;31mTypeError\u001b[0m: str expected, not PosixPath"
     ]
    }
   ],
   "source": [
    "os.environ['LANGCHAIN_PROGAI_CONFIG'] = resources.files(\"langchain_progai\") / \"config/default_config.yaml\""
   ]
  },
  {
   "cell_type": "code",
   "execution_count": 18,
   "id": "4bb2002f-37c7-43c9-a9f8-bbd6c78d6a4a",
   "metadata": {},
   "outputs": [],
   "source": [
    "os.environ['LANGCHAIN_PROGAI_CONFIG'] = str(resources.files(\"langchain_progai\") / \"config/default_config.yaml\")"
   ]
  },
  {
   "cell_type": "code",
   "execution_count": 19,
   "id": "b93ec036-56eb-4cfe-b01d-41e1a9ababec",
   "metadata": {},
   "outputs": [
    {
     "data": {
      "text/plain": [
       "'/workspaces/langchain-progai/langchain_progai/config/default_config.yaml'"
      ]
     },
     "execution_count": 19,
     "metadata": {},
     "output_type": "execute_result"
    }
   ],
   "source": [
    "os.environ['LANGCHAIN_PROGAI_CONFIG']"
   ]
  },
  {
   "cell_type": "code",
   "execution_count": 20,
   "id": "aec4b6eb-f9dc-41cc-85b3-13881f9b8c51",
   "metadata": {},
   "outputs": [],
   "source": [
    "conf = config.load_config(path=None)"
   ]
  },
  {
   "cell_type": "code",
   "execution_count": 21,
   "id": "631b8948-af61-41f4-ac13-0636836294c6",
   "metadata": {},
   "outputs": [
    {
     "data": {
      "text/plain": [
       "{'endpoints': {'dolphin': 'http://10.0.0.136:8091/completion',\n",
       "  'zephyr7b': 'https://progai.prognostica.de/zephyr-7b-beta/',\n",
       "  'mixtral': 'https://progai.prognostica.de/mixtral-instruct/',\n",
       "  'llama3': 'https://progai.prognostica.de/llama3/',\n",
       "  'embedding': 'https://localhost:8080/embed',\n",
       "  'reranker': 'https://progai.prognostica.de/bge-reranker-large'}}"
      ]
     },
     "execution_count": 21,
     "metadata": {},
     "output_type": "execute_result"
    }
   ],
   "source": [
    "conf"
   ]
  },
  {
   "cell_type": "code",
   "execution_count": 22,
   "id": "1b7d666f-9485-4e6d-8041-7e51edbd4aff",
   "metadata": {},
   "outputs": [],
   "source": [
    "# Arrange\n",
    "os.environ['LANGCHAIN_PROGAI_CONFIG'] = str(resources.files(\"langchain_progai\") / \"config/default_config.yaml\")\n",
    "\n",
    "# Act\n",
    "conf = config.load_config(path=None)\n",
    "\n",
    "# Assert\n",
    "assert len(conf[\"endpoints\"]) > 0"
   ]
  },
  {
   "cell_type": "code",
   "execution_count": 23,
   "metadata": {},
   "outputs": [
    {
     "ename": "NameError",
     "evalue": "name 'load_config' is not defined",
     "output_type": "error",
     "traceback": [
      "\u001b[0;31m---------------------------------------------------------------------------\u001b[0m",
      "\u001b[0;31mNameError\u001b[0m                                 Traceback (most recent call last)",
      "Cell \u001b[0;32mIn[23], line 1\u001b[0m\n\u001b[0;32m----> 1\u001b[0m load_config()\n",
      "\u001b[0;31mNameError\u001b[0m: name 'load_config' is not defined"
     ]
    }
   ],
   "source": [
    "load_config()"
   ]
  },
  {
   "cell_type": "code",
   "execution_count": 24,
   "metadata": {},
   "outputs": [
    {
     "data": {
      "text/plain": [
       "{'endpoints': {'dolphin': 'http://10.0.0.136:8091/completion',\n",
       "  'zephyr7b': 'https://progai.prognostica.de/zephyr-7b-beta/',\n",
       "  'mixtral': 'https://progai.prognostica.de/mixtral-instruct/',\n",
       "  'llama3': 'https://progai.prognostica.de/llama3/',\n",
       "  'embedding': 'https://localhost:8080/embed',\n",
       "  'reranker': 'https://progai.prognostica.de/bge-reranker-large'}}"
      ]
     },
     "execution_count": 24,
     "metadata": {},
     "output_type": "execute_result"
    }
   ],
   "source": [
    "config.load_config()"
   ]
  },
  {
   "cell_type": "code",
   "execution_count": 25,
   "metadata": {},
   "outputs": [
    {
     "data": {
      "text/plain": [
       "'https://localhost:8080/embed'"
      ]
     },
     "execution_count": 25,
     "metadata": {},
     "output_type": "execute_result"
    }
   ],
   "source": [
    "name=\"embedding\"\n",
    "config.load_config()[\"endpoints\"][name]"
   ]
  },
  {
   "cell_type": "code",
   "execution_count": 26,
   "id": "0cdbce1e-c803-4c18-a906-2ab17957e7b4",
   "metadata": {},
   "outputs": [
    {
     "ename": "AttributeError",
     "evalue": "module 'langchain_progai.config' has no attribute 'get_endpoint'",
     "output_type": "error",
     "traceback": [
      "\u001b[0;31m---------------------------------------------------------------------------\u001b[0m",
      "\u001b[0;31mAttributeError\u001b[0m                            Traceback (most recent call last)",
      "File \u001b[1;32m/workspaces/langchain-progai/tests/config/test_config.py:1\u001b[0m\n\u001b[0;32m----> 1\u001b[0m endpoint \u001b[39m=\u001b[39m config\u001b[39m.\u001b[39;49mget_endpoint(\u001b[39m\"\u001b[39m\u001b[39mDOLPHIN\u001b[39m\u001b[39m\"\u001b[39m)\n",
      "\u001b[0;31mAttributeError\u001b[0m: module 'langchain_progai.config' has no attribute 'get_endpoint'"
     ]
    }
   ],
   "source": [
    "endpoint = config.get_endpoint(\"DOLPHIN\")"
   ]
  },
  {
   "cell_type": "markdown",
   "metadata": {},
   "source": [
    "Restarted Python 3.11.7"
   ]
  },
  {
   "cell_type": "code",
   "execution_count": 1,
   "id": "ce9e9a00-ac66-43ef-af69-e0d0bbaa0b5d",
   "metadata": {},
   "outputs": [],
   "source": [
    "import os\n",
    "import logging\n",
    "import langchain_progai.config as config\n",
    "from importlib import resources"
   ]
  },
  {
   "cell_type": "code",
   "execution_count": 2,
   "id": "2960b6fe-0fac-4cb9-8943-552672a3c754",
   "metadata": {},
   "outputs": [],
   "source": [
    "endpoint = config.get_endpoint(\"DOLPHIN\")"
   ]
  },
  {
   "cell_type": "code",
   "execution_count": 3,
   "id": "c10d2f78-016e-49fe-a7b5-a46341af925a",
   "metadata": {},
   "outputs": [
    {
     "data": {
      "text/plain": [
       "'http://10.0.0.136:8091/completion'"
      ]
     },
     "execution_count": 3,
     "metadata": {},
     "output_type": "execute_result"
    }
   ],
   "source": [
    "endpoint"
   ]
  },
  {
   "cell_type": "code",
   "execution_count": 4,
   "id": "74cc6955-5540-4c82-a96f-6e9d2a0232ce",
   "metadata": {},
   "outputs": [],
   "source": [
    "assert isinstance(endpoint, str)"
   ]
  },
  {
   "cell_type": "code",
   "execution_count": 5,
   "id": "82ffd0b0-6006-47f2-bcb2-7568032a1b18",
   "metadata": {},
   "outputs": [],
   "source": [
    "assert endpoint.startswith(\"http\")"
   ]
  },
  {
   "cell_type": "code",
   "execution_count": 6,
   "id": "a7da49e2-b293-4ea7-bed6-14713c7a96e1",
   "metadata": {},
   "outputs": [],
   "source": [
    "default_endpoint = config.get_endpoint(\"DOLPHIN\")"
   ]
  },
  {
   "cell_type": "code",
   "execution_count": 7,
   "id": "dd3e3505-bac4-430e-b0fc-56959501f148",
   "metadata": {},
   "outputs": [
    {
     "ename": "NameError",
     "evalue": "name 'name' is not defined",
     "output_type": "error",
     "traceback": [
      "\u001b[0;31m---------------------------------------------------------------------------\u001b[0m",
      "\u001b[0;31mNameError\u001b[0m                                 Traceback (most recent call last)",
      "File \u001b[1;32m/workspaces/langchain-progai/tests/config/test_config.py:1\u001b[0m\n\u001b[0;32m----> 1\u001b[0m os\u001b[39m.\u001b[39menviron[\u001b[39mf\u001b[39m\u001b[39m\"\u001b[39m\u001b[39mENDPOINT_\u001b[39m\u001b[39m{\u001b[39;00mname\u001b[39m}\u001b[39;00m\u001b[39m\"\u001b[39m] \u001b[39m=\u001b[39m \u001b[39m\"\u001b[39m\u001b[39mhttp://test\u001b[39m\u001b[39m\"\u001b[39m\n",
      "\u001b[0;31mNameError\u001b[0m: name 'name' is not defined"
     ]
    }
   ],
   "source": [
    "os.environ[f\"ENDPOINT_{name}\"] = \"http://test\""
   ]
  },
  {
   "cell_type": "code",
   "execution_count": 8,
   "id": "6203d8a3-2624-4d6b-9b8b-5b4c4ff4218a",
   "metadata": {},
   "outputs": [],
   "source": [
    "name = \"DOLPHIN\"\n",
    "default_endpoint = config.get_endpoint(name)\n",
    "os.environ[f\"ENDPOINT_{name}\"] = \"http://test\""
   ]
  },
  {
   "cell_type": "code",
   "execution_count": 9,
   "id": "20d6277e-8351-4971-8641-1943d73838a0",
   "metadata": {},
   "outputs": [],
   "source": [
    "endpoint = config.get_endpoint(name)"
   ]
  },
  {
   "cell_type": "code",
   "execution_count": 10,
   "id": "4ecf37bf-3cdd-421a-9cf1-77cb247f4801",
   "metadata": {},
   "outputs": [
    {
     "ename": "TypeError",
     "evalue": "str expected, not NoneType",
     "output_type": "error",
     "traceback": [
      "\u001b[0;31m---------------------------------------------------------------------------\u001b[0m",
      "\u001b[0;31mTypeError\u001b[0m                                 Traceback (most recent call last)",
      "File \u001b[1;32m/workspaces/langchain-progai/tests/config/test_config.py:1\u001b[0m\n\u001b[0;32m----> 1\u001b[0m os\u001b[39m.\u001b[39;49menviron[\u001b[39mf\u001b[39;49m\u001b[39m\"\u001b[39;49m\u001b[39mENDPOINT_\u001b[39;49m\u001b[39m{\u001b[39;49;00mname\u001b[39m}\u001b[39;49;00m\u001b[39m\"\u001b[39;49m] \u001b[39m=\u001b[39m \u001b[39mNone\u001b[39;00m\n",
      "File \u001b[0;32m<frozen os>:684\u001b[0m, in \u001b[0;36m__setitem__\u001b[0;34m(self, key, value)\u001b[0m\n",
      "File \u001b[0;32m<frozen os>:758\u001b[0m, in \u001b[0;36mencode\u001b[0;34m(value)\u001b[0m\n",
      "\u001b[0;31mTypeError\u001b[0m: str expected, not NoneType"
     ]
    }
   ],
   "source": [
    "os.environ[f\"ENDPOINT_{name}\"] = None"
   ]
  },
  {
   "cell_type": "code",
   "execution_count": 11,
   "id": "8a823b61-d85d-4a95-ae99-b1c1c55a98fe",
   "metadata": {},
   "outputs": [],
   "source": [
    "os.environ[f\"ENDPOINT_{name}\"] = \"\""
   ]
  },
  {
   "cell_type": "code",
   "execution_count": 12,
   "id": "f3d16ba0-51a5-4e37-a01e-3dff3d8b3ad0",
   "metadata": {},
   "outputs": [],
   "source": [
    "os.environ[f\"ENDPOINT_{name}\"] = \"\""
   ]
  },
  {
   "cell_type": "code",
   "execution_count": 13,
   "id": "59e29994-d64d-4faf-8402-b1b0c64c138d",
   "metadata": {},
   "outputs": [
    {
     "data": {
      "text/plain": [
       "''"
      ]
     },
     "execution_count": 13,
     "metadata": {},
     "output_type": "execute_result"
    }
   ],
   "source": [
    "config.get_endpoint(name)"
   ]
  },
  {
   "cell_type": "code",
   "execution_count": 14,
   "id": "3f3329c0-7ef8-4733-92fb-702ff92edd5f",
   "metadata": {},
   "outputs": [],
   "source": [
    "del os.environ[f\"ENDPOINT_{name}\"]"
   ]
  },
  {
   "cell_type": "code",
   "execution_count": 15,
   "id": "b1413e3f-eb52-48bf-8436-30e0912043c2",
   "metadata": {},
   "outputs": [
    {
     "ename": "KeyError",
     "evalue": "'ENDPOINT_DOLPHIN'",
     "output_type": "error",
     "traceback": [
      "\u001b[0;31m---------------------------------------------------------------------------\u001b[0m",
      "\u001b[0;31mKeyError\u001b[0m                                  Traceback (most recent call last)",
      "File \u001b[1;32m/workspaces/langchain-progai/tests/config/test_config.py:1\u001b[0m\n\u001b[0;32m----> 1\u001b[0m os\u001b[39m.\u001b[39;49menviron[\u001b[39mf\u001b[39;49m\u001b[39m\"\u001b[39;49m\u001b[39mENDPOINT_\u001b[39;49m\u001b[39m{\u001b[39;49;00mname\u001b[39m}\u001b[39;49;00m\u001b[39m\"\u001b[39;49m]\n",
      "File \u001b[0;32m<frozen os>:679\u001b[0m, in \u001b[0;36m__getitem__\u001b[0;34m(self, key)\u001b[0m\n",
      "\u001b[0;31mKeyError\u001b[0m: 'ENDPOINT_DOLPHIN'"
     ]
    }
   ],
   "source": [
    "os.environ[f\"ENDPOINT_{name}\"]"
   ]
  },
  {
   "cell_type": "code",
   "execution_count": 16,
   "id": "86a1383c-9ad4-449b-8b6e-c5c7d41f9e32",
   "metadata": {},
   "outputs": [],
   "source": [
    "default_endpoint = config.get_endpoint(name)"
   ]
  },
  {
   "cell_type": "code",
   "execution_count": 17,
   "id": "37fdba1c-cc62-451b-a490-70e150b67cf5",
   "metadata": {},
   "outputs": [
    {
     "data": {
      "text/plain": [
       "'http://10.0.0.136:8091/completion'"
      ]
     },
     "execution_count": 17,
     "metadata": {},
     "output_type": "execute_result"
    }
   ],
   "source": [
    "default_endpoint"
   ]
  },
  {
   "cell_type": "code",
   "execution_count": 18,
   "id": "48fa9207-cb5f-4f2f-84c0-eb495807e668",
   "metadata": {},
   "outputs": [],
   "source": [
    "os.environ[f\"ENDPOINT_{name}\"] = \"http://test\""
   ]
  },
  {
   "cell_type": "code",
   "execution_count": 19,
   "id": "c3cf3d40-9dc9-4eee-aa50-a6ebab6bbc52",
   "metadata": {},
   "outputs": [],
   "source": [
    "endpoint = config.get_endpoint(name)"
   ]
  },
  {
   "cell_type": "code",
   "execution_count": 20,
   "id": "dff8c87a-8ed9-49cf-97e0-f16692ad679c",
   "metadata": {},
   "outputs": [
    {
     "data": {
      "text/plain": [
       "'http://test'"
      ]
     },
     "execution_count": 20,
     "metadata": {},
     "output_type": "execute_result"
    }
   ],
   "source": [
    "endpoint"
   ]
  },
  {
   "cell_type": "code",
   "execution_count": 21,
   "metadata": {},
   "outputs": [
    {
     "ename": "SyntaxError",
     "evalue": "invalid syntax (<ipython-input-21-984dcebffd0e>, line 1)",
     "output_type": "error",
     "traceback": [
      "\u001b[0;36m  Cell \u001b[0;32mIn[21], line 1\u001b[0;36m\u001b[0m\n\u001b[0;31m    import langchain_progai.config import get_endpoint\u001b[0m\n\u001b[0m                                   ^\u001b[0m\n\u001b[0;31mSyntaxError\u001b[0m\u001b[0;31m:\u001b[0m invalid syntax\n"
     ]
    }
   ],
   "source": [
    "import langchain_progai.config import get_endpoint"
   ]
  },
  {
   "cell_type": "code",
   "execution_count": 22,
   "metadata": {},
   "outputs": [],
   "source": [
    "from langchain_progai.config import get_endpoint"
   ]
  },
  {
   "cell_type": "code",
   "execution_count": 23,
   "id": "64d7803f-7d23-42d5-af04-66fca8c040f1",
   "metadata": {},
   "outputs": [
    {
     "data": {
      "text/plain": [
       "'https://localhost:8080/embed'"
      ]
     },
     "execution_count": 23,
     "metadata": {},
     "output_type": "execute_result"
    }
   ],
   "source": [
    "get_endpoint(\"EMBEDDING\")"
   ]
  },
  {
   "cell_type": "code",
   "execution_count": 24,
   "metadata": {},
   "outputs": [
    {
     "data": {
      "text/plain": [
       "'https://localhost:8080/embed'"
      ]
     },
     "execution_count": 24,
     "metadata": {},
     "output_type": "execute_result"
    }
   ],
   "source": [
    "from langchain_progai.config import get_endpoint\n",
    "\n",
    "get_endpoint(\"EMBEDDING\")"
   ]
  },
  {
   "cell_type": "code",
   "execution_count": 25,
   "id": "c7e84978-03c1-49cd-9d6c-08ec83c75ae2",
   "metadata": {},
   "outputs": [
    {
     "data": {
      "text/plain": [
       "'https://progai.prognostica.de/bge-reranker-large'"
      ]
     },
     "execution_count": 25,
     "metadata": {},
     "output_type": "execute_result"
    }
   ],
   "source": [
    "get_endpoint(\"RERANKER_BGE_L\")"
   ]
  },
  {
   "cell_type": "code",
   "execution_count": 26,
   "id": "08e42e44-4eda-452a-846e-94811fd8e9a0",
   "metadata": {},
   "outputs": [
    {
     "ename": "KeyError",
     "evalue": "'ZEPHYR'",
     "output_type": "error",
     "traceback": [
      "\u001b[0;31m---------------------------------------------------------------------------\u001b[0m",
      "\u001b[0;31mKeyError\u001b[0m                                  Traceback (most recent call last)",
      "File \u001b[1;32m/workspaces/langchain-progai/langchain_progai/chat/chat.py:1\u001b[0m\n\u001b[0;32m----> 1\u001b[0m get_endpoint(\u001b[39m\"\u001b[39;49m\u001b[39mZEPHYR\u001b[39;49m\u001b[39m\"\u001b[39;49m)\n",
      "File \u001b[0;32m/workspaces/langchain-progai/langchain_progai/config/config.py:66\u001b[0m, in \u001b[0;36mget_endpoint\u001b[0;34m(name, name_to_env_pattern)\u001b[0m\n\u001b[1;32m     49\u001b[0m \u001b[39mdef\u001b[39;00m \u001b[39mget_endpoint\u001b[39m(\n\u001b[1;32m     50\u001b[0m         name: \u001b[39mstr\u001b[39m,\n\u001b[1;32m     51\u001b[0m         name_to_env_pattern: Callable \u001b[39m|\u001b[39m \u001b[39mNone\u001b[39;00m \u001b[39m=\u001b[39m \u001b[39mlambda\u001b[39;00m x: \u001b[39mf\u001b[39m\u001b[39m\"\u001b[39m\u001b[39mENDPOINT_\u001b[39m\u001b[39m{\u001b[39;00mx\u001b[39m.\u001b[39mupper()\u001b[39m}\u001b[39;00m\u001b[39m\"\u001b[39m,\n\u001b[1;32m     52\u001b[0m     ) \u001b[39m-\u001b[39m\u001b[39m>\u001b[39m \u001b[39mstr\u001b[39m \u001b[39m|\u001b[39m \u001b[39mNone\u001b[39;00m:\n\u001b[1;32m     53\u001b[0m \u001b[39m    \u001b[39m\u001b[39m\"\"\"Get endpoint from environment.\u001b[39;00m\n\u001b[1;32m     54\u001b[0m \n\u001b[1;32m     55\u001b[0m \u001b[39m    Parameters\u001b[39;00m\n\u001b[0;32m   (...)\u001b[0m\n\u001b[1;32m     64\u001b[0m \u001b[39m    Endpoint url.\u001b[39;00m\n\u001b[1;32m     65\u001b[0m \u001b[39m    \"\"\"\u001b[39;00m\n\u001b[0;32m---> 66\u001b[0m     \u001b[39mreturn\u001b[39;00m os\u001b[39m.\u001b[39mgetenv(name_to_env_pattern(name) \u001b[39mif\u001b[39;00m name_to_env_pattern \u001b[39melse\u001b[39;00m name, load_config()[\u001b[39m\"\u001b[39;49m\u001b[39mendpoints\u001b[39;49m\u001b[39m\"\u001b[39;49m][name])\n",
      "\u001b[0;31mKeyError\u001b[0m: 'ZEPHYR'"
     ]
    }
   ],
   "source": [
    "get_endpoint(\"ZEPHYR\")"
   ]
  },
  {
   "cell_type": "code",
   "execution_count": 27,
   "id": "cfa65d07-086f-4d2e-a207-94d49d65ee1a",
   "metadata": {},
   "outputs": [
    {
     "data": {
      "text/plain": [
       "'https://progai.prognostica.de/zephyr-7b-beta/'"
      ]
     },
     "execution_count": 27,
     "metadata": {},
     "output_type": "execute_result"
    }
   ],
   "source": [
    "get_endpoint(\"ZEPHYR7B\")"
   ]
  },
  {
   "cell_type": "code",
   "execution_count": 28,
   "id": "3164e800-14f3-48c6-84b8-a5f68c271977",
   "metadata": {},
   "outputs": [
    {
     "data": {
      "text/plain": [
       "'https://progai.prognostica.de/mixtral-instruct/'"
      ]
     },
     "execution_count": 28,
     "metadata": {},
     "output_type": "execute_result"
    }
   ],
   "source": [
    "get_endpoint(\"MIXTRAL\")"
   ]
  },
  {
   "cell_type": "code",
   "execution_count": 29,
   "id": "40020e3f-b015-40eb-87d5-bf6552f31132",
   "metadata": {},
   "outputs": [
    {
     "data": {
      "text/plain": [
       "'https://progai.prognostica.de/llama3/'"
      ]
     },
     "execution_count": 29,
     "metadata": {},
     "output_type": "execute_result"
    }
   ],
   "source": [
    "get_endpoint(\"LLAMA3\")"
   ]
  },
  {
   "cell_type": "code",
   "execution_count": 30,
   "id": "2137c43f-fd5f-446a-94a1-acd89e03c095",
   "metadata": {},
   "outputs": [
    {
     "data": {
      "text/plain": [
       "'https://progai.prognostica.de/zephyr-7b-beta/'"
      ]
     },
     "execution_count": 30,
     "metadata": {},
     "output_type": "execute_result"
    }
   ],
   "source": [
    "get_endpoint(\"ZEPHYR7B\")"
   ]
  },
  {
   "cell_type": "code",
   "execution_count": 31,
   "id": "960a81a2-81cf-48f4-a3a0-03dc048b297a",
   "metadata": {},
   "outputs": [],
   "source": [
    "base_url: str = get_endpoint(\"ZEPHYR7B\")"
   ]
  },
  {
   "cell_type": "code",
   "execution_count": 32,
   "id": "4ac4fd04-5edc-4f52-9e0c-521008aa85b5",
   "metadata": {},
   "outputs": [
    {
     "data": {
      "text/plain": [
       "'http://test'"
      ]
     },
     "execution_count": 32,
     "metadata": {},
     "output_type": "execute_result"
    }
   ],
   "source": [
    "get_endpoint(\"DOLPHIN\")"
   ]
  },
  {
   "cell_type": "code",
   "execution_count": 33,
   "id": "d4463583-e66c-4974-a30f-9f43feffb86d",
   "metadata": {},
   "outputs": [
    {
     "data": {
      "text/plain": [
       "'https://progai.prognostica.de/zephyr-7b-beta/'"
      ]
     },
     "execution_count": 33,
     "metadata": {},
     "output_type": "execute_result"
    }
   ],
   "source": [
    "get_endpoint(\"ZEPHYR7B\")"
   ]
  },
  {
   "cell_type": "code",
   "execution_count": 34,
   "id": "52dd0393-a8b9-48aa-8353-588d583b86e2",
   "metadata": {},
   "outputs": [
    {
     "ename": "ImportError",
     "evalue": "attempted relative import with no known parent package",
     "output_type": "error",
     "traceback": [
      "\u001b[0;31m---------------------------------------------------------------------------\u001b[0m",
      "\u001b[0;31mImportError\u001b[0m                               Traceback (most recent call last)",
      "File \u001b[1;32m/workspaces/langchain-progai/langchain_progai/chat/llamacpp_chat.py:10\u001b[0m\n\u001b[1;32m      7\u001b[0m \u001b[39mfrom\u001b[39;00m \u001b[39mlangchain_core\u001b[39;00m\u001b[39m.\u001b[39;00m\u001b[39moutputs\u001b[39;00m \u001b[39mimport\u001b[39;00m ChatGeneration, ChatGenerationChunk, ChatResult\n\u001b[1;32m      9\u001b[0m \u001b[39mfrom\u001b[39;00m \u001b[39mlangchain_progai\u001b[39;00m\u001b[39m.\u001b[39;00m\u001b[39mcompletion\u001b[39;00m\u001b[39m.\u001b[39;00m\u001b[39mllamacpp\u001b[39;00m \u001b[39mimport\u001b[39;00m _LlamaCppServerCommon\n\u001b[0;32m---> 10\u001b[0m \u001b[39mfrom\u001b[39;00m \u001b[39m.\u001b[39;00m\u001b[39mchat_model\u001b[39;00m \u001b[39mimport\u001b[39;00m ProgaiChatModel\n\u001b[1;32m     11\u001b[0m \u001b[39mfrom\u001b[39;00m \u001b[39mlangchain_progai\u001b[39;00m\u001b[39m.\u001b[39;00m\u001b[39mconfig\u001b[39;00m \u001b[39mimport\u001b[39;00m get_endpoint\n\u001b[1;32m     14\u001b[0m \u001b[39mdef\u001b[39;00m \u001b[39m_stream_response_to_chat_generation_chunk\u001b[39m(\n\u001b[1;32m     15\u001b[0m     stream_response: \u001b[39mstr\u001b[39m,\n\u001b[1;32m     16\u001b[0m ) \u001b[39m-\u001b[39m\u001b[39m>\u001b[39m ChatGenerationChunk:\n",
      "\u001b[0;31mImportError\u001b[0m: attempted relative import with no known parent package"
     ]
    }
   ],
   "source": [
    "import json\n",
    "import jinja2\n",
    "from typing import Any, AsyncIterator, Iterator, List, Optional\n",
    "\n",
    "from langchain_core.callbacks import AsyncCallbackManagerForLLMRun, CallbackManagerForLLMRun\n",
    "from langchain_core.messages import AIMessage, AIMessageChunk, BaseMessage\n",
    "from langchain_core.outputs import ChatGeneration, ChatGenerationChunk, ChatResult\n",
    "\n",
    "from langchain_progai.completion.llamacpp import _LlamaCppServerCommon\n",
    "from .chat_model import ProgaiChatModel\n",
    "from langchain_progai.config import get_endpoint\n",
    "\n",
    "\n",
    "def _stream_response_to_chat_generation_chunk(\n",
    "    stream_response: str,\n",
    ") -> ChatGenerationChunk:\n",
    "    \"\"\"Convert a stream response to a generation chunk.\"\"\"\n",
    "    parsed_response = json.loads(stream_response)\n",
    "    generation_info = parsed_response if parsed_response.get(\"stop\") is True else None\n",
    "    return ChatGenerationChunk(\n",
    "        message=AIMessageChunk(content=parsed_response.get(\"content\", \"\")),\n",
    "        generation_info=generation_info,\n",
    "    )\n",
    "\n",
    "\n",
    "class ChatLlamaCppServer(ProgaiChatModel, _LlamaCppServerCommon):\n",
    "    base_url: str = get_endpoint(\"ZEPHYR7B\")\n",
    "    \"\"\"Base url the model is hosted under.\"\"\"\n",
    "\n",
    "    jinja2_prompt_template: str = (\n",
    "        \"{% for m in messages %}\"\n",
    "        \"{% if m.type=='system' %}<|system|>\"\n",
    "        \"{% elif m.type=='human' %}<|user|>\"\n",
    "        \"{% else %}<|assistant|>{% endif %}\"\n",
    "        \"\\n{{ m.content }}</s> \\n{% endfor %}\"\n",
    "        \"<|assistant|>\\n{{ start }}\"\n",
    "    )\n",
    "\n",
    "    ai_message_start: str = \"\"\n",
    "    \"\"\"Force ai to start with specific string.\"\"\"\n",
    "\n",
    "    @property\n",
    "    def _llm_type(self) -> str:\n",
    "        \"\"\"Return type of chat model.\"\"\"\n",
    "        return \"zephyr-chat\"\n",
    "\n",
    "    @classmethod\n",
    "    def is_lc_serializable(cls) -> bool:\n",
    "        \"\"\"Return whether this model can be serialized by Langchain.\"\"\"\n",
    "        return True\n",
    "\n",
    "    def _prompt_from_template(self, messages: List[BaseMessage]) -> str:\n",
    "        return (\n",
    "            jinja2.Environment()\n",
    "            .from_string(self.jinja2_prompt_template)\n",
    "            .render(messages=messages, start=self.ai_message_start)\n",
    "        )\n",
    "\n",
    "    def _generate(\n",
    "        self,\n",
    "        messages: List[BaseMessage],\n",
    "        stop: Optional[List[str]] = None,\n",
    "        run_manager: Optional[CallbackManagerForLLMRun] = None,\n",
    "        **kwargs: Any,\n",
    "    ) -> ChatResult:\n",
    "        prompt = self._prompt_from_template(messages)\n",
    "        final_chunk = super()._stream_with_aggregation(\n",
    "            prompt, stop=stop, run_manager=run_manager, verbose=self.verbose, **kwargs\n",
    "        )\n",
    "        chat_generation = ChatGeneration(\n",
    "            message=AIMessage(content=final_chunk.text),\n",
    "            generation_info=final_chunk.generation_info,\n",
    "        )\n",
    "        return ChatResult(generations=[chat_generation])\n",
    "\n",
    "    def _stream(\n",
    "        self,\n",
    "        messages: List[BaseMessage],\n",
    "        stop: Optional[List[str]] = None,\n",
    "        run_manager: Optional[CallbackManagerForLLMRun] = None,\n",
    "        **kwargs: Any,\n",
    "    ) -> Iterator[ChatGenerationChunk]:\n",
    "        prompt = self._prompt_from_template(messages)\n",
    "        for stream_resp in self._create_stream(prompt, stop, **kwargs):\n",
    "            if stream_resp:\n",
    "                chunk = _stream_response_to_chat_generation_chunk(stream_resp)\n",
    "                yield chunk\n",
    "                if run_manager:\n",
    "                    run_manager.on_llm_new_token(\n",
    "                        chunk.text,\n",
    "                        verbose=self.verbose,\n",
    "                    )\n",
    "\n",
    "    async def _astream(\n",
    "        self,\n",
    "        messages: List[BaseMessage],\n",
    "        stop: Optional[List[str]] = None,\n",
    "        run_manager: Optional[AsyncCallbackManagerForLLMRun] = None,\n",
    "        **kwargs: Any,\n",
    "    ) -> AsyncIterator[ChatGenerationChunk]:\n",
    "        prompt = self._prompt_from_template(messages)\n",
    "        async for stream_resp in self._acreate_stream(prompt, stop, **kwargs):\n",
    "            if stream_resp:\n",
    "                chunk = _stream_response_to_chat_generation_chunk(stream_resp)\n",
    "                yield chunk\n",
    "                if run_manager:\n",
    "                    await run_manager.on_llm_new_token(\n",
    "                        chunk.text,\n",
    "                        verbose=self.verbose,\n",
    "                    )"
   ]
  },
  {
   "cell_type": "code",
   "execution_count": 35,
   "metadata": {},
   "outputs": [],
   "source": [
    "from langchain_progai.chat.llamacpp_chat import _LlamaCppServerCommon"
   ]
  },
  {
   "cell_type": "code",
   "execution_count": 36,
   "metadata": {},
   "outputs": [],
   "source": [
    "from langchain_progai.chat.llamacpp_chat import ChatLlamaCppServer"
   ]
  },
  {
   "cell_type": "code",
   "execution_count": 37,
   "metadata": {},
   "outputs": [
    {
     "ename": "ValidationError",
     "evalue": "1 validation error for ChatLlamaCppServer\napi_key\n  Did not find api_key, please add an environment variable `PROGAI_TOKEN` which contains it, or pass `api_key` as a named parameter. (type=value_error)",
     "output_type": "error",
     "traceback": [
      "\u001b[0;31m---------------------------------------------------------------------------\u001b[0m",
      "\u001b[0;31mValidationError\u001b[0m                           Traceback (most recent call last)",
      "Cell \u001b[0;32mIn[37], line 1\u001b[0m\n\u001b[0;32m----> 1\u001b[0m server \u001b[39m=\u001b[39m ChatLlamaCppServer()\n",
      "File \u001b[0;32m/usr/local/lib/python3.11/site-packages/pydantic/v1/main.py:341\u001b[0m, in \u001b[0;36mBaseModel.__init__\u001b[0;34m(__pydantic_self__, **data)\u001b[0m\n\u001b[1;32m    339\u001b[0m values, fields_set, validation_error \u001b[39m=\u001b[39m validate_model(__pydantic_self__\u001b[39m.\u001b[39m\u001b[39m__class__\u001b[39m, data)\n\u001b[1;32m    340\u001b[0m \u001b[39mif\u001b[39;00m validation_error:\n\u001b[0;32m--> 341\u001b[0m     \u001b[39mraise\u001b[39;00m validation_error\n\u001b[1;32m    342\u001b[0m \u001b[39mtry\u001b[39;00m:\n\u001b[1;32m    343\u001b[0m     object_setattr(__pydantic_self__, \u001b[39m'\u001b[39m\u001b[39m__dict__\u001b[39m\u001b[39m'\u001b[39m, values)\n",
      "\u001b[0;31mValidationError\u001b[0m: 1 validation error for ChatLlamaCppServer\napi_key\n  Did not find api_key, please add an environment variable `PROGAI_TOKEN` which contains it, or pass `api_key` as a named parameter. (type=value_error)"
     ]
    }
   ],
   "source": [
    "server = ChatLlamaCppServer()"
   ]
  },
  {
   "cell_type": "code",
   "execution_count": 38,
   "id": "a5492aca-7518-4338-beb4-c83b46c03619",
   "metadata": {},
   "outputs": [],
   "source": [
    "from langchain_progai.chat.llamacpp_chat import ChatLlamaCppServer\n",
    "from langchain_progai.config import get_endpoint\n",
    "\n",
    "\n",
    "class ZephyrChat(ChatLlamaCppServer):\n",
    "    base_url: str = get_endpoint(\"ZEPHYR7B\")\n",
    "    stop: list[str] | None = [\"</s>\", \"<|user|>\", \"<|assistant|>\", \"<|system|>\"]\n",
    "    jinja2_prompt_template: str = (\n",
    "        \"{% for m in messages %}\"\n",
    "        \"{% if m.type=='system' %}<|system|>\"\n",
    "        \"{% elif m.type=='human' %}<|user|>\"\n",
    "        \"{% else %}<|assistant|>{% endif %}\"\n",
    "        \"\\n{{ m.content }}</s>\\n{% endfor %}\"\n",
    "        \"<|assistant|>\\n{{ start }}\"\n",
    "    )\n",
    "\n",
    "\n",
    "class MixtralInstructChat(ChatLlamaCppServer):\n",
    "    base_url: str = get_endpoint(\"MIXTRAL\")\n",
    "    stop: list[str] | None = [\"</s>\", \"[INST]\", \"[/INST]\"]\n",
    "    jinja2_prompt_template: str = (\n",
    "        \"{% for m in messages %}\"\n",
    "        \"{% if m.type=='system' %} [INST] {{ m.content }} [/INST]\"\n",
    "        \"{% elif m.type=='human' %} [INST] {{ m.content }} [/INST]\"\n",
    "        \"{% else %} {{ m.content }}</s>{% endif %}{% endfor %}\"\n",
    "        \"{% if start %} {{ start }}{% endif %}\"\n",
    "    )\n",
    "\n",
    "\n",
    "class Llama3Chat(ChatLlamaCppServer):\n",
    "    base_url: str = get_endpoint(\"LLAMA3\")\n",
    "    stop: list[str] | None = [\n",
    "        \"</s>\",\n",
    "        \"<s>\",\n",
    "        \"<|start_header_id|>\",\n",
    "        \"<|begin_of_text|>\",\n",
    "        \"<|eot_id|>\",\n",
    "        \"<|end_header_id|>\",\n",
    "    ]\n",
    "    jinja2_prompt_template: str = (\n",
    "        \"<|begin_of_text|>{% for m in messages %}\"\n",
    "        \"<|start_header_id|>{% if m.type=='human' %}user{% else %}{{ m.type }}{% endif %}<|end_header_id|>\\n\\n\"\n",
    "        \"{{ m.content }}<|eot_id|>{% endfor %}\"\n",
    "        \"<|start_header_id|>assistant<|end_header_id|>\\n\\n{{ start }}\"\n",
    "    )"
   ]
  },
  {
   "cell_type": "code",
   "execution_count": 39,
   "metadata": {},
   "outputs": [
    {
     "ename": "ValidationError",
     "evalue": "1 validation error for MixtralInstructChat\napi_key\n  Did not find api_key, please add an environment variable `PROGAI_TOKEN` which contains it, or pass `api_key` as a named parameter. (type=value_error)",
     "output_type": "error",
     "traceback": [
      "\u001b[0;31m---------------------------------------------------------------------------\u001b[0m",
      "\u001b[0;31mValidationError\u001b[0m                           Traceback (most recent call last)",
      "Cell \u001b[0;32mIn[39], line 1\u001b[0m\n\u001b[0;32m----> 1\u001b[0m chat \u001b[39m=\u001b[39m MixtralInstructChat()\n",
      "File \u001b[0;32m/usr/local/lib/python3.11/site-packages/pydantic/v1/main.py:341\u001b[0m, in \u001b[0;36mBaseModel.__init__\u001b[0;34m(__pydantic_self__, **data)\u001b[0m\n\u001b[1;32m    339\u001b[0m values, fields_set, validation_error \u001b[39m=\u001b[39m validate_model(__pydantic_self__\u001b[39m.\u001b[39m\u001b[39m__class__\u001b[39m, data)\n\u001b[1;32m    340\u001b[0m \u001b[39mif\u001b[39;00m validation_error:\n\u001b[0;32m--> 341\u001b[0m     \u001b[39mraise\u001b[39;00m validation_error\n\u001b[1;32m    342\u001b[0m \u001b[39mtry\u001b[39;00m:\n\u001b[1;32m    343\u001b[0m     object_setattr(__pydantic_self__, \u001b[39m'\u001b[39m\u001b[39m__dict__\u001b[39m\u001b[39m'\u001b[39m, values)\n",
      "\u001b[0;31mValidationError\u001b[0m: 1 validation error for MixtralInstructChat\napi_key\n  Did not find api_key, please add an environment variable `PROGAI_TOKEN` which contains it, or pass `api_key` as a named parameter. (type=value_error)"
     ]
    }
   ],
   "source": [
    "chat = MixtralInstructChat()"
   ]
  },
  {
   "cell_type": "code",
   "execution_count": 40,
   "metadata": {},
   "outputs": [
    {
     "ename": "ValidationError",
     "evalue": "1 validation error for MixtralInstructChat\napi_key\n  Did not find api_key, please add an environment variable `PROGAI_TOKEN` which contains it, or pass `api_key` as a named parameter. (type=value_error)",
     "output_type": "error",
     "traceback": [
      "\u001b[0;31m---------------------------------------------------------------------------\u001b[0m",
      "\u001b[0;31mValidationError\u001b[0m                           Traceback (most recent call last)",
      "Cell \u001b[0;32mIn[40], line 1\u001b[0m\n\u001b[0;32m----> 1\u001b[0m chat \u001b[39m=\u001b[39m MixtralInstructChat()\n",
      "File \u001b[0;32m/usr/local/lib/python3.11/site-packages/pydantic/v1/main.py:341\u001b[0m, in \u001b[0;36mBaseModel.__init__\u001b[0;34m(__pydantic_self__, **data)\u001b[0m\n\u001b[1;32m    339\u001b[0m values, fields_set, validation_error \u001b[39m=\u001b[39m validate_model(__pydantic_self__\u001b[39m.\u001b[39m\u001b[39m__class__\u001b[39m, data)\n\u001b[1;32m    340\u001b[0m \u001b[39mif\u001b[39;00m validation_error:\n\u001b[0;32m--> 341\u001b[0m     \u001b[39mraise\u001b[39;00m validation_error\n\u001b[1;32m    342\u001b[0m \u001b[39mtry\u001b[39;00m:\n\u001b[1;32m    343\u001b[0m     object_setattr(__pydantic_self__, \u001b[39m'\u001b[39m\u001b[39m__dict__\u001b[39m\u001b[39m'\u001b[39m, values)\n",
      "\u001b[0;31mValidationError\u001b[0m: 1 validation error for MixtralInstructChat\napi_key\n  Did not find api_key, please add an environment variable `PROGAI_TOKEN` which contains it, or pass `api_key` as a named parameter. (type=value_error)"
     ]
    }
   ],
   "source": [
    "chat = MixtralInstructChat()"
   ]
  },
  {
   "cell_type": "code",
   "execution_count": 41,
   "metadata": {},
   "outputs": [],
   "source": [
    "os.environ[\"PROGAI_TOKEN\"] = \"2304b15c-6475-4d26-9637-180db42972cb\""
   ]
  },
  {
   "cell_type": "code",
   "execution_count": 42,
   "metadata": {},
   "outputs": [],
   "source": [
    "chat = MixtralInstructChat()"
   ]
  },
  {
   "cell_type": "code",
   "execution_count": 43,
   "metadata": {},
   "outputs": [
    {
     "data": {
      "text/plain": [
       "AIMessage(content=' Hallo! Ich bin ein Chatbot und heiße nicht wirklich. Ich bin hier, um Ihre Fragen zu beantworten und zu helfen, wo ich kann. Wie kann ich Ihnen behilflich sein?', response_metadata={'content': '', 'id_slot': 0, 'stop': True, 'model': 'Mixtral-8x7B-Instruct', 'tokens_predicted': 54, 'tokens_evaluated': 16, 'generation_settings': {'n_ctx': 10624, 'n_predict': -1, 'model': 'Mixtral-8x7B-Instruct', 'seed': 4294967295, 'temperature': 0.800000011920929, 'dynatemp_range': 0.0, 'dynatemp_exponent': 1.0, 'top_k': 40, 'top_p': 0.8999999761581421, 'min_p': 0.05000000074505806, 'tfs_z': 1.0, 'typical_p': 1.0, 'repeat_last_n': 64, 'repeat_penalty': 1.100000023841858, 'presence_penalty': 0.0, 'frequency_penalty': 0.0, 'penalty_prompt_tokens': [], 'use_penalty_prompt_tokens': False, 'mirostat': 0, 'mirostat_tau': 5.0, 'mirostat_eta': 0.10000000149011612, 'penalize_nl': False, 'stop': ['</s>', '[INST]', '[/INST]'], 'n_keep': 0, 'n_discard': 0, 'ignore_eos': False, 'stream': True, 'logit_bias': [], 'n_probs': 0, 'min_keep': 0, 'grammar': '', 'samplers': ['top_k', 'tfs_z', 'typical_p', 'top_p', 'min_p', 'temperature']}, 'prompt': ' [INST] Wie heißt du? [/INST]', 'truncated': False, 'stopped_eos': True, 'stopped_word': False, 'stopped_limit': False, 'stopping_word': '', 'tokens_cached': 69, 'timings': {'prompt_n': 11, 'prompt_ms': 62.831, 'prompt_per_token_ms': 5.711909090909091, 'prompt_per_second': 175.0728143750696, 'predicted_n': 54, 'predicted_ms': 705.79, 'predicted_per_token_ms': 13.070185185185185, 'predicted_per_second': 76.51001005964947}}, id='run-b8cdac96-55b5-453e-be12-d617d9348ec8-0')"
      ]
     },
     "execution_count": 43,
     "metadata": {},
     "output_type": "execute_result"
    }
   ],
   "source": [
    "chat.invoke(\"Wie heißt du?\")"
   ]
  },
  {
   "cell_type": "markdown",
   "metadata": {},
   "source": [
    "Restarted Python 3.11.7"
   ]
  },
  {
   "cell_type": "code",
   "execution_count": 1,
   "metadata": {},
   "outputs": [],
   "source": [
    "from langchain_progai.chat import Llama3Chat"
   ]
  },
  {
   "cell_type": "markdown",
   "metadata": {},
   "source": [
    "Restarted Python 3.11.7"
   ]
  },
  {
   "cell_type": "code",
   "execution_count": 1,
   "metadata": {},
   "outputs": [],
   "source": [
    "import langchain_progai.config as conf"
   ]
  },
  {
   "cell_type": "code",
   "execution_count": 2,
   "metadata": {},
   "outputs": [
    {
     "ename": "FileNotFoundError",
     "evalue": "[Errno 2] No such file or directory: '/usr/local/lib/python3.11/site-packages/langchain_progai/config/default_config.yaml'",
     "output_type": "error",
     "traceback": [
      "\u001b[0;31m---------------------------------------------------------------------------\u001b[0m",
      "\u001b[0;31mFileNotFoundError\u001b[0m                         Traceback (most recent call last)",
      "Cell \u001b[0;32mIn[2], line 1\u001b[0m\n\u001b[0;32m----> 1\u001b[0m conf\u001b[39m.\u001b[39;49mget_endpoint(\u001b[39m\"\u001b[39;49m\u001b[39mDOLPHIN\u001b[39;49m\u001b[39m\"\u001b[39;49m)\n",
      "File \u001b[0;32m/usr/local/lib/python3.11/site-packages/langchain_progai/config/config.py:66\u001b[0m, in \u001b[0;36mget_endpoint\u001b[0;34m(name, name_to_env_pattern)\u001b[0m\n\u001b[1;32m     49\u001b[0m \u001b[39mdef\u001b[39;00m \u001b[39mget_endpoint\u001b[39m(\n\u001b[1;32m     50\u001b[0m         name: \u001b[39mstr\u001b[39m,\n\u001b[1;32m     51\u001b[0m         name_to_env_pattern: Callable \u001b[39m|\u001b[39m \u001b[39mNone\u001b[39;00m \u001b[39m=\u001b[39m \u001b[39mlambda\u001b[39;00m x: \u001b[39mf\u001b[39m\u001b[39m\"\u001b[39m\u001b[39mENDPOINT_\u001b[39m\u001b[39m{\u001b[39;00mx\u001b[39m.\u001b[39mupper()\u001b[39m}\u001b[39;00m\u001b[39m\"\u001b[39m,\n\u001b[1;32m     52\u001b[0m     ) \u001b[39m-\u001b[39m\u001b[39m>\u001b[39m \u001b[39mstr\u001b[39m \u001b[39m|\u001b[39m \u001b[39mNone\u001b[39;00m:\n\u001b[1;32m     53\u001b[0m \u001b[39m    \u001b[39m\u001b[39m\"\"\"Get endpoint from environment.\u001b[39;00m\n\u001b[1;32m     54\u001b[0m \n\u001b[1;32m     55\u001b[0m \u001b[39m    Parameters\u001b[39;00m\n\u001b[0;32m   (...)\u001b[0m\n\u001b[1;32m     64\u001b[0m \u001b[39m    Endpoint url.\u001b[39;00m\n\u001b[1;32m     65\u001b[0m \u001b[39m    \"\"\"\u001b[39;00m\n\u001b[0;32m---> 66\u001b[0m     \u001b[39mreturn\u001b[39;00m os\u001b[39m.\u001b[39mgetenv(name_to_env_pattern(name) \u001b[39mif\u001b[39;00m name_to_env_pattern \u001b[39melse\u001b[39;00m name, load_config()[\u001b[39m\"\u001b[39m\u001b[39mendpoints\u001b[39m\u001b[39m\"\u001b[39m][name])\n",
      "File \u001b[0;32m/usr/local/lib/python3.11/site-packages/langchain_progai/config/config.py:43\u001b[0m, in \u001b[0;36mload_config\u001b[0;34m(path)\u001b[0m\n\u001b[1;32m     39\u001b[0m \u001b[39mif\u001b[39;00m \u001b[39mnot\u001b[39;00m path:\n\u001b[1;32m     40\u001b[0m     \u001b[39m# Fallback to default config.\u001b[39;00m\n\u001b[1;32m     41\u001b[0m     path \u001b[39m=\u001b[39m resources\u001b[39m.\u001b[39mfiles(\u001b[39m\"\u001b[39m\u001b[39mlangchain_progai\u001b[39m\u001b[39m\"\u001b[39m) \u001b[39m/\u001b[39m \u001b[39m\"\u001b[39m\u001b[39mconfig/default_config.yaml\u001b[39m\u001b[39m\"\u001b[39m\n\u001b[0;32m---> 43\u001b[0m \u001b[39mwith\u001b[39;00m \u001b[39mopen\u001b[39;49m(path, \u001b[39m'\u001b[39;49m\u001b[39mr\u001b[39;49m\u001b[39m'\u001b[39;49m) \u001b[39mas\u001b[39;00m file:\n\u001b[1;32m     44\u001b[0m     config \u001b[39m=\u001b[39m yaml\u001b[39m.\u001b[39msafe_load(file)\n\u001b[1;32m     46\u001b[0m \u001b[39mreturn\u001b[39;00m config\n",
      "\u001b[0;31mFileNotFoundError\u001b[0m: [Errno 2] No such file or directory: '/usr/local/lib/python3.11/site-packages/langchain_progai/config/default_config.yaml'"
     ]
    }
   ],
   "source": [
    "conf.get_endpoint(\"DOLPHIN\")"
   ]
  },
  {
   "cell_type": "markdown",
   "metadata": {},
   "source": [
    "Restarted Python 3.11.7"
   ]
  },
  {
   "cell_type": "code",
   "execution_count": 1,
   "metadata": {},
   "outputs": [
    {
     "ename": "FileNotFoundError",
     "evalue": "[Errno 2] No such file or directory: '/usr/local/lib/python3.11/site-packages/langchain_progai/config/default_config.yaml'",
     "output_type": "error",
     "traceback": [
      "\u001b[0;31m---------------------------------------------------------------------------\u001b[0m",
      "\u001b[0;31mFileNotFoundError\u001b[0m                         Traceback (most recent call last)",
      "Cell \u001b[0;32mIn[1], line 2\u001b[0m\n\u001b[1;32m      1\u001b[0m \u001b[39mimport\u001b[39;00m \u001b[39mlangchain_progai\u001b[39;00m\u001b[39m.\u001b[39;00m\u001b[39mconfig\u001b[39;00m \u001b[39mas\u001b[39;00m \u001b[39mconf\u001b[39;00m\n\u001b[0;32m----> 2\u001b[0m conf\u001b[39m.\u001b[39;49mget_endpoint(\u001b[39m\"\u001b[39;49m\u001b[39mDOLPHIN\u001b[39;49m\u001b[39m\"\u001b[39;49m)\n",
      "File \u001b[0;32m/usr/local/lib/python3.11/site-packages/langchain_progai/config/config.py:66\u001b[0m, in \u001b[0;36mget_endpoint\u001b[0;34m(name, name_to_env_pattern)\u001b[0m\n\u001b[1;32m     49\u001b[0m \u001b[39mdef\u001b[39;00m \u001b[39mget_endpoint\u001b[39m(\n\u001b[1;32m     50\u001b[0m         name: \u001b[39mstr\u001b[39m,\n\u001b[1;32m     51\u001b[0m         name_to_env_pattern: Callable \u001b[39m|\u001b[39m \u001b[39mNone\u001b[39;00m \u001b[39m=\u001b[39m \u001b[39mlambda\u001b[39;00m x: \u001b[39mf\u001b[39m\u001b[39m\"\u001b[39m\u001b[39mENDPOINT_\u001b[39m\u001b[39m{\u001b[39;00mx\u001b[39m.\u001b[39mupper()\u001b[39m}\u001b[39;00m\u001b[39m\"\u001b[39m,\n\u001b[1;32m     52\u001b[0m     ) \u001b[39m-\u001b[39m\u001b[39m>\u001b[39m \u001b[39mstr\u001b[39m \u001b[39m|\u001b[39m \u001b[39mNone\u001b[39;00m:\n\u001b[1;32m     53\u001b[0m \u001b[39m    \u001b[39m\u001b[39m\"\"\"Get endpoint from environment.\u001b[39;00m\n\u001b[1;32m     54\u001b[0m \n\u001b[1;32m     55\u001b[0m \u001b[39m    Parameters\u001b[39;00m\n\u001b[0;32m   (...)\u001b[0m\n\u001b[1;32m     64\u001b[0m \u001b[39m    Endpoint url.\u001b[39;00m\n\u001b[1;32m     65\u001b[0m \u001b[39m    \"\"\"\u001b[39;00m\n\u001b[0;32m---> 66\u001b[0m     \u001b[39mreturn\u001b[39;00m os\u001b[39m.\u001b[39mgetenv(name_to_env_pattern(name) \u001b[39mif\u001b[39;00m name_to_env_pattern \u001b[39melse\u001b[39;00m name, load_config()[\u001b[39m\"\u001b[39m\u001b[39mendpoints\u001b[39m\u001b[39m\"\u001b[39m][name])\n",
      "File \u001b[0;32m/usr/local/lib/python3.11/site-packages/langchain_progai/config/config.py:43\u001b[0m, in \u001b[0;36mload_config\u001b[0;34m(path)\u001b[0m\n\u001b[1;32m     39\u001b[0m \u001b[39mif\u001b[39;00m \u001b[39mnot\u001b[39;00m path:\n\u001b[1;32m     40\u001b[0m     \u001b[39m# Fallback to default config.\u001b[39;00m\n\u001b[1;32m     41\u001b[0m     path \u001b[39m=\u001b[39m resources\u001b[39m.\u001b[39mfiles(\u001b[39m\"\u001b[39m\u001b[39mlangchain_progai\u001b[39m\u001b[39m\"\u001b[39m) \u001b[39m/\u001b[39m \u001b[39m\"\u001b[39m\u001b[39mconfig/default_config.yaml\u001b[39m\u001b[39m\"\u001b[39m\n\u001b[0;32m---> 43\u001b[0m \u001b[39mwith\u001b[39;00m \u001b[39mopen\u001b[39;49m(path, \u001b[39m'\u001b[39;49m\u001b[39mr\u001b[39;49m\u001b[39m'\u001b[39;49m) \u001b[39mas\u001b[39;00m file:\n\u001b[1;32m     44\u001b[0m     config \u001b[39m=\u001b[39m yaml\u001b[39m.\u001b[39msafe_load(file)\n\u001b[1;32m     46\u001b[0m \u001b[39mreturn\u001b[39;00m config\n",
      "\u001b[0;31mFileNotFoundError\u001b[0m: [Errno 2] No such file or directory: '/usr/local/lib/python3.11/site-packages/langchain_progai/config/default_config.yaml'"
     ]
    }
   ],
   "source": [
    "import langchain_progai.config as conf\n",
    "conf.get_endpoint(\"DOLPHIN\")"
   ]
  },
  {
   "cell_type": "code",
   "execution_count": 2,
   "metadata": {},
   "outputs": [
    {
     "ename": "FileNotFoundError",
     "evalue": "[Errno 2] No such file or directory: '/usr/local/lib/python3.11/site-packages/langchain_progai/config/default_config.yaml'",
     "output_type": "error",
     "traceback": [
      "\u001b[0;31m---------------------------------------------------------------------------\u001b[0m",
      "\u001b[0;31mFileNotFoundError\u001b[0m                         Traceback (most recent call last)",
      "Cell \u001b[0;32mIn[2], line 2\u001b[0m\n\u001b[1;32m      1\u001b[0m \u001b[39mimport\u001b[39;00m \u001b[39mlangchain_progai\u001b[39;00m\u001b[39m.\u001b[39;00m\u001b[39mconfig\u001b[39;00m \u001b[39mas\u001b[39;00m \u001b[39mconf\u001b[39;00m\n\u001b[0;32m----> 2\u001b[0m conf\u001b[39m.\u001b[39;49mget_endpoint(\u001b[39m\"\u001b[39;49m\u001b[39mDOLPHIN\u001b[39;49m\u001b[39m\"\u001b[39;49m)\n",
      "File \u001b[0;32m/usr/local/lib/python3.11/site-packages/langchain_progai/config/config.py:66\u001b[0m, in \u001b[0;36mget_endpoint\u001b[0;34m(name, name_to_env_pattern)\u001b[0m\n\u001b[1;32m     49\u001b[0m \u001b[39mdef\u001b[39;00m \u001b[39mget_endpoint\u001b[39m(\n\u001b[1;32m     50\u001b[0m         name: \u001b[39mstr\u001b[39m,\n\u001b[1;32m     51\u001b[0m         name_to_env_pattern: Callable \u001b[39m|\u001b[39m \u001b[39mNone\u001b[39;00m \u001b[39m=\u001b[39m \u001b[39mlambda\u001b[39;00m x: \u001b[39mf\u001b[39m\u001b[39m\"\u001b[39m\u001b[39mENDPOINT_\u001b[39m\u001b[39m{\u001b[39;00mx\u001b[39m.\u001b[39mupper()\u001b[39m}\u001b[39;00m\u001b[39m\"\u001b[39m,\n\u001b[1;32m     52\u001b[0m     ) \u001b[39m-\u001b[39m\u001b[39m>\u001b[39m \u001b[39mstr\u001b[39m \u001b[39m|\u001b[39m \u001b[39mNone\u001b[39;00m:\n\u001b[1;32m     53\u001b[0m \u001b[39m    \u001b[39m\u001b[39m\"\"\"Get endpoint from environment.\u001b[39;00m\n\u001b[1;32m     54\u001b[0m \n\u001b[1;32m     55\u001b[0m \u001b[39m    Parameters\u001b[39;00m\n\u001b[0;32m   (...)\u001b[0m\n\u001b[1;32m     64\u001b[0m \u001b[39m    Endpoint url.\u001b[39;00m\n\u001b[1;32m     65\u001b[0m \u001b[39m    \"\"\"\u001b[39;00m\n\u001b[0;32m---> 66\u001b[0m     \u001b[39mreturn\u001b[39;00m os\u001b[39m.\u001b[39mgetenv(name_to_env_pattern(name) \u001b[39mif\u001b[39;00m name_to_env_pattern \u001b[39melse\u001b[39;00m name, load_config()[\u001b[39m\"\u001b[39m\u001b[39mendpoints\u001b[39m\u001b[39m\"\u001b[39m][name])\n",
      "File \u001b[0;32m/usr/local/lib/python3.11/site-packages/langchain_progai/config/config.py:43\u001b[0m, in \u001b[0;36mload_config\u001b[0;34m(path)\u001b[0m\n\u001b[1;32m     39\u001b[0m \u001b[39mif\u001b[39;00m \u001b[39mnot\u001b[39;00m path:\n\u001b[1;32m     40\u001b[0m     \u001b[39m# Fallback to default config.\u001b[39;00m\n\u001b[1;32m     41\u001b[0m     path \u001b[39m=\u001b[39m resources\u001b[39m.\u001b[39mfiles(\u001b[39m\"\u001b[39m\u001b[39mlangchain_progai\u001b[39m\u001b[39m\"\u001b[39m) \u001b[39m/\u001b[39m \u001b[39m\"\u001b[39m\u001b[39mconfig/default_config.yaml\u001b[39m\u001b[39m\"\u001b[39m\n\u001b[0;32m---> 43\u001b[0m \u001b[39mwith\u001b[39;00m \u001b[39mopen\u001b[39;49m(path, \u001b[39m'\u001b[39;49m\u001b[39mr\u001b[39;49m\u001b[39m'\u001b[39;49m) \u001b[39mas\u001b[39;00m file:\n\u001b[1;32m     44\u001b[0m     config \u001b[39m=\u001b[39m yaml\u001b[39m.\u001b[39msafe_load(file)\n\u001b[1;32m     46\u001b[0m \u001b[39mreturn\u001b[39;00m config\n",
      "\u001b[0;31mFileNotFoundError\u001b[0m: [Errno 2] No such file or directory: '/usr/local/lib/python3.11/site-packages/langchain_progai/config/default_config.yaml'"
     ]
    }
   ],
   "source": [
    "import langchain_progai.config as conf\n",
    "conf.get_endpoint(\"DOLPHIN\")"
   ]
  },
  {
   "cell_type": "code",
   "execution_count": 3,
   "metadata": {},
   "outputs": [],
   "source": [
    "import importlib"
   ]
  },
  {
   "cell_type": "code",
   "execution_count": 4,
   "metadata": {},
   "outputs": [
    {
     "ename": "TypeError",
     "evalue": "'module' object is not callable",
     "output_type": "error",
     "traceback": [
      "\u001b[0;31m---------------------------------------------------------------------------\u001b[0m",
      "\u001b[0;31mTypeError\u001b[0m                                 Traceback (most recent call last)",
      "Cell \u001b[0;32mIn[4], line 4\u001b[0m\n\u001b[1;32m      1\u001b[0m \u001b[39mimport\u001b[39;00m \u001b[39mimportlib\u001b[39;00m\u001b[39m.\u001b[39;00m\u001b[39mresources\u001b[39;00m\n\u001b[0;32m----> 4\u001b[0m importlib\u001b[39m.\u001b[39;49mresources(\u001b[39m\"\u001b[39;49m\u001b[39mlangchain_progai\u001b[39;49m\u001b[39m\"\u001b[39;49m)\n",
      "\u001b[0;31mTypeError\u001b[0m: 'module' object is not callable"
     ]
    }
   ],
   "source": [
    "import importlib.resources\n",
    "\n",
    "\n",
    "importlib.resources(\"langchain_progai\")"
   ]
  },
  {
   "cell_type": "code",
   "execution_count": 5,
   "metadata": {},
   "outputs": [
    {
     "data": {
      "text/plain": [
       "PosixPath('/usr/local/lib/python3.11/site-packages/langchain_progai')"
      ]
     },
     "execution_count": 5,
     "metadata": {},
     "output_type": "execute_result"
    }
   ],
   "source": [
    "import importlib.resources\n",
    "\n",
    "\n",
    "importlib.resources.files(\"langchain_progai\")"
   ]
  },
  {
   "cell_type": "code",
   "execution_count": 6,
   "metadata": {},
   "outputs": [
    {
     "data": {
      "text/plain": [
       "PosixPath('/usr/local/lib/python3.11/site-packages/langchain_progai/config')"
      ]
     },
     "execution_count": 6,
     "metadata": {},
     "output_type": "execute_result"
    }
   ],
   "source": [
    "import importlib.resources\n",
    "\n",
    "\n",
    "importlib.resources.files(\"langchain_progai\")/\"config\""
   ]
  },
  {
   "cell_type": "code",
   "execution_count": 7,
   "metadata": {},
   "outputs": [
    {
     "data": {
      "text/plain": [
       "'http://10.0.0.136:8091/completion'"
      ]
     },
     "execution_count": 7,
     "metadata": {},
     "output_type": "execute_result"
    }
   ],
   "source": [
    "import langchain_progai.config as conf\n",
    "conf.get_endpoint(\"DOLPHIN\")"
   ]
  },
  {
   "cell_type": "code",
   "execution_count": 8,
   "metadata": {},
   "outputs": [
    {
     "ename": "NameError",
     "evalue": "name 'MixtralInstructChat' is not defined",
     "output_type": "error",
     "traceback": [
      "\u001b[0;31m---------------------------------------------------------------------------\u001b[0m",
      "\u001b[0;31mNameError\u001b[0m                                 Traceback (most recent call last)",
      "Cell \u001b[0;32mIn[8], line 2\u001b[0m\n\u001b[1;32m      1\u001b[0m os\u001b[39m.\u001b[39menviron[\u001b[39m\"\u001b[39m\u001b[39mPROGAI_TOKEN\u001b[39m\u001b[39m\"\u001b[39m] \u001b[39m=\u001b[39m \u001b[39m\"\u001b[39m\u001b[39m2304b15c-6475-4d26-9637-180db42972cb\u001b[39m\u001b[39m\"\u001b[39m\n\u001b[0;32m----> 2\u001b[0m chat \u001b[39m=\u001b[39m MixtralInstructChat()\n\u001b[1;32m      3\u001b[0m chat\u001b[39m.\u001b[39minvoke(\u001b[39m\"\u001b[39m\u001b[39mSage \u001b[39m\u001b[39m'\u001b[39m\u001b[39mJA\u001b[39m\u001b[39m'\u001b[39m\u001b[39m\"\u001b[39m)\n",
      "\u001b[0;31mNameError\u001b[0m: name 'MixtralInstructChat' is not defined"
     ]
    }
   ],
   "source": [
    "os.environ[\"PROGAI_TOKEN\"] = \"2304b15c-6475-4d26-9637-180db42972cb\"\n",
    "chat = MixtralInstructChat()\n",
    "chat.invoke(\"Sage 'JA'\")"
   ]
  },
  {
   "cell_type": "code",
   "execution_count": 9,
   "metadata": {},
   "outputs": [
    {
     "ename": "ModuleNotFoundError",
     "evalue": "No module named 'langchain_progai.chat'",
     "output_type": "error",
     "traceback": [
      "\u001b[0;31m---------------------------------------------------------------------------\u001b[0m",
      "\u001b[0;31mModuleNotFoundError\u001b[0m                       Traceback (most recent call last)",
      "Cell \u001b[0;32mIn[9], line 1\u001b[0m\n\u001b[0;32m----> 1\u001b[0m \u001b[39mfrom\u001b[39;00m \u001b[39mlangchain_progai\u001b[39;00m\u001b[39m.\u001b[39;00m\u001b[39mchat\u001b[39;00m \u001b[39mimport\u001b[39;00m MixtralInstructChat\n\u001b[1;32m      2\u001b[0m os\u001b[39m.\u001b[39menviron[\u001b[39m\"\u001b[39m\u001b[39mPROGAI_TOKEN\u001b[39m\u001b[39m\"\u001b[39m] \u001b[39m=\u001b[39m \u001b[39m\"\u001b[39m\u001b[39m2304b15c-6475-4d26-9637-180db42972cb\u001b[39m\u001b[39m\"\u001b[39m\n\u001b[1;32m      3\u001b[0m chat \u001b[39m=\u001b[39m MixtralInstructChat()\n",
      "\u001b[0;31mModuleNotFoundError\u001b[0m: No module named 'langchain_progai.chat'"
     ]
    }
   ],
   "source": [
    "from langchain_progai.chat import MixtralInstructChat\n",
    "os.environ[\"PROGAI_TOKEN\"] = \"2304b15c-6475-4d26-9637-180db42972cb\"\n",
    "chat = MixtralInstructChat()\n",
    "chat.invoke(\"Sage 'JA'\")"
   ]
  },
  {
   "cell_type": "markdown",
   "metadata": {},
   "source": [
    "Restarted Python 3.11.7"
   ]
  },
  {
   "cell_type": "code",
   "execution_count": 1,
   "metadata": {},
   "outputs": [
    {
     "data": {
      "text/plain": [
       "AIMessage(content=' Hello! I am Sage, also known as JA. How can I assist you today? If you have any questions related to programming, data science, mathematics, or anything else, feel free to ask!', response_metadata={'content': '', 'id_slot': 0, 'stop': True, 'model': 'Mixtral-8x7B-Instruct', 'tokens_predicted': 45, 'tokens_evaluated': 15, 'generation_settings': {'n_ctx': 10624, 'n_predict': -1, 'model': 'Mixtral-8x7B-Instruct', 'seed': 4294967295, 'temperature': 0.800000011920929, 'dynatemp_range': 0.0, 'dynatemp_exponent': 1.0, 'top_k': 40, 'top_p': 0.8999999761581421, 'min_p': 0.05000000074505806, 'tfs_z': 1.0, 'typical_p': 1.0, 'repeat_last_n': 64, 'repeat_penalty': 1.100000023841858, 'presence_penalty': 0.0, 'frequency_penalty': 0.0, 'penalty_prompt_tokens': [], 'use_penalty_prompt_tokens': False, 'mirostat': 0, 'mirostat_tau': 5.0, 'mirostat_eta': 0.10000000149011612, 'penalize_nl': False, 'stop': ['</s>', '[INST]', '[/INST]'], 'n_keep': 0, 'n_discard': 0, 'ignore_eos': False, 'stream': True, 'logit_bias': [], 'n_probs': 0, 'min_keep': 0, 'grammar': '', 'samplers': ['top_k', 'tfs_z', 'typical_p', 'top_p', 'min_p', 'temperature']}, 'prompt': \" [INST] Sage 'JA' [/INST]\", 'truncated': False, 'stopped_eos': True, 'stopped_word': False, 'stopped_limit': False, 'stopping_word': '', 'tokens_cached': 59, 'timings': {'prompt_n': 10, 'prompt_ms': 67.247, 'prompt_per_token_ms': 6.7247, 'prompt_per_second': 148.70551846179012, 'predicted_n': 45, 'predicted_ms': 584.457, 'predicted_per_token_ms': 12.987933333333332, 'predicted_per_second': 76.99454365333976}}, id='run-1e49552c-238a-4ce2-befb-332c9622dfc8-0')"
      ]
     },
     "execution_count": 1,
     "metadata": {},
     "output_type": "execute_result"
    }
   ],
   "source": [
    "from langchain_progai.chat import MixtralInstructChat\n",
    "os.environ[\"PROGAI_TOKEN\"] = \"2304b15c-6475-4d26-9637-180db42972cb\"\n",
    "chat = MixtralInstructChat()\n",
    "chat.invoke(\"Sage 'JA'\")"
   ]
  },
  {
   "cell_type": "code",
   "execution_count": 2,
   "id": "1a664a0e-71f6-4bd8-b563-24b1798535f2",
   "metadata": {},
   "outputs": [],
   "source": [
    "import langchain_progai.chat as chat"
   ]
  },
  {
   "cell_type": "code",
   "execution_count": 3,
   "id": "9e332ea8-8e55-4c07-8e2b-a9dc571e7d23",
   "metadata": {},
   "outputs": [],
   "source": [
    "import langchain_progai.chat as chat"
   ]
  },
  {
   "cell_type": "code",
   "execution_count": 4,
   "id": "ff0f6b40-7f3b-4780-9fcb-24d907dd5f36",
   "metadata": {},
   "outputs": [
    {
     "data": {
      "text/plain": [
       "langchain_progai.chat.chat.Llama3Chat"
      ]
     },
     "execution_count": 4,
     "metadata": {},
     "output_type": "execute_result"
    }
   ],
   "source": [
    "chat.Llama3Chat"
   ]
  }
 ],
 "metadata": {
  "kernelspec": {
   "display_name": "Python 3",
   "language": "python",
   "name": "python3"
  },
  "language_info": {
   "codemirror_mode": {
    "name": "ipython",
    "version": 3
   },
   "file_extension": ".py",
   "mimetype": "text/x-python",
   "name": "python",
   "nbconvert_exporter": "python",
   "pygments_lexer": "ipython3",
   "version": "3.11.7"
  }
 },
 "nbformat": 4,
 "nbformat_minor": 2
}
